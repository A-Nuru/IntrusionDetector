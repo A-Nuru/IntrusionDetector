{
  "nbformat": 4,
  "nbformat_minor": 0,
  "metadata": {
    "colab": {
      "name": "Group137_CN7031.ipynb",
      "provenance": [],
      "collapsed_sections": []
    },
    "kernelspec": {
      "display_name": "Python 3",
      "name": "python3"
    }
  },
  "cells": [
    {
      "cell_type": "markdown",
      "metadata": {
        "id": "GdMZR-9QTwG3"
      },
      "source": [
        "\n",
        "# **Initiate and Configure Spark**\n",
        "\n",
        "---\n"
      ]
    },
    {
      "cell_type": "code",
      "metadata": {
        "colab": {
          "base_uri": "https://localhost:8080/"
        },
        "id": "2wbXV70D6xbl",
        "outputId": "cd31ae52-52dc-49bd-9a86-5402725f66cd"
      },
      "source": [
        "# setting up environment (dependencies) for spark\n",
        "!apt update\n",
        "!apt-get install openjdk-8-jdk-headless -qq > /dev/null\n",
        "!wget -q http://www-eu.apache.org/dist/spark/spark-3.0.3/spark-3.0.3-bin-hadoop2.7.tgz\n",
        "# unxip the downloaded folder \n",
        "!tar xf spark-3.0.3-bin-hadoop2.7.tgz\n",
        "!pip install -q findspark\n",
        "\n",
        "# Using operating system dependent functionality to read or write a file \n",
        "import os\n",
        "os.environ[\"JAVA_HOME\"] = \"/usr/lib/jvm/java-8-openjdk-amd64\"\n",
        "os.environ[\"SPARK_HOME\"] = \"/content/spark-3.0.3-bin-hadoop2.7\""
      ],
      "execution_count": 1,
      "outputs": [
        {
          "output_type": "stream",
          "name": "stdout",
          "text": [
            "\u001b[33m\r0% [Working]\u001b[0m\r            \rGet:1 http://security.ubuntu.com/ubuntu bionic-security InRelease [88.7 kB]\n",
            "\u001b[33m\r0% [Connecting to archive.ubuntu.com] [1 InRelease 14.2 kB/88.7 kB 16%] [Connec\u001b[0m\u001b[33m\r0% [Connecting to archive.ubuntu.com] [Connected to cloud.r-project.org (52.85.\u001b[0m\r                                                                               \rGet:2 https://cloud.r-project.org/bin/linux/ubuntu bionic-cran40/ InRelease [3,626 B]\n",
            "\u001b[33m\r0% [Connecting to archive.ubuntu.com] [Connecting to ppa.launchpad.net (91.189.\u001b[0m\u001b[33m\r0% [1 InRelease gpgv 88.7 kB] [Connecting to archive.ubuntu.com] [Connecting to\u001b[0m\r                                                                               \rIgn:3 https://developer.download.nvidia.com/compute/cuda/repos/ubuntu1804/x86_64  InRelease\n",
            "Get:4 http://ppa.launchpad.net/c2d4u.team/c2d4u4.0+/ubuntu bionic InRelease [15.9 kB]\n",
            "Ign:5 https://developer.download.nvidia.com/compute/machine-learning/repos/ubuntu1804/x86_64  InRelease\n",
            "Hit:6 http://archive.ubuntu.com/ubuntu bionic InRelease\n",
            "Get:7 https://developer.download.nvidia.com/compute/cuda/repos/ubuntu1804/x86_64  Release [696 B]\n",
            "Hit:8 https://developer.download.nvidia.com/compute/machine-learning/repos/ubuntu1804/x86_64  Release\n",
            "Get:9 https://developer.download.nvidia.com/compute/cuda/repos/ubuntu1804/x86_64  Release.gpg [836 B]\n",
            "Get:10 http://archive.ubuntu.com/ubuntu bionic-updates InRelease [88.7 kB]\n",
            "Hit:11 http://ppa.launchpad.net/cran/libgit2/ubuntu bionic InRelease\n",
            "Get:12 http://security.ubuntu.com/ubuntu bionic-security/main amd64 Packages [2,461 kB]\n",
            "Get:13 http://ppa.launchpad.net/deadsnakes/ppa/ubuntu bionic InRelease [15.9 kB]\n",
            "Get:14 http://archive.ubuntu.com/ubuntu bionic-backports InRelease [74.6 kB]\n",
            "Get:15 http://security.ubuntu.com/ubuntu bionic-security/restricted amd64 Packages [691 kB]\n",
            "Get:16 http://security.ubuntu.com/ubuntu bionic-security/universe amd64 Packages [1,452 kB]\n",
            "Hit:17 http://ppa.launchpad.net/graphics-drivers/ppa/ubuntu bionic InRelease\n",
            "Get:18 https://cloud.r-project.org/bin/linux/ubuntu bionic-cran40/ Packages [73.9 kB]\n",
            "Get:19 http://ppa.launchpad.net/c2d4u.team/c2d4u4.0+/ubuntu bionic/main Sources [1,821 kB]\n",
            "Get:21 https://developer.download.nvidia.com/compute/cuda/repos/ubuntu1804/x86_64  Packages [833 kB]\n",
            "Get:22 http://ppa.launchpad.net/c2d4u.team/c2d4u4.0+/ubuntu bionic/main amd64 Packages [934 kB]\n",
            "Get:23 http://archive.ubuntu.com/ubuntu bionic-updates/universe amd64 Packages [2,230 kB]\n",
            "Get:24 http://archive.ubuntu.com/ubuntu bionic-updates/main amd64 Packages [2,898 kB]\n",
            "Get:25 http://archive.ubuntu.com/ubuntu bionic-backports/main amd64 Packages [11.6 kB]\n",
            "Get:26 http://archive.ubuntu.com/ubuntu bionic-backports/universe amd64 Packages [12.6 kB]\n",
            "Get:27 http://ppa.launchpad.net/deadsnakes/ppa/ubuntu bionic/main amd64 Packages [45.3 kB]\n",
            "Fetched 13.8 MB in 5s (2,935 kB/s)\n",
            "Reading package lists... Done\n",
            "Building dependency tree       \n",
            "Reading state information... Done\n",
            "85 packages can be upgraded. Run 'apt list --upgradable' to see them.\n"
          ]
        }
      ]
    },
    {
      "cell_type": "code",
      "metadata": {
        "id": "VK1JqzCO6-D9"
      },
      "source": [
        "import findspark\n",
        "findspark.init()"
      ],
      "execution_count": null,
      "outputs": []
    },
    {
      "cell_type": "code",
      "metadata": {
        "id": "1sA17GhDWA-7"
      },
      "source": [
        "# importing the required libraries\n",
        "from pyspark.sql import SparkSession, Row\n",
        "from pyspark.sql.functions import sum, isnan, count, when, col, desc, udf, col, sort_array, asc, avg\n",
        "from pyspark.sql.window import Window\n",
        "from pyspark.sql.types import IntegerType\n",
        "#from pyspark.ml.feature import CountVectorizer, IDF, PCA, RegexTokenizer, StopWordsRemover\n",
        "#from pyspark.ml.feature import HashingTF, Tokenizer\n",
        "from pyspark.ml.feature import OneHotEncoder, StringIndexer, VectorAssembler, Normalizer,StandardScaler\n",
        "from pyspark.ml.regression import LinearRegression\n",
        "from pyspark.ml.tuning import CrossValidator, ParamGridBuilder\n",
        "from pyspark.ml import Pipeline\n",
        "from pyspark.ml.classification import LogisticRegression, DecisionTreeClassifier\n",
        "from pyspark.ml.tuning import CrossValidator, ParamGridBuilder\n",
        "from pyspark.ml.stat import Correlation, ChiSquareTest\n",
        "from pyspark.ml.evaluation import MulticlassClassificationEvaluator\n",
        "\n",
        "from functools import reduce\n",
        "from pyspark.sql import DataFrame\n",
        "from pyspark.sql import functions as f\n",
        "\n",
        "from pyspark.ml.clustering import KMeans\n",
        "from pyspark.ml.feature import VectorAssembler\n",
        "\n",
        "from IPython.display import display\n",
        "\n",
        "# importing the visualisation libraries\n",
        "import pandas as pd\n",
        "import numpy as np\n",
        "import numpy as numpy\n",
        "import matplotlib.pyplot as plt\n",
        "import seaborn as sb\n",
        "import seaborn as sns\n",
        "import pylab\n",
        "\n",
        "%matplotlib inline"
      ],
      "execution_count": null,
      "outputs": []
    },
    {
      "cell_type": "code",
      "metadata": {
        "id": "_z0p88Xtw_3-"
      },
      "source": [
        "# linking with SparkSession\n",
        "from pyspark.sql import SparkSession\n",
        "spark = SparkSession.builder.master(\"local[*]\").appName('Group 137').getOrCreate()\n",
        "\n",
        "# Note: If you want to work with RDD, you should use: \"from pyspark import SparkContext, SparkConf\""
      ],
      "execution_count": null,
      "outputs": []
    },
    {
      "cell_type": "markdown",
      "metadata": {
        "id": "6P2CZVl6TOQX"
      },
      "source": [
        "\n",
        "# **Load Data**\n",
        "\n",
        "---\n"
      ]
    },
    {
      "cell_type": "code",
      "metadata": {
        "id": "JPYL0Xou8lKv"
      },
      "source": [
        "# Load Data\n",
        "df1 = spark.read.load(\"02-14-2018.csv\", format=\"csv\", inferSchema=True, header=True)\n",
        "df2 = spark.read.load(\"02-15-2018.csv\", format=\"csv\", inferSchema=True, header=True)\n",
        "df3 = spark.read.load(\"02-16-2018.csv\", format=\"csv\", inferSchema=True, header=True)\n",
        "df4 = spark.read.load(\"02-21-2018.csv\", format=\"csv\", inferSchema=True, header=True)\n",
        "df5 = spark.read.load(\"02-22-2018.csv\", format=\"csv\", inferSchema=True, header=True)\n",
        "df6 = spark.read.load(\"02-23-2018.csv\", format=\"csv\", inferSchema=True, header=True)\n",
        "df7 = spark.read.load(\"02-28-2018.csv\", format=\"csv\", inferSchema=True, header=True)\n",
        "df8 = spark.read.load(\"03-01-2018.csv\", format=\"csv\", inferSchema=True, header=True)\n",
        "df9 = spark.read.load(\"03-02-2018.csv\", format=\"csv\", inferSchema=True, header=True)\n"
      ],
      "execution_count": null,
      "outputs": []
    },
    {
      "cell_type": "code",
      "metadata": {
        "id": "9lCpIyTZ4-sH"
      },
      "source": [
        "# Create a list of dataframes\n",
        "dfs = [df1, df2, df3, df4, df5, df6, df7, df8, df9]\n",
        "\n",
        "# Create a merged dataframe\n",
        "IDS_df = reduce(DataFrame.unionAll, dfs)"
      ],
      "execution_count": null,
      "outputs": []
    },
    {
      "cell_type": "code",
      "metadata": {
        "colab": {
          "base_uri": "https://localhost:8080/"
        },
        "id": "ZGumwGzn9_7y",
        "outputId": "0afd9872-18a8-448a-ab0e-0253f2d1bb30"
      },
      "source": [
        "# Print DF to make sure it is working\n",
        "IDS_df.show()"
      ],
      "execution_count": null,
      "outputs": [
        {
          "output_type": "stream",
          "name": "stdout",
          "text": [
            "+--------+--------+-------------------+-------------+------------+------------+---------------+---------------+---------------+---------------+----------------+---------------+---------------+---------------+----------------+---------------+---------------+-------------+----------------+----------------+------------+------------+------------+----------------+----------------+-----------+-----------+-----------+----------------+----------------+-----------+-----------+-------------+-------------+-------------+-------------+--------------+--------------+-------------+------------+-----------+-----------+--------------+--------------+----------------+------------+------------+------------+------------+------------+------------+--------------+------------+-------------+--------------+----------------+----------------+--------------+--------------+----------------+--------------+--------------+----------------+----------------+----------------+----------------+----------------+-----------------+-----------------+-----------------+----------------+-----------+----------+----------+----------+------------+--------------+-----------+-----------+------+\n",
            "|Dst Port|Protocol|          Timestamp|Flow Duration|Tot Fwd Pkts|Tot Bwd Pkts|TotLen Fwd Pkts|TotLen Bwd Pkts|Fwd Pkt Len Max|Fwd Pkt Len Min|Fwd Pkt Len Mean|Fwd Pkt Len Std|Bwd Pkt Len Max|Bwd Pkt Len Min|Bwd Pkt Len Mean|Bwd Pkt Len Std|    Flow Byts/s|  Flow Pkts/s|   Flow IAT Mean|    Flow IAT Std|Flow IAT Max|Flow IAT Min| Fwd IAT Tot|    Fwd IAT Mean|     Fwd IAT Std|Fwd IAT Max|Fwd IAT Min|Bwd IAT Tot|    Bwd IAT Mean|     Bwd IAT Std|Bwd IAT Max|Bwd IAT Min|Fwd PSH Flags|Bwd PSH Flags|Fwd URG Flags|Bwd URG Flags|Fwd Header Len|Bwd Header Len|   Fwd Pkts/s|  Bwd Pkts/s|Pkt Len Min|Pkt Len Max|  Pkt Len Mean|   Pkt Len Std|     Pkt Len Var|FIN Flag Cnt|SYN Flag Cnt|RST Flag Cnt|PSH Flag Cnt|ACK Flag Cnt|URG Flag Cnt|CWE Flag Count|ECE Flag Cnt|Down/Up Ratio|  Pkt Size Avg|Fwd Seg Size Avg|Bwd Seg Size Avg|Fwd Byts/b Avg|Fwd Pkts/b Avg|Fwd Blk Rate Avg|Bwd Byts/b Avg|Bwd Pkts/b Avg|Bwd Blk Rate Avg|Subflow Fwd Pkts|Subflow Fwd Byts|Subflow Bwd Pkts|Subflow Bwd Byts|Init Fwd Win Byts|Init Bwd Win Byts|Fwd Act Data Pkts|Fwd Seg Size Min|Active Mean|Active Std|Active Max|Active Min|   Idle Mean|      Idle Std|   Idle Max|   Idle Min| Label|\n",
            "+--------+--------+-------------------+-------------+------------+------------+---------------+---------------+---------------+---------------+----------------+---------------+---------------+---------------+----------------+---------------+---------------+-------------+----------------+----------------+------------+------------+------------+----------------+----------------+-----------+-----------+-----------+----------------+----------------+-----------+-----------+-------------+-------------+-------------+-------------+--------------+--------------+-------------+------------+-----------+-----------+--------------+--------------+----------------+------------+------------+------------+------------+------------+------------+--------------+------------+-------------+--------------+----------------+----------------+--------------+--------------+----------------+--------------+--------------+----------------+----------------+----------------+----------------+----------------+-----------------+-----------------+-----------------+----------------+-----------+----------+----------+----------+------------+--------------+-----------+-----------+------+\n",
            "|       0|       0|14/02/2018 08:31:01|    112641719|           3|           0|              0|            0.0|              0|              0|             0.0|            0.0|              0|              0|             0.0|            0.0|            0.0| 0.0266331163|    5.63208595E7|  139.3000358938| 5.6320958E7| 5.6320761E7|1.12641719E8|    5.63208595E7|  139.3000358938|5.6320958E7|5.6320761E7|        0.0|             0.0|             0.0|        0.0|        0.0|            0|            0|            0|            0|             0|             0| 0.0266331163|         0.0|          0|          0|           0.0|           0.0|             0.0|           0|           0|           0|           0|           0|           0|             0|           0|            0|           0.0|             0.0|             0.0|             0|             0|               0|             0|             0|               0|               3|               0|               0|               0|               -1|               -1|                0|               0|        0.0|       0.0|       0.0|       0.0|5.63208595E7|139.3000358938|5.6320958E7|5.6320761E7|Benign|\n",
            "|       0|       0|14/02/2018 08:33:50|    112641466|           3|           0|              0|            0.0|              0|              0|             0.0|            0.0|              0|              0|             0.0|            0.0|            0.0| 0.0266331761|     5.6320733E7|  114.5512985522| 5.6320814E7| 5.6320652E7|1.12641466E8|     5.6320733E7|  114.5512985522|5.6320814E7|5.6320652E7|        0.0|             0.0|             0.0|        0.0|        0.0|            0|            0|            0|            0|             0|             0| 0.0266331761|         0.0|          0|          0|           0.0|           0.0|             0.0|           0|           0|           0|           0|           0|           0|             0|           0|            0|           0.0|             0.0|             0.0|             0|             0|               0|             0|             0|               0|               3|               0|               0|               0|               -1|               -1|                0|               0|        0.0|       0.0|       0.0|       0.0| 5.6320733E7|114.5512985522|5.6320814E7|5.6320652E7|Benign|\n",
            "|       0|       0|14/02/2018 08:36:39|    112638623|           3|           0|              0|            0.0|              0|              0|             0.0|            0.0|              0|              0|             0.0|            0.0|            0.0| 0.0266338483|    5.63193115E7|  301.9345955667| 5.6319525E7| 5.6319098E7|1.12638623E8|    5.63193115E7|  301.9345955667|5.6319525E7|5.6319098E7|        0.0|             0.0|             0.0|        0.0|        0.0|            0|            0|            0|            0|             0|             0| 0.0266338483|         0.0|          0|          0|           0.0|           0.0|             0.0|           0|           0|           0|           0|           0|           0|             0|           0|            0|           0.0|             0.0|             0.0|             0|             0|               0|             0|             0|               0|               3|               0|               0|               0|               -1|               -1|                0|               0|        0.0|       0.0|       0.0|       0.0|5.63193115E7|301.9345955667|5.6319525E7|5.6319098E7|Benign|\n",
            "|      22|       6|14/02/2018 08:40:13|      6453966|          15|          10|           1239|         2273.0|            744|              0|            82.6| 196.7412368715|            976|              0|           227.3| 371.6778922072| 544.1615279659| 3.8735871865|       268915.25|247443.778966007|    673900.0|        22.0|   6453966.0|460997.571428571|123109.423587757|   673900.0|   229740.0|  5637902.0|626433.555555556| 455082.21422401|  1167293.0|      554.0|            0|            0|            0|            0|           488|           328| 2.3241523119|1.5494348746|          0|        976|135.0769230769|277.8347599674|77192.1538461539|           0|           0|           0|           1|           0|           0|             0|           0|            0|        140.48|            82.6|           227.3|             0|             0|               0|             0|             0|               0|              15|            1239|              10|            2273|            65535|              233|                6|              32|        0.0|       0.0|       0.0|       0.0|         0.0|           0.0|        0.0|        0.0|Benign|\n",
            "|      22|       6|14/02/2018 08:40:23|      8804066|          14|          11|           1143|         2209.0|            744|              0|   81.6428571429| 203.7455453568|            976|              0|  200.8181818182| 362.2498635422| 380.7331748762|  2.839597068|366836.083333333|511356.609732762|   1928102.0|        21.0|   8804066.0|677235.846153846|532416.970958985|  1928102.0|   246924.0|  7715481.0|        771548.1|755543.082716951|  2174893.0|       90.0|            0|            0|            0|            0|           456|           360| 1.5901743581|1.2494227099|          0|        976|128.9230769231|279.7630315931|78267.3538461539|           0|           0|           0|           1|           0|           0|             0|           0|            0|        134.08|   81.6428571429|  200.8181818182|             0|             0|               0|             0|             0|               0|              14|            1143|              11|            2209|             5808|              233|                6|              32|        0.0|       0.0|       0.0|       0.0|         0.0|           0.0|        0.0|        0.0|Benign|\n",
            "|      22|       6|14/02/2018 08:40:31|      6989341|          16|          12|           1239|         2273.0|            744|              0|         77.4375| 190.8311535538|            976|              0|  189.4166666667| 347.6425694023| 502.4794183028| 4.0061001459|258864.481481481| 291724.14791076|    951098.0|        20.0|   6989341.0|465956.066666667|244363.896416351|   951098.0|   265831.0|  5980598.0|543690.727272727|460713.519752371|  1254338.0|       78.0|            0|            0|            0|            0|           332|           252| 2.2892000834|1.7169000625|          0|        976|121.1034482759|265.7086676402|70601.0960591133|           0|           0|           0|           1|           0|           0|             0|           0|            0|125.4285714286|         77.4375|  189.4166666667|             0|             0|               0|             0|             0|               0|              16|            1239|              12|            2273|             5808|              234|                7|              20|        0.0|       0.0|       0.0|       0.0|         0.0|           0.0|        0.0|        0.0|Benign|\n",
            "|       0|       0|14/02/2018 08:39:28|    112640480|           3|           0|              0|            0.0|              0|              0|             0.0|            0.0|              0|              0|             0.0|            0.0|            0.0| 0.0266334092|      5.632024E7|  203.6467529817| 5.6320384E7| 5.6320096E7| 1.1264048E8|      5.632024E7|  203.6467529817|5.6320384E7|5.6320096E7|        0.0|             0.0|             0.0|        0.0|        0.0|            0|            0|            0|            0|             0|             0| 0.0266334092|         0.0|          0|          0|           0.0|           0.0|             0.0|           0|           0|           0|           0|           0|           0|             0|           0|            0|           0.0|             0.0|             0.0|             0|             0|               0|             0|             0|               0|               3|               0|               0|               0|               -1|               -1|                0|               0|        0.0|       0.0|       0.0|       0.0|  5.632024E7|203.6467529817|5.6320384E7|5.6320096E7|Benign|\n",
            "|       0|       0|14/02/2018 08:42:17|    112641244|           3|           0|              0|            0.0|              0|              0|             0.0|            0.0|              0|              0|             0.0|            0.0|            0.0| 0.0266332286|     5.6320622E7|   62.2253967444| 5.6320666E7| 5.6320578E7|1.12641244E8|     5.6320622E7|   62.2253967444|5.6320666E7|5.6320578E7|        0.0|             0.0|             0.0|        0.0|        0.0|            0|            0|            0|            0|             0|             0| 0.0266332286|         0.0|          0|          0|           0.0|           0.0|             0.0|           0|           0|           0|           0|           0|           0|             0|           0|            0|           0.0|             0.0|             0.0|             0|             0|               0|             0|             0|               0|               3|               0|               0|               0|               -1|               -1|                0|               0|        0.0|       0.0|       0.0|       0.0| 5.6320622E7| 62.2253967444|5.6320666E7|5.6320578E7|Benign|\n",
            "|      80|       6|14/02/2018 08:47:14|       476513|           5|           3|            211|          463.0|            211|              0|            42.2|  94.3620686505|            463|              0|  154.3333333333| 267.3131746348|1414.4419984345|16.7886290615|68073.2857142857|115865.792656438|    237711.0|        24.0|    476513.0|       119128.25|137379.963358017|   238470.0|      108.0|   238634.0|        119317.0|167621.076693833|   237843.0|      791.0|            0|            0|            0|            0|           168|           104|10.4928931635|6.2957358981|          0|        463| 74.8888888889|161.4058893322|26051.8611111111|           0|           0|           0|           1|           0|           0|             0|           0|            0|         84.25|            42.2|  154.3333333333|             0|             0|               0|             0|             0|               0|               5|             211|               3|             463|            14600|              219|                1|              32|        0.0|       0.0|       0.0|       0.0|         0.0|           0.0|        0.0|        0.0|Benign|\n",
            "|      80|       6|14/02/2018 08:47:15|       475048|           5|           3|            220|          472.0|            220|              0|            44.0|    98.38699101|            472|              0|  157.3333333333| 272.5093270575|1456.6949024099|16.8404034961|         67864.0|115746.933154476|    237494.0|        15.0|    475048.0|        118762.0|137096.759626185|   237853.0|       15.0|   237516.0|        118758.0|167472.584269784|   237179.0|      337.0|            0|            0|            0|            0|           168|           104| 10.525252185| 6.315151311|          0|        472| 76.8888888889|165.0669897681|27247.1111111111|           0|           0|           0|           1|           0|           0|             0|           0|            0|          86.5|            44.0|  157.3333333333|             0|             0|               0|             0|             0|               0|               5|             220|               3|             472|            14600|              219|                1|              32|        0.0|       0.0|       0.0|       0.0|         0.0|           0.0|        0.0|        0.0|Benign|\n",
            "|      80|       6|14/02/2018 08:47:15|       474926|           5|           3|            220|          472.0|            220|              0|            44.0|    98.38699101|            472|              0|  157.3333333333| 272.5093270575|1457.0691012916|16.8447294947|67846.5714285714|115645.740842248|    237162.0|        15.0|    474926.0|        118731.5|136923.365842601|   237497.0|       15.0|   237732.0|        118866.0|167663.503100705|   237422.0|      310.0|            0|            0|            0|            0|           168|           104|10.5279559342|6.3167735605|          0|        472| 76.8888888889|165.0669897681|27247.1111111111|           0|           0|           0|           1|           0|           0|             0|           0|            0|          86.5|            44.0|  157.3333333333|             0|             0|               0|             0|             0|               0|               5|             220|               3|             472|            14480|              219|                1|              32|        0.0|       0.0|       0.0|       0.0|         0.0|           0.0|        0.0|        0.0|Benign|\n",
            "|      80|       6|14/02/2018 08:47:16|       477471|           5|           3|            209|          461.0|            209|              0|            41.8|  93.4676414595|            461|              0|  153.6666666667| 266.1584740964|1403.2265833946|16.7549442793|68210.1428571429|116178.228792989|    238389.0|        17.0|    477471.0|       119367.75|137516.508224467|   238515.0|      149.0|   238887.0|        119443.5|168454.755588852|   238559.0|      328.0|            0|            0|            0|            0|           168|           104|10.4718401746|6.2831041048|          0|        461| 74.4444444444|160.5942955954|25790.5277777778|           0|           0|           0|           1|           0|           0|             0|           0|            0|         83.75|            41.8|  153.6666666667|             0|             0|               0|             0|             0|               0|               5|             209|               3|             461|            14480|              219|                1|              32|        0.0|       0.0|       0.0|       0.0|         0.0|           0.0|        0.0|        0.0|Benign|\n",
            "|      80|       6|14/02/2018 08:47:16|       512758|           5|           3|            211|          463.0|            211|              0|            42.2|  94.3620686505|            463|              0|  154.3333333333| 267.3131746348|1314.4602327024|15.6019018718|73251.1428571429|124959.473740394|    256188.0|        10.0|    512758.0|        128189.5|148006.106082373|   256523.0|       10.0|   256563.0|        128281.5|180935.190276795|   256222.0|      341.0|            0|            0|            0|            0|           168|           104| 9.7511886699|5.8507132019|          0|        463| 74.8888888889|161.4058893322|26051.8611111111|           0|           0|           0|           1|           0|           0|             0|           0|            0|         84.25|            42.2|  154.3333333333|             0|             0|               0|             0|             0|               0|               5|             211|               3|             463|            14480|              219|                1|              32|        0.0|       0.0|       0.0|       0.0|         0.0|           0.0|        0.0|        0.0|Benign|\n",
            "|      80|       6|14/02/2018 08:47:17|       476711|           5|           3|            206|          458.0|            206|              0|            41.2|   92.126000673|            458|              0|  152.6666666667| 264.4264232888|1392.8774456641|16.7816559719|68101.5714285714|115977.215079597|    238034.0|        16.0|    476711.0|       119177.75| 137207.36560009|   238274.0|       78.0|   238033.0|        119016.5|168007.864103143|   237816.0|      217.0|            0|            0|            0|            0|           168|           104|10.4885349824|6.2931209894|          0|        458| 73.7777777778|159.3783060659|25401.4444444444|           0|           0|           0|           1|           0|           0|             0|           0|            0|          83.0|            41.2|  152.6666666667|             0|             0|               0|             0|             0|               0|               5|             206|               3|             458|            14480|              219|                1|              32|        0.0|       0.0|       0.0|       0.0|         0.0|           0.0|        0.0|        0.0|Benign|\n",
            "|      80|       6|14/02/2018 08:47:17|       476616|           5|           3|            211|          463.0|            211|              0|            42.2|  94.3620686505|            463|              0|  154.3333333333| 267.3131746348|1414.1363277775|16.7850009232|         68088.0|115553.073301117|    237285.0|         8.0|    476616.0|        119154.0|136576.972942001|   237558.0|        8.0|   237660.0|        118830.0|167563.093937776|   237315.0|      345.0|            0|            0|            0|            0|           168|           104| 10.490625577|6.2943753462|          0|        463| 74.8888888889|161.4058893322|26051.8611111111|           0|           0|           0|           1|           0|           0|             0|           0|            0|         84.25|            42.2|  154.3333333333|             0|             0|               0|             0|             0|               0|               5|             211|               3|             463|            14480|              219|                1|              32|        0.0|       0.0|       0.0|       0.0|         0.0|           0.0|        0.0|        0.0|Benign|\n",
            "|      80|       6|14/02/2018 08:47:18|       477161|           5|           3|            211|          463.0|            211|              0|            42.2|  94.3620686505|            463|              0|  154.3333333333| 267.3131746348|1412.5211406632|16.7658295628|68165.8571428572|116324.530541969|    238504.0|        12.0|    477161.0|       119290.25|137729.560342905|   238719.0|       12.0|   238618.0|        119309.0|168449.805841384|   238421.0|      197.0|            0|            0|            0|            0|           168|           104|10.4786434767| 6.287186086|          0|        463| 74.8888888889|161.4058893322|26051.8611111111|           0|           0|           0|           1|           0|           0|             0|           0|            0|         84.25|            42.2|  154.3333333333|             0|             0|               0|             0|             0|               0|               5|             211|               3|             463|            14480|              219|                1|              32|        0.0|       0.0|       0.0|       0.0|         0.0|           0.0|        0.0|        0.0|Benign|\n",
            "|      80|       6|14/02/2018 08:47:18|       474670|           5|           3|            214|          466.0|            214|              0|            42.8|   95.703709437|            466|              0|  155.3333333333| 269.0452254424|1432.5742094508|16.8538142288|         67810.0|115371.262364883|    236717.0|        15.0|    474670.0|        118667.5|136423.221362787|   236894.0|       55.0|   236992.0|        118496.0| 167297.22178805|   236793.0|      199.0|            0|            0|            0|            0|           168|           104| 10.533633893|6.3201803358|          0|        466| 75.5555555556|162.6246530443|26446.7777777778|           0|           0|           0|           1|           0|           0|             0|           0|            0|          85.0|            42.8|  155.3333333333|             0|             0|               0|             0|             0|               0|               5|             214|               3|             466|            14480|              219|                1|              32|        0.0|       0.0|       0.0|       0.0|         0.0|           0.0|        0.0|        0.0|Benign|\n",
            "|      80|       6|14/02/2018 08:47:19|       476608|           5|           3|            209|          461.0|            209|              0|            41.8|  93.4676414595|            461|              0|  153.6666666667| 266.1584740964|1405.7674231234|16.7852826642|68086.8571428572|116165.357657993|    238154.0|        21.0|    476608.0|        119152.0|137536.399945614|   238349.0|       28.0|   238442.0|        119221.0|168305.556058022|   238231.0|      211.0|            0|            0|            0|            0|           168|           104|10.4908016651|6.2944809991|          0|        461| 74.4444444444|160.5942955954|25790.5277777778|           0|           0|           0|           1|           0|           0|             0|           0|            0|         83.75|            41.8|  153.6666666667|             0|             0|               0|             0|             0|               0|               5|             209|               3|             461|            14480|              219|                1|              32|        0.0|       0.0|       0.0|       0.0|         0.0|           0.0|        0.0|        0.0|Benign|\n",
            "|      80|       6|14/02/2018 08:47:19|       479249|           5|           3|            215|          467.0|            215|              0|            43.0|  96.1509230325|            467|              0|  155.6666666667| 269.6225757116|1423.0598290242|16.6927839182|68464.1428571429|116522.185511928|    239061.0|        18.0|    479249.0|       119812.25|137797.592674606|   239270.0|       21.0|   239238.0|        119619.0|168903.768394906|   239052.0|      186.0|            0|            0|            0|            0|           168|           104|10.4329899489|6.2597939693|          0|        467| 75.7777777778|163.0312683029|26579.1944444444|           0|           0|           0|           1|           0|           0|             0|           0|            0|         85.25|            43.0|  155.6666666667|             0|             0|               0|             0|             0|               0|               5|             215|               3|             467|            14480|              219|                1|              32|        0.0|       0.0|       0.0|       0.0|         0.0|           0.0|        0.0|        0.0|Benign|\n",
            "|      80|       6|14/02/2018 08:47:20|       475967|           5|           3|            215|          467.0|            215|              0|            43.0|  96.1509230325|            467|              0|  155.6666666667| 269.6225757116|1432.8724470394|16.8078879418|67995.2857142857|115929.081086548|    237703.0|        16.0|    475967.0|       118991.75|137195.538016305|   237904.0|       21.0|   237915.0|        118957.5|167975.337191208|   237734.0|      181.0|            0|            0|            0|            0|           168|           104|10.5049299636|6.3029579782|          0|        467| 75.7777777778|163.0312683029|26579.1944444444|           0|           0|           0|           1|           0|           0|             0|           0|            0|         85.25|            43.0|  155.6666666667|             0|             0|               0|             0|             0|               0|               5|             215|               3|             467|            14480|              219|                1|              32|        0.0|       0.0|       0.0|       0.0|         0.0|           0.0|        0.0|        0.0|Benign|\n",
            "+--------+--------+-------------------+-------------+------------+------------+---------------+---------------+---------------+---------------+----------------+---------------+---------------+---------------+----------------+---------------+---------------+-------------+----------------+----------------+------------+------------+------------+----------------+----------------+-----------+-----------+-----------+----------------+----------------+-----------+-----------+-------------+-------------+-------------+-------------+--------------+--------------+-------------+------------+-----------+-----------+--------------+--------------+----------------+------------+------------+------------+------------+------------+------------+--------------+------------+-------------+--------------+----------------+----------------+--------------+--------------+----------------+--------------+--------------+----------------+----------------+----------------+----------------+----------------+-----------------+-----------------+-----------------+----------------+-----------+----------+----------+----------+------------+--------------+-----------+-----------+------+\n",
            "only showing top 20 rows\n",
            "\n"
          ]
        }
      ]
    },
    {
      "cell_type": "code",
      "metadata": {
        "id": "IYTBv2s0A9Lx"
      },
      "source": [
        "# renaming columns\n",
        "IDS_df2 = IDS_df.withColumnRenamed(\"Dst Port\",\"dst_port\").withColumnRenamed(\"Protocol\",\"protocol\").withColumnRenamed(\"Timestamp\",\"timestamp\").withColumnRenamed(\"Flow Duration\",\"fl_dur\").withColumnRenamed(\"Tot Fwd Pkts\",\"tot_fw_pk\").withColumnRenamed(\"Tot Bwd Pkts\",\"tot_bw_pk\").withColumnRenamed(\"TotLen Fwd Pkts\",\"tot_l_fw_pkt\").withColumnRenamed(\"TotLen Bwd Pkts\",\"tot_l_bwd_pkt \").withColumnRenamed(\"Fwd Pkt Len Max\",\"fw_pkt_l_max\").withColumnRenamed(\"Fwd Pkt Len Min\",\"fw_pkt_l_min\").withColumnRenamed(\"Fwd Pkt Len Mean\",\"fw_pkt_l_avg\").withColumnRenamed(\"Fwd Pkt Len Std\",\"fw_pkt_l_std\").withColumnRenamed(\"Bwd Pkt Len Max\",\"Bw_pkt_l_max\").withColumnRenamed(\"Bwd Pkt Len Min\",\"Bw_pkt_l_min\").withColumnRenamed(\"Bwd Pkt Len Mean\",\"Bw_pkt_l_avg\").withColumnRenamed(\"Bwd Pkt Len Std\",\"Bw_pkt_l_std\").withColumnRenamed(\"Flow Byts/s\",\"fl_byt_s\").withColumnRenamed(\"Flow Pkts/s\",\"fl_pkt_s\").withColumnRenamed(\"Flow IAT Mean\",\"fl_iat_avg\").withColumnRenamed(\"Flow IAT Std\",\"fl_iat_std\").withColumnRenamed(\"Flow IAT Max\", \"fl_iat_max\").withColumnRenamed(\"Flow IAT Min\",\"fl_iat_min\").withColumnRenamed(\"Fwd IAT Tot\",\"fw_iat_tot\").withColumnRenamed(\"Fwd IAT Mean\",\"fw_iat_avg\").withColumnRenamed(\"Fwd IAT Std\",\"fw_iat_std\").withColumnRenamed(\"Fwd IAT Max\",\"fw_iat_max\").withColumnRenamed(\"Fwd IAT Min\",\"fw_iat_min\").withColumnRenamed(\"Bwd IAT Tot\",\"bw_iat_tot\").withColumnRenamed(\"Bwd IAT Mean\",\"bw_iat_avg\").withColumnRenamed(\"Bwd IAT Std\",\"bw_iat_std\").withColumnRenamed(\"Bwd IAT Max\",\"bw_iat_max\").withColumnRenamed(\"Bwd IAT Min\",\"bw_iat_min\").withColumnRenamed(\"Fwd PSH Flags\",\"fw_psh_flag\").withColumnRenamed(\"Bwd PSH Flags\",\"bw_psh_flag\").withColumnRenamed(\"Fwd URG Flags\",\"fw_urg_flag\").withColumnRenamed(\"Bwd URG Flags\",\"bw_urg_flag\").withColumnRenamed(\"Fwd Header Len\",\"fw_hdr_len\").withColumnRenamed(\"Bwd Header Len\",\"bw_hdr_len\").withColumnRenamed(\"Fwd Pkts/s\",\"fw_pkt_s\").withColumnRenamed(\"Bwd Pkts/s\",\"bw_pkt_s\").withColumnRenamed(\"Pkt Len Min\",\"pkt_len_min\").withColumnRenamed(\"Pkt Len Max\",\"pkt_len_max\").withColumnRenamed(\"Pkt Len Mean\",\"pkt_len_avg\").withColumnRenamed(\"Pkt Len Std\",\"pkt_len_std\").withColumnRenamed(\"Pkt Len Var\",\"pkt_len_va\").withColumnRenamed(\"FIN Flag Cnt\",\"fin_cnt\").withColumnRenamed(\"SYN Flag Cnt\",\"syn_cnt\").withColumnRenamed(\"RST Flag Cnt\",\"rst_cnt\").withColumnRenamed(\"PSH Flag Cnt\",\"pst_cnt\").withColumnRenamed(\"ACK Flag Cnt\",\"ack_cnt\").withColumnRenamed(\"URG Flag Cnt\",\"urg_cnt\").withColumnRenamed(\"CWE Flag Count\",\"cwe_cnt\").withColumnRenamed(\"ECE Flag Cnt\",\"ece_cnt\").withColumnRenamed(\"Down/Up Ratio\",\"down_up_ratio\").withColumnRenamed(\"Pkt Size Avg\",\"pkt_size_avg\").withColumnRenamed(\"Fwd Seg Size Avg\",\"fw_seg_avg\").withColumnRenamed(\"Bwd Seg Size Avg\",\"bw_seg_avg\").withColumnRenamed(\"Fwd Byts/b Avg\",\"fw_byt_blk_avg\").withColumnRenamed(\"Fwd Pkts/b Avg\",\"fw_pkt_blk_avg\").withColumnRenamed(\"Fwd Blk Rate Avg\",\"fw_blk_rate_avg\").withColumnRenamed(\"Bwd Byts/b Avg\",\"bw_byt_blk_avg\").withColumnRenamed(\"Bwd Pkts/b Avg\",\"bw_pkt_blk_avg\").withColumnRenamed(\"Bwd Blk Rate Avg\",\"bw_blk_rate_avg\").withColumnRenamed(\"Subflow Fwd Pkts\",\"subfl_fw_pk\").withColumnRenamed(\"Subflow Fwd Byts\",\"subfl_fw_byt\").withColumnRenamed(\"Subflow Bwd Pkts\",\"subfl_bw_pkt\").withColumnRenamed(\"Subflow Bwd Byts\",\"subfl_bw_byt\").withColumnRenamed(\"Init Fwd Win Byts\",\"fw_win_byt\").withColumnRenamed(\"Init Bwd Win Byts\",\"bw_win_byt\").withColumnRenamed(\"Fwd Act Data Pkts\",\"Fw_act_pkt\").withColumnRenamed(\"Fwd Seg Size Min\",\"fw_seg_min\").withColumnRenamed(\"Active Mean\", \"atv_avg\").withColumnRenamed(\"Active Std\", \"atv_std\").withColumnRenamed(\"Active Max\",\"atv_max\").withColumnRenamed(\"Active Min\",\"atv_min\").withColumnRenamed(\"Idle Mean\",\"idl_avg\").withColumnRenamed(\"Idle Std\",\"idl_std\").withColumnRenamed(\"Idle Max\",\"idl_max\").withColumnRenamed(\"Idle Min\",\"idl_min\").withColumnRenamed(\"Label\",\"label\")"
      ],
      "execution_count": null,
      "outputs": []
    },
    {
      "cell_type": "code",
      "metadata": {
        "colab": {
          "base_uri": "https://localhost:8080/"
        },
        "id": "nR_QUuwENSMg",
        "outputId": "1ad7c788-a9d5-454e-bb6c-8a243cabfe41"
      },
      "source": [
        "# view the spark Dataframe\n",
        "IDS_df2.show()"
      ],
      "execution_count": null,
      "outputs": [
        {
          "output_type": "stream",
          "name": "stdout",
          "text": [
            "+--------+--------+-------------------+---------+---------+---------+------------+--------------+------------+------------+-------------+--------------+------------+------------+--------------+--------------+---------------+-------------+----------------+----------------+-----------+-----------+------------+----------------+----------------+-----------+-----------+----------+----------------+----------------+----------+----------+-----------+-----------+-----------+-----------+----------+----------+-------------+------------+-----------+-----------+--------------+--------------+----------------+-------+-------+-------+-------+-------+-------+-------+-------+-------------+--------------+-------------+--------------+--------------+--------------+---------------+--------------+--------------+---------------+-----------+------------+------------+------------+----------+----------+----------+----------+-------+-------+-------+-------+------------+--------------+-----------+-----------+------+\n",
            "|dst_port|protocol|          timestamp|   fl_dur|tot_fw_pk|tot_bw_pk|tot_l_fw_pkt|tot_l_bwd_pkt |fw_pkt_l_max|fw_pkt_l_min| fw_pkt_l_avg|  fw_pkt_l_std|Bw_pkt_l_max|Bw_pkt_l_min|  Bw_pkt_l_avg|  Bw_pkt_l_std|       fl_byt_s|     fl_pkt_s|      fl_iat_avg|      fl_iat_std| fl_iat_max| fl_iat_min|  fw_iat_tot|      fw_iat_avg|      fw_iat_std| fw_iat_max| fw_iat_min|bw_iat_tot|      bw_iat_avg|      bw_iat_std|bw_iat_max|bw_iat_min|fw_psh_flag|bw_psh_flag|fw_urg_flag|bw_urg_flag|fw_hdr_len|bw_hdr_len|     fw_pkt_s|    bw_pkt_s|pkt_len_min|pkt_len_max|   pkt_len_avg|   pkt_len_std|      pkt_len_va|fin_cnt|syn_cnt|rst_cnt|pst_cnt|ack_cnt|urg_cnt|cwe_cnt|ece_cnt|down_up_ratio|  pkt_size_avg|   fw_seg_avg|    bw_seg_avg|fw_byt_blk_avg|fw_pkt_blk_avg|fw_blk_rate_avg|bw_byt_blk_avg|bw_pkt_blk_avg|bw_blk_rate_avg|subfl_fw_pk|subfl_fw_byt|subfl_bw_pkt|subfl_bw_byt|fw_win_byt|bw_win_byt|Fw_act_pkt|fw_seg_min|atv_avg|atv_std|atv_max|atv_min|     idl_avg|       idl_std|    idl_max|    idl_min| label|\n",
            "+--------+--------+-------------------+---------+---------+---------+------------+--------------+------------+------------+-------------+--------------+------------+------------+--------------+--------------+---------------+-------------+----------------+----------------+-----------+-----------+------------+----------------+----------------+-----------+-----------+----------+----------------+----------------+----------+----------+-----------+-----------+-----------+-----------+----------+----------+-------------+------------+-----------+-----------+--------------+--------------+----------------+-------+-------+-------+-------+-------+-------+-------+-------+-------------+--------------+-------------+--------------+--------------+--------------+---------------+--------------+--------------+---------------+-----------+------------+------------+------------+----------+----------+----------+----------+-------+-------+-------+-------+------------+--------------+-----------+-----------+------+\n",
            "|       0|       0|14/02/2018 08:31:01|112641719|        3|        0|           0|           0.0|           0|           0|          0.0|           0.0|           0|           0|           0.0|           0.0|            0.0| 0.0266331163|    5.63208595E7|  139.3000358938|5.6320958E7|5.6320761E7|1.12641719E8|    5.63208595E7|  139.3000358938|5.6320958E7|5.6320761E7|       0.0|             0.0|             0.0|       0.0|       0.0|          0|          0|          0|          0|         0|         0| 0.0266331163|         0.0|          0|          0|           0.0|           0.0|             0.0|      0|      0|      0|      0|      0|      0|      0|      0|            0|           0.0|          0.0|           0.0|             0|             0|              0|             0|             0|              0|          3|           0|           0|           0|        -1|        -1|         0|         0|    0.0|    0.0|    0.0|    0.0|5.63208595E7|139.3000358938|5.6320958E7|5.6320761E7|Benign|\n",
            "|       0|       0|14/02/2018 08:33:50|112641466|        3|        0|           0|           0.0|           0|           0|          0.0|           0.0|           0|           0|           0.0|           0.0|            0.0| 0.0266331761|     5.6320733E7|  114.5512985522|5.6320814E7|5.6320652E7|1.12641466E8|     5.6320733E7|  114.5512985522|5.6320814E7|5.6320652E7|       0.0|             0.0|             0.0|       0.0|       0.0|          0|          0|          0|          0|         0|         0| 0.0266331761|         0.0|          0|          0|           0.0|           0.0|             0.0|      0|      0|      0|      0|      0|      0|      0|      0|            0|           0.0|          0.0|           0.0|             0|             0|              0|             0|             0|              0|          3|           0|           0|           0|        -1|        -1|         0|         0|    0.0|    0.0|    0.0|    0.0| 5.6320733E7|114.5512985522|5.6320814E7|5.6320652E7|Benign|\n",
            "|       0|       0|14/02/2018 08:36:39|112638623|        3|        0|           0|           0.0|           0|           0|          0.0|           0.0|           0|           0|           0.0|           0.0|            0.0| 0.0266338483|    5.63193115E7|  301.9345955667|5.6319525E7|5.6319098E7|1.12638623E8|    5.63193115E7|  301.9345955667|5.6319525E7|5.6319098E7|       0.0|             0.0|             0.0|       0.0|       0.0|          0|          0|          0|          0|         0|         0| 0.0266338483|         0.0|          0|          0|           0.0|           0.0|             0.0|      0|      0|      0|      0|      0|      0|      0|      0|            0|           0.0|          0.0|           0.0|             0|             0|              0|             0|             0|              0|          3|           0|           0|           0|        -1|        -1|         0|         0|    0.0|    0.0|    0.0|    0.0|5.63193115E7|301.9345955667|5.6319525E7|5.6319098E7|Benign|\n",
            "|      22|       6|14/02/2018 08:40:13|  6453966|       15|       10|        1239|        2273.0|         744|           0|         82.6|196.7412368715|         976|           0|         227.3|371.6778922072| 544.1615279659| 3.8735871865|       268915.25|247443.778966007|   673900.0|       22.0|   6453966.0|460997.571428571|123109.423587757|   673900.0|   229740.0| 5637902.0|626433.555555556| 455082.21422401| 1167293.0|     554.0|          0|          0|          0|          0|       488|       328| 2.3241523119|1.5494348746|          0|        976|135.0769230769|277.8347599674|77192.1538461539|      0|      0|      0|      1|      0|      0|      0|      0|            0|        140.48|         82.6|         227.3|             0|             0|              0|             0|             0|              0|         15|        1239|          10|        2273|     65535|       233|         6|        32|    0.0|    0.0|    0.0|    0.0|         0.0|           0.0|        0.0|        0.0|Benign|\n",
            "|      22|       6|14/02/2018 08:40:23|  8804066|       14|       11|        1143|        2209.0|         744|           0|81.6428571429|203.7455453568|         976|           0|200.8181818182|362.2498635422| 380.7331748762|  2.839597068|366836.083333333|511356.609732762|  1928102.0|       21.0|   8804066.0|677235.846153846|532416.970958985|  1928102.0|   246924.0| 7715481.0|        771548.1|755543.082716951| 2174893.0|      90.0|          0|          0|          0|          0|       456|       360| 1.5901743581|1.2494227099|          0|        976|128.9230769231|279.7630315931|78267.3538461539|      0|      0|      0|      1|      0|      0|      0|      0|            0|        134.08|81.6428571429|200.8181818182|             0|             0|              0|             0|             0|              0|         14|        1143|          11|        2209|      5808|       233|         6|        32|    0.0|    0.0|    0.0|    0.0|         0.0|           0.0|        0.0|        0.0|Benign|\n",
            "|      22|       6|14/02/2018 08:40:31|  6989341|       16|       12|        1239|        2273.0|         744|           0|      77.4375|190.8311535538|         976|           0|189.4166666667|347.6425694023| 502.4794183028| 4.0061001459|258864.481481481| 291724.14791076|   951098.0|       20.0|   6989341.0|465956.066666667|244363.896416351|   951098.0|   265831.0| 5980598.0|543690.727272727|460713.519752371| 1254338.0|      78.0|          0|          0|          0|          0|       332|       252| 2.2892000834|1.7169000625|          0|        976|121.1034482759|265.7086676402|70601.0960591133|      0|      0|      0|      1|      0|      0|      0|      0|            0|125.4285714286|      77.4375|189.4166666667|             0|             0|              0|             0|             0|              0|         16|        1239|          12|        2273|      5808|       234|         7|        20|    0.0|    0.0|    0.0|    0.0|         0.0|           0.0|        0.0|        0.0|Benign|\n",
            "|       0|       0|14/02/2018 08:39:28|112640480|        3|        0|           0|           0.0|           0|           0|          0.0|           0.0|           0|           0|           0.0|           0.0|            0.0| 0.0266334092|      5.632024E7|  203.6467529817|5.6320384E7|5.6320096E7| 1.1264048E8|      5.632024E7|  203.6467529817|5.6320384E7|5.6320096E7|       0.0|             0.0|             0.0|       0.0|       0.0|          0|          0|          0|          0|         0|         0| 0.0266334092|         0.0|          0|          0|           0.0|           0.0|             0.0|      0|      0|      0|      0|      0|      0|      0|      0|            0|           0.0|          0.0|           0.0|             0|             0|              0|             0|             0|              0|          3|           0|           0|           0|        -1|        -1|         0|         0|    0.0|    0.0|    0.0|    0.0|  5.632024E7|203.6467529817|5.6320384E7|5.6320096E7|Benign|\n",
            "|       0|       0|14/02/2018 08:42:17|112641244|        3|        0|           0|           0.0|           0|           0|          0.0|           0.0|           0|           0|           0.0|           0.0|            0.0| 0.0266332286|     5.6320622E7|   62.2253967444|5.6320666E7|5.6320578E7|1.12641244E8|     5.6320622E7|   62.2253967444|5.6320666E7|5.6320578E7|       0.0|             0.0|             0.0|       0.0|       0.0|          0|          0|          0|          0|         0|         0| 0.0266332286|         0.0|          0|          0|           0.0|           0.0|             0.0|      0|      0|      0|      0|      0|      0|      0|      0|            0|           0.0|          0.0|           0.0|             0|             0|              0|             0|             0|              0|          3|           0|           0|           0|        -1|        -1|         0|         0|    0.0|    0.0|    0.0|    0.0| 5.6320622E7| 62.2253967444|5.6320666E7|5.6320578E7|Benign|\n",
            "|      80|       6|14/02/2018 08:47:14|   476513|        5|        3|         211|         463.0|         211|           0|         42.2| 94.3620686505|         463|           0|154.3333333333|267.3131746348|1414.4419984345|16.7886290615|68073.2857142857|115865.792656438|   237711.0|       24.0|    476513.0|       119128.25|137379.963358017|   238470.0|      108.0|  238634.0|        119317.0|167621.076693833|  237843.0|     791.0|          0|          0|          0|          0|       168|       104|10.4928931635|6.2957358981|          0|        463| 74.8888888889|161.4058893322|26051.8611111111|      0|      0|      0|      1|      0|      0|      0|      0|            0|         84.25|         42.2|154.3333333333|             0|             0|              0|             0|             0|              0|          5|         211|           3|         463|     14600|       219|         1|        32|    0.0|    0.0|    0.0|    0.0|         0.0|           0.0|        0.0|        0.0|Benign|\n",
            "|      80|       6|14/02/2018 08:47:15|   475048|        5|        3|         220|         472.0|         220|           0|         44.0|   98.38699101|         472|           0|157.3333333333|272.5093270575|1456.6949024099|16.8404034961|         67864.0|115746.933154476|   237494.0|       15.0|    475048.0|        118762.0|137096.759626185|   237853.0|       15.0|  237516.0|        118758.0|167472.584269784|  237179.0|     337.0|          0|          0|          0|          0|       168|       104| 10.525252185| 6.315151311|          0|        472| 76.8888888889|165.0669897681|27247.1111111111|      0|      0|      0|      1|      0|      0|      0|      0|            0|          86.5|         44.0|157.3333333333|             0|             0|              0|             0|             0|              0|          5|         220|           3|         472|     14600|       219|         1|        32|    0.0|    0.0|    0.0|    0.0|         0.0|           0.0|        0.0|        0.0|Benign|\n",
            "|      80|       6|14/02/2018 08:47:15|   474926|        5|        3|         220|         472.0|         220|           0|         44.0|   98.38699101|         472|           0|157.3333333333|272.5093270575|1457.0691012916|16.8447294947|67846.5714285714|115645.740842248|   237162.0|       15.0|    474926.0|        118731.5|136923.365842601|   237497.0|       15.0|  237732.0|        118866.0|167663.503100705|  237422.0|     310.0|          0|          0|          0|          0|       168|       104|10.5279559342|6.3167735605|          0|        472| 76.8888888889|165.0669897681|27247.1111111111|      0|      0|      0|      1|      0|      0|      0|      0|            0|          86.5|         44.0|157.3333333333|             0|             0|              0|             0|             0|              0|          5|         220|           3|         472|     14480|       219|         1|        32|    0.0|    0.0|    0.0|    0.0|         0.0|           0.0|        0.0|        0.0|Benign|\n",
            "|      80|       6|14/02/2018 08:47:16|   477471|        5|        3|         209|         461.0|         209|           0|         41.8| 93.4676414595|         461|           0|153.6666666667|266.1584740964|1403.2265833946|16.7549442793|68210.1428571429|116178.228792989|   238389.0|       17.0|    477471.0|       119367.75|137516.508224467|   238515.0|      149.0|  238887.0|        119443.5|168454.755588852|  238559.0|     328.0|          0|          0|          0|          0|       168|       104|10.4718401746|6.2831041048|          0|        461| 74.4444444444|160.5942955954|25790.5277777778|      0|      0|      0|      1|      0|      0|      0|      0|            0|         83.75|         41.8|153.6666666667|             0|             0|              0|             0|             0|              0|          5|         209|           3|         461|     14480|       219|         1|        32|    0.0|    0.0|    0.0|    0.0|         0.0|           0.0|        0.0|        0.0|Benign|\n",
            "|      80|       6|14/02/2018 08:47:16|   512758|        5|        3|         211|         463.0|         211|           0|         42.2| 94.3620686505|         463|           0|154.3333333333|267.3131746348|1314.4602327024|15.6019018718|73251.1428571429|124959.473740394|   256188.0|       10.0|    512758.0|        128189.5|148006.106082373|   256523.0|       10.0|  256563.0|        128281.5|180935.190276795|  256222.0|     341.0|          0|          0|          0|          0|       168|       104| 9.7511886699|5.8507132019|          0|        463| 74.8888888889|161.4058893322|26051.8611111111|      0|      0|      0|      1|      0|      0|      0|      0|            0|         84.25|         42.2|154.3333333333|             0|             0|              0|             0|             0|              0|          5|         211|           3|         463|     14480|       219|         1|        32|    0.0|    0.0|    0.0|    0.0|         0.0|           0.0|        0.0|        0.0|Benign|\n",
            "|      80|       6|14/02/2018 08:47:17|   476711|        5|        3|         206|         458.0|         206|           0|         41.2|  92.126000673|         458|           0|152.6666666667|264.4264232888|1392.8774456641|16.7816559719|68101.5714285714|115977.215079597|   238034.0|       16.0|    476711.0|       119177.75| 137207.36560009|   238274.0|       78.0|  238033.0|        119016.5|168007.864103143|  237816.0|     217.0|          0|          0|          0|          0|       168|       104|10.4885349824|6.2931209894|          0|        458| 73.7777777778|159.3783060659|25401.4444444444|      0|      0|      0|      1|      0|      0|      0|      0|            0|          83.0|         41.2|152.6666666667|             0|             0|              0|             0|             0|              0|          5|         206|           3|         458|     14480|       219|         1|        32|    0.0|    0.0|    0.0|    0.0|         0.0|           0.0|        0.0|        0.0|Benign|\n",
            "|      80|       6|14/02/2018 08:47:17|   476616|        5|        3|         211|         463.0|         211|           0|         42.2| 94.3620686505|         463|           0|154.3333333333|267.3131746348|1414.1363277775|16.7850009232|         68088.0|115553.073301117|   237285.0|        8.0|    476616.0|        119154.0|136576.972942001|   237558.0|        8.0|  237660.0|        118830.0|167563.093937776|  237315.0|     345.0|          0|          0|          0|          0|       168|       104| 10.490625577|6.2943753462|          0|        463| 74.8888888889|161.4058893322|26051.8611111111|      0|      0|      0|      1|      0|      0|      0|      0|            0|         84.25|         42.2|154.3333333333|             0|             0|              0|             0|             0|              0|          5|         211|           3|         463|     14480|       219|         1|        32|    0.0|    0.0|    0.0|    0.0|         0.0|           0.0|        0.0|        0.0|Benign|\n",
            "|      80|       6|14/02/2018 08:47:18|   477161|        5|        3|         211|         463.0|         211|           0|         42.2| 94.3620686505|         463|           0|154.3333333333|267.3131746348|1412.5211406632|16.7658295628|68165.8571428572|116324.530541969|   238504.0|       12.0|    477161.0|       119290.25|137729.560342905|   238719.0|       12.0|  238618.0|        119309.0|168449.805841384|  238421.0|     197.0|          0|          0|          0|          0|       168|       104|10.4786434767| 6.287186086|          0|        463| 74.8888888889|161.4058893322|26051.8611111111|      0|      0|      0|      1|      0|      0|      0|      0|            0|         84.25|         42.2|154.3333333333|             0|             0|              0|             0|             0|              0|          5|         211|           3|         463|     14480|       219|         1|        32|    0.0|    0.0|    0.0|    0.0|         0.0|           0.0|        0.0|        0.0|Benign|\n",
            "|      80|       6|14/02/2018 08:47:18|   474670|        5|        3|         214|         466.0|         214|           0|         42.8|  95.703709437|         466|           0|155.3333333333|269.0452254424|1432.5742094508|16.8538142288|         67810.0|115371.262364883|   236717.0|       15.0|    474670.0|        118667.5|136423.221362787|   236894.0|       55.0|  236992.0|        118496.0| 167297.22178805|  236793.0|     199.0|          0|          0|          0|          0|       168|       104| 10.533633893|6.3201803358|          0|        466| 75.5555555556|162.6246530443|26446.7777777778|      0|      0|      0|      1|      0|      0|      0|      0|            0|          85.0|         42.8|155.3333333333|             0|             0|              0|             0|             0|              0|          5|         214|           3|         466|     14480|       219|         1|        32|    0.0|    0.0|    0.0|    0.0|         0.0|           0.0|        0.0|        0.0|Benign|\n",
            "|      80|       6|14/02/2018 08:47:19|   476608|        5|        3|         209|         461.0|         209|           0|         41.8| 93.4676414595|         461|           0|153.6666666667|266.1584740964|1405.7674231234|16.7852826642|68086.8571428572|116165.357657993|   238154.0|       21.0|    476608.0|        119152.0|137536.399945614|   238349.0|       28.0|  238442.0|        119221.0|168305.556058022|  238231.0|     211.0|          0|          0|          0|          0|       168|       104|10.4908016651|6.2944809991|          0|        461| 74.4444444444|160.5942955954|25790.5277777778|      0|      0|      0|      1|      0|      0|      0|      0|            0|         83.75|         41.8|153.6666666667|             0|             0|              0|             0|             0|              0|          5|         209|           3|         461|     14480|       219|         1|        32|    0.0|    0.0|    0.0|    0.0|         0.0|           0.0|        0.0|        0.0|Benign|\n",
            "|      80|       6|14/02/2018 08:47:19|   479249|        5|        3|         215|         467.0|         215|           0|         43.0| 96.1509230325|         467|           0|155.6666666667|269.6225757116|1423.0598290242|16.6927839182|68464.1428571429|116522.185511928|   239061.0|       18.0|    479249.0|       119812.25|137797.592674606|   239270.0|       21.0|  239238.0|        119619.0|168903.768394906|  239052.0|     186.0|          0|          0|          0|          0|       168|       104|10.4329899489|6.2597939693|          0|        467| 75.7777777778|163.0312683029|26579.1944444444|      0|      0|      0|      1|      0|      0|      0|      0|            0|         85.25|         43.0|155.6666666667|             0|             0|              0|             0|             0|              0|          5|         215|           3|         467|     14480|       219|         1|        32|    0.0|    0.0|    0.0|    0.0|         0.0|           0.0|        0.0|        0.0|Benign|\n",
            "|      80|       6|14/02/2018 08:47:20|   475967|        5|        3|         215|         467.0|         215|           0|         43.0| 96.1509230325|         467|           0|155.6666666667|269.6225757116|1432.8724470394|16.8078879418|67995.2857142857|115929.081086548|   237703.0|       16.0|    475967.0|       118991.75|137195.538016305|   237904.0|       21.0|  237915.0|        118957.5|167975.337191208|  237734.0|     181.0|          0|          0|          0|          0|       168|       104|10.5049299636|6.3029579782|          0|        467| 75.7777777778|163.0312683029|26579.1944444444|      0|      0|      0|      1|      0|      0|      0|      0|            0|         85.25|         43.0|155.6666666667|             0|             0|              0|             0|             0|              0|          5|         215|           3|         467|     14480|       219|         1|        32|    0.0|    0.0|    0.0|    0.0|         0.0|           0.0|        0.0|        0.0|Benign|\n",
            "+--------+--------+-------------------+---------+---------+---------+------------+--------------+------------+------------+-------------+--------------+------------+------------+--------------+--------------+---------------+-------------+----------------+----------------+-----------+-----------+------------+----------------+----------------+-----------+-----------+----------+----------------+----------------+----------+----------+-----------+-----------+-----------+-----------+----------+----------+-------------+------------+-----------+-----------+--------------+--------------+----------------+-------+-------+-------+-------+-------+-------+-------+-------+-------------+--------------+-------------+--------------+--------------+--------------+---------------+--------------+--------------+---------------+-----------+------------+------------+------------+----------+----------+----------+----------+-------+-------+-------+-------+------------+--------------+-----------+-----------+------+\n",
            "only showing top 20 rows\n",
            "\n"
          ]
        }
      ]
    },
    {
      "cell_type": "code",
      "metadata": {
        "colab": {
          "base_uri": "https://localhost:8080/"
        },
        "id": "5e0XKQvfvZgs",
        "outputId": "bb99c8e0-4409-4ed2-8c67-21bd78936913"
      },
      "source": [
        "# printing the structure of columns (data types) in the dataset\n",
        "IDS_df2.printSchema()"
      ],
      "execution_count": null,
      "outputs": [
        {
          "output_type": "stream",
          "name": "stdout",
          "text": [
            "root\n",
            " |-- dst_port: integer (nullable = true)\n",
            " |-- protocol: integer (nullable = true)\n",
            " |-- timestamp: string (nullable = true)\n",
            " |-- fl_dur: long (nullable = true)\n",
            " |-- tot_fw_pk: integer (nullable = true)\n",
            " |-- tot_bw_pk: integer (nullable = true)\n",
            " |-- tot_l_fw_pkt: integer (nullable = true)\n",
            " |-- tot_l_bwd_pkt : double (nullable = true)\n",
            " |-- fw_pkt_l_max: integer (nullable = true)\n",
            " |-- fw_pkt_l_min: integer (nullable = true)\n",
            " |-- fw_pkt_l_avg: double (nullable = true)\n",
            " |-- fw_pkt_l_std: double (nullable = true)\n",
            " |-- Bw_pkt_l_max: integer (nullable = true)\n",
            " |-- Bw_pkt_l_min: integer (nullable = true)\n",
            " |-- Bw_pkt_l_avg: double (nullable = true)\n",
            " |-- Bw_pkt_l_std: double (nullable = true)\n",
            " |-- fl_byt_s: double (nullable = true)\n",
            " |-- fl_pkt_s: double (nullable = true)\n",
            " |-- fl_iat_avg: double (nullable = true)\n",
            " |-- fl_iat_std: double (nullable = true)\n",
            " |-- fl_iat_max: double (nullable = true)\n",
            " |-- fl_iat_min: double (nullable = true)\n",
            " |-- fw_iat_tot: double (nullable = true)\n",
            " |-- fw_iat_avg: double (nullable = true)\n",
            " |-- fw_iat_std: double (nullable = true)\n",
            " |-- fw_iat_max: double (nullable = true)\n",
            " |-- fw_iat_min: double (nullable = true)\n",
            " |-- bw_iat_tot: double (nullable = true)\n",
            " |-- bw_iat_avg: double (nullable = true)\n",
            " |-- bw_iat_std: double (nullable = true)\n",
            " |-- bw_iat_max: double (nullable = true)\n",
            " |-- bw_iat_min: double (nullable = true)\n",
            " |-- fw_psh_flag: integer (nullable = true)\n",
            " |-- bw_psh_flag: integer (nullable = true)\n",
            " |-- fw_urg_flag: integer (nullable = true)\n",
            " |-- bw_urg_flag: integer (nullable = true)\n",
            " |-- fw_hdr_len: integer (nullable = true)\n",
            " |-- bw_hdr_len: integer (nullable = true)\n",
            " |-- fw_pkt_s: double (nullable = true)\n",
            " |-- bw_pkt_s: double (nullable = true)\n",
            " |-- pkt_len_min: integer (nullable = true)\n",
            " |-- pkt_len_max: integer (nullable = true)\n",
            " |-- pkt_len_avg: double (nullable = true)\n",
            " |-- pkt_len_std: double (nullable = true)\n",
            " |-- pkt_len_va: double (nullable = true)\n",
            " |-- fin_cnt: integer (nullable = true)\n",
            " |-- syn_cnt: integer (nullable = true)\n",
            " |-- rst_cnt: integer (nullable = true)\n",
            " |-- pst_cnt: integer (nullable = true)\n",
            " |-- ack_cnt: integer (nullable = true)\n",
            " |-- urg_cnt: integer (nullable = true)\n",
            " |-- cwe_cnt: integer (nullable = true)\n",
            " |-- ece_cnt: integer (nullable = true)\n",
            " |-- down_up_ratio: integer (nullable = true)\n",
            " |-- pkt_size_avg: double (nullable = true)\n",
            " |-- fw_seg_avg: double (nullable = true)\n",
            " |-- bw_seg_avg: double (nullable = true)\n",
            " |-- fw_byt_blk_avg: integer (nullable = true)\n",
            " |-- fw_pkt_blk_avg: integer (nullable = true)\n",
            " |-- fw_blk_rate_avg: integer (nullable = true)\n",
            " |-- bw_byt_blk_avg: integer (nullable = true)\n",
            " |-- bw_pkt_blk_avg: integer (nullable = true)\n",
            " |-- bw_blk_rate_avg: integer (nullable = true)\n",
            " |-- subfl_fw_pk: integer (nullable = true)\n",
            " |-- subfl_fw_byt: integer (nullable = true)\n",
            " |-- subfl_bw_pkt: integer (nullable = true)\n",
            " |-- subfl_bw_byt: integer (nullable = true)\n",
            " |-- fw_win_byt: integer (nullable = true)\n",
            " |-- bw_win_byt: integer (nullable = true)\n",
            " |-- Fw_act_pkt: integer (nullable = true)\n",
            " |-- fw_seg_min: integer (nullable = true)\n",
            " |-- atv_avg: double (nullable = true)\n",
            " |-- atv_std: double (nullable = true)\n",
            " |-- atv_max: double (nullable = true)\n",
            " |-- atv_min: double (nullable = true)\n",
            " |-- idl_avg: double (nullable = true)\n",
            " |-- idl_std: double (nullable = true)\n",
            " |-- idl_max: double (nullable = true)\n",
            " |-- idl_min: double (nullable = true)\n",
            " |-- label: string (nullable = true)\n",
            "\n"
          ]
        }
      ]
    },
    {
      "cell_type": "code",
      "metadata": {
        "colab": {
          "base_uri": "https://localhost:8080/"
        },
        "id": "Wsn4KX-vm2ZQ",
        "outputId": "b5d31aee-1868-4944-e46f-21900dd25001"
      },
      "source": [
        "# getting the number of rows or data points contained in the dataset\n",
        "IDS_df2.count()"
      ],
      "execution_count": null,
      "outputs": [
        {
          "output_type": "execute_result",
          "data": {
            "text/plain": [
              "2775943"
            ]
          },
          "metadata": {},
          "execution_count": 12
        }
      ]
    },
    {
      "cell_type": "code",
      "metadata": {
        "colab": {
          "base_uri": "https://localhost:8080/"
        },
        "id": "iE-ldlOd7sir",
        "outputId": "5f9aae31-3ac7-46cf-d0b3-e7b08a3c9c1b"
      },
      "source": [
        "# The total number of attacks per label\n",
        "IDS_df.groupBy('Label').count().orderBy('count', ascending=False).show()"
      ],
      "execution_count": null,
      "outputs": [
        {
          "output_type": "stream",
          "name": "stdout",
          "text": [
            "+--------------------+-------+\n",
            "|               Label|  count|\n",
            "+--------------------+-------+\n",
            "|              Benign|1492490|\n",
            "|    DDOS attack-HOIC| 311858|\n",
            "|                 Bot| 255832|\n",
            "|      FTP-BruteForce| 179244|\n",
            "|      SSH-Bruteforce| 161061|\n",
            "|    DoS attacks-Hulk| 135772|\n",
            "|       Infilteration|  93063|\n",
            "|DoS attacks-SlowH...|  91434|\n",
            "|DoS attacks-Golde...|  41508|\n",
            "|DoS attacks-Slowl...|  10990|\n",
            "|DDOS attack-LOIC-UDP|   1730|\n",
            "|    Brute Force -Web|    611|\n",
            "|    Brute Force -XSS|    230|\n",
            "|       SQL Injection|     87|\n",
            "|               Label|     24|\n",
            "|                null|      9|\n",
            "+--------------------+-------+\n",
            "\n"
          ]
        }
      ]
    },
    {
      "cell_type": "markdown",
      "metadata": {
        "id": "-RjT7_UHAqic"
      },
      "source": [
        "\n",
        "# **Task 1: Spark SQL [30 marks]**\n",
        "\n",
        "---\n",
        "\n"
      ]
    },
    {
      "cell_type": "code",
      "metadata": {
        "id": "UlujUHacqVXk"
      },
      "source": [
        "# creating view\n",
        "IDS_df2.createOrReplaceTempView('IDS_dfView')"
      ],
      "execution_count": null,
      "outputs": []
    },
    {
      "cell_type": "markdown",
      "metadata": {
        "id": "qNXUicauXlZx"
      },
      "source": [
        "# Query 1: Finding and visualising counts of benign (normal connections) and harmful (other malicious connection types) connections.\n",
        "\n",
        "- For each row in the dataset, I used the CASE command to output the 'label' column as 'benign' if the 'label' value is 'Benign', otherwise output as 'harmful'\n",
        "\n",
        "- Then, I created a count of connection types from the 'label' column using COUNT and GROUP BY commands. Afterwards, I ordered descendingly.\n",
        "\n",
        "- Finally, I plotted the the counts of benign (normal connections) and harmful (other malicious connection types) connections as a bar chart.\n",
        "\n",
        "#Results----\n",
        "- There are much more benign (normal) connetions than harmful (malicious) connections.\n"
      ]
    },
    {
      "cell_type": "code",
      "metadata": {
        "colab": {
          "base_uri": "https://localhost:8080/",
          "height": 445
        },
        "id": "_YJRwfZfwj2F",
        "outputId": "d6509b5c-a117-42ff-95f8-286cbe84e583"
      },
      "source": [
        "# Counts of benign and harmful connections\n",
        "sqlDF = spark.sql(\"SELECT connections, COUNT(*) AS counts FROM \\\n",
        "           (SELECT protocol, timestamp, fl_dur, tot_fw_pk, tot_bw_pk, fl_byt_s, fl_pkt_s, \\\n",
        "           CASE WHEN label = 'Benign' THEN 'benign' ELSE 'harmful' END AS connections FROM IDS_dfView) \\\n",
        "           GROUP BY connections ORDER BY counts DESC \")\n",
        "print(sqlDF.show())\n",
        "\n",
        "# plotting the counts of benign and harmful connections\n",
        "pandasDF = sqlDF.toPandas()\n",
        "pandasDF.plot(x ='connections', y='counts', kind = 'barh')\n",
        "plt.title('Bar Chart Showing Counts Benign and Harmful Connections\\n')\n",
        "plt.ylabel('Types of Connections')\n",
        "plt.xlabel('Counts');"
      ],
      "execution_count": null,
      "outputs": [
        {
          "output_type": "stream",
          "text": [
            "+-----------+-------+\n",
            "|connections| counts|\n",
            "+-----------+-------+\n",
            "|     benign|6112146|\n",
            "|    harmful|2172091|\n",
            "+-----------+-------+\n",
            "\n",
            "None\n"
          ],
          "name": "stdout"
        },
        {
          "output_type": "display_data",
          "data": {
            "image/png": "[encoded data removed]",
            "text/plain": [
              "<Figure size 432x288 with 1 Axes>"
            ]
          },
          "metadata": {
            "tags": [],
            "needs_background": "light"
          }
        }
      ]
    },
    {
      "cell_type": "markdown",
      "metadata": {
        "id": "_O4RGh4PiYCZ"
      },
      "source": [
        "# Query 2: Grouping (multi-level) and comparing statistics for Benign', 'Brute Force -Web' and 'Bot' label connections using the descriptive statistics (mean, standard deviation, variance, skewness and kurtosis) on each grouping sets for the flow duration column ('fl_dur').\n",
        "\n",
        "\n",
        "- I used GROUP BY to group using 'label' column in first level and 'protocol' column in second level.\n",
        "- Then I used GROUPING SETS to create multiple sets of grouping columns for both 'label' and 'protocol' columns.\n",
        "\n",
        "- Next, I only selected the rows where the labels is 'Benign' or 'Brute Force -Web' or 'Bot' using WHERE command.\n",
        "\n",
        "- Afterwards, I removed the groups with null labels using the HAVING command.\n",
        "- Finally, I calculated the statistics of the flow duration  column ('fl_dur')using descriptive statistics like:\n",
        "-Sum - total.\n",
        "-Measures of central tendency - average / mean.\n",
        "-Measures of dispersion - Standard deviation and variance.\n",
        "-Measures of the asymmetry of the probability distribution - skewness, and kurtosis. \n",
        "- These desriptive statistics are calculated for each of the aggregated sets of grouping.\n",
        "#Results-\n",
        "- The Brute Force -Web connections have the highest average flow duration\n",
        "- The groups of Benign have the highest flow duration variance. Their distribution is highly negatively skewed and highly postively tailed.\n"
      ]
    },
    {
      "cell_type": "code",
      "metadata": {
        "colab": {
          "base_uri": "https://localhost:8080/",
          "height": 697
        },
        "id": "6-K4qGvMP8gF",
        "outputId": "9a710fb1-5d7c-4b10-f36d-a41a4ebccf7e"
      },
      "source": [
        "sqlDF = spark.sql(\"SELECT label, protocol, COUNT(*) as counts, SUM(CAST(fl_dur AS INTEGER)) AS Flow_duration_sum, \\\n",
        "                  AVG(CAST(fl_dur AS INTEGER)) AS Flow_duration_average, stddev_pop(fl_dur) AS Flow_duration_std, \\\n",
        "                  var_pop (fl_dur) AS Flow_duration_variance, skewness(fl_dur) AS Flow_duration_skewness, \\\n",
        "                  kurtosis(fl_dur) AS Flow_duration_kurtosis  FROM IDS_dfView WHERE label IN ('Benign', 'Brute Force -Web', 'Bot') \\\n",
        "                  GROUP BY GROUPING SETS ((label, protocol), (label), (protocol), ()) \\\n",
        "                  HAVING label <>'null' ORDER BY label\")\n",
        "print(sqlDF.show())\n",
        "\n",
        "# convert sql DF to Pandas DF\n",
        "pandasDF = sqlDF.toPandas()\n",
        "\n",
        "# plotting the 'label' against 'Flow_duration_std' against 'Flow_duration_average'\n",
        "# using seaborn barplot - color based on count of 3rd variable\n",
        "sns.barplot(data=pandasDF, x='Flow_duration_std', y='Flow_duration_average', hue='label',\n",
        "            ci='sd') # dodge offsets the 2 lines slightly since they are overlapping\n",
        "plt.xticks(rotation=90)\n",
        "plt.xlabel('Standard Deviation of Flow Duration');\n",
        "plt.ylabel('Average Flow Duration');"
      ],
      "execution_count": null,
      "outputs": [
        {
          "output_type": "stream",
          "text": [
            "+----------------+--------+-------+-----------------+---------------------+--------------------+----------------------+----------------------+----------------------+\n",
            "|           label|protocol| counts|Flow_duration_sum|Flow_duration_average|   Flow_duration_std|Flow_duration_variance|Flow_duration_skewness|Flow_duration_kurtosis|\n",
            "+----------------+--------+-------+-----------------+---------------------+--------------------+----------------------+----------------------+----------------------+\n",
            "|          Benign|      17|1715667|    1671015236272|    973974.1081876612|   9130653.244054858|   8.33688286631695E13|     10.38038327483606|    109.92262435515788|\n",
            "|          Benign|       0|  97104|    8349403912130|   8.59841398102035E7| 6.375388851207392E9|   4.06455830040995E19|   -111.60228539541411|    13088.844709537929|\n",
            "|          Benign|    null|6344198|   90229729541568|  1.422240124623601E7| 7.893582614602538E8|  6.230864649355544...|    -899.9371749670523|     852640.5312237712|\n",
            "|          Benign|       6|4531427|   80209310393166|  1.770067362735094E7| 3.525953606234146E7|  1.243234883331558E15|    1.9579758764562305|     2.288144343147863|\n",
            "|             Bot|       6| 285933|       2160408330|    7555.645308516331|    190273.544407205|  3.620402170128061E10|    175.61098745075302|    31134.568405391357|\n",
            "|             Bot|       0|    258|      19389461623|  7.515295202713178E7| 3.419608765011592E7|  1.169372410574410...|    -1.493334388295107|    0.5484134825367439|\n",
            "|             Bot|    null| 286191|      21549869953|    75298.90860649008|   2485228.558309774|  6.176360987038477E12|     36.89369275313469|    1374.3577917227844|\n",
            "|Brute Force -Web|    null|    611|      21654637030|   3.54413044680851E7| 3.890651771476852E7|  1.513717120689596...|    0.5060393954803114|   -1.3760717908987838|\n",
            "|Brute Force -Web|       6|    462|       8014736589| 1.7347914694805194E7|2.4531534004915018E7|  6.017961606343019E14|    0.9649697849309511|   -1.0233555899794808|\n",
            "|Brute Force -Web|       0|     21|       2365462831|  1.126410871904762E8|   506.5037600614662|    256546.05895640334|   -3.9825115439650713|    14.592069659716245|\n",
            "|Brute Force -Web|      17|    128|      11274437610|    8.8081543828125E7| 1.109714790446063E7|  1.231466916134749...|    -7.811265769001049|     59.01587294908542|\n",
            "+----------------+--------+-------+-----------------+---------------------+--------------------+----------------------+----------------------+----------------------+\n",
            "\n",
            "None\n"
          ],
          "name": "stdout"
        },
        {
          "output_type": "display_data",
          "data": {
            "image/png": "[encoded data removed]",
            "text/plain": [
              "<Figure size 432x288 with 1 Axes>"
            ]
          },
          "metadata": {
            "tags": [],
            "needs_background": "light"
          }
        }
      ]
    },
    {
      "cell_type": "markdown",
      "metadata": {
        "id": "btkvkhZWAg1V"
      },
      "source": [
        "\n",
        "# Query 3: Finding and visualising the types and counts of DOS attacks"
      ]
    },
    {
      "cell_type": "code",
      "metadata": {
        "colab": {
          "base_uri": "https://localhost:8080/",
          "height": 602
        },
        "id": "OgHKtgINN3qf",
        "outputId": "4a4b3cda-cd8a-4380-f880-3166c0cd0140"
      },
      "source": [
        "# finding types and counts of DOS attacks\n",
        "sqlDF = spark.sql(\"SELECT label, COUNT(*) AS countOfDOSAttackTypes  FROM \\\n",
        "                   (SELECT protocol, label FROM IDS_dfView WHERE label LIKE 'D%') \\\n",
        "                   GROUP BY label ORDER BY countOfDOSAttackTypes DESC\")\n",
        "print(sqlDF.show())\n",
        "\n",
        "# plotting the types and counts of DOS attack\n",
        "pandasDF = sqlDF.toPandas()\n",
        "pandasDF.plot(x ='label', y='countOfDOSAttackTypes', kind = 'bar', logy=True)\n",
        "plt.title('Bar Chart Showing Types and Counts of DOS attack\\n')\n",
        "plt.xlabel('Types of DOS Attack')\n",
        "plt.ylabel('Counts');\n",
        "plt.xticks(rotation = 45);"
      ],
      "execution_count": null,
      "outputs": [
        {
          "output_type": "stream",
          "text": [
            "+--------------------+---------------------+\n",
            "|               label|countOfDOSAttackTypes|\n",
            "+--------------------+---------------------+\n",
            "|    DDOS attack-HOIC|               686012|\n",
            "|    DoS attacks-Hulk|               461912|\n",
            "|DoS attacks-SlowH...|               139890|\n",
            "|DoS attacks-Golde...|                41508|\n",
            "|DoS attacks-Slowl...|                10990|\n",
            "|DDOS attack-LOIC-UDP|                 1730|\n",
            "+--------------------+---------------------+\n",
            "\n",
            "None\n"
          ],
          "name": "stdout"
        },
        {
          "output_type": "display_data",
          "data": {
            "image/png": "[encoded data removed]",
            "text/plain": [
              "<Figure size 432x288 with 1 Axes>"
            ]
          },
          "metadata": {
            "tags": [],
            "needs_background": "light"
          }
        }
      ]
    },
    {
      "cell_type": "markdown",
      "metadata": {
        "id": "Kp6wolhUYFZ_"
      },
      "source": [
        "# Query 4 : Here in this table you can the pair of Label and protocol with maximum and minimum number of Flow duration with the Average numbr for packets forward and backwards.\n",
        "\n",
        "- In the below query I have used MAX and MIN sql function to get the maximum and minimum of Flow duration for particular label and created an alias to display in the table.\n",
        "-  Also I have used CAST sql function which is used to convert to a particular data type.\n",
        "\n",
        "# RESULT\n",
        "- Result shows the data of label and protocol combination with the maximum and minimum flow duration and Averate forward and backward packets."
      ]
    },
    {
      "cell_type": "code",
      "metadata": {
        "colab": {
          "base_uri": "https://localhost:8080/"
        },
        "id": "-Eafi5YbtCeZ",
        "outputId": "671918d6-26bc-4d46-fbbe-7e086448b172"
      },
      "source": [
        "# Create a query\n",
        "query = \"SELECT label , protocol, MAX(cast(fl_dur as double)) as MAX_FLOW_DURATION, MIN(CAST(fl_dur  AS DECIMAL(18,2))) as MIN_FLOW_DURATION, AVG(tot_fw_pk) AS AVG_TOTAL_FWD_PKT, AVG(tot_bw_pk) AS AVG_TOTAL_BCKD_PKT FROM IDS_dfView GROUP BY label, protocol\";\n",
        "# Executing a query.\n",
        "crwkDataFrame1 = spark.sql(query)\n",
        "# Displaying the result of the query in a table format.\n",
        "crwkDataFrame1 = crwkDataFrame1.dropna(how='any')\n",
        "crwkDataFrame1.show()"
      ],
      "execution_count": null,
      "outputs": [
        {
          "output_type": "stream",
          "text": [
            "+--------------------+--------+-----------------+-----------------+------------------+-------------------+\n",
            "|               label|protocol|MAX_FLOW_DURATION|MIN_FLOW_DURATION| AVG_TOTAL_FWD_PKT| AVG_TOTAL_BCKD_PKT|\n",
            "+--------------------+--------+-----------------+-----------------+------------------+-------------------+\n",
            "|    DDOS attack-HOIC|       6|          88511.0|             2.00|2.2386984484236425|  0.954793793694571|\n",
            "|DDOS attack-LOIC-UDP|      17|     1.19999998E8|         61002.00| 117351.4289017341|                0.0|\n",
            "|    Brute Force -Web|       6|      6.3603693E7|             6.00| 44.88095238095238|   30.0995670995671|\n",
            "|       Infilteration|       0|      1.1999656E8|            71.00|20.436363636363637|0.30776053215077603|\n",
            "|DoS attacks-Slowl...|       6|     1.19464329E8|             1.00|  7.66533212010919| 1.9177434030937215|\n",
            "|       Infilteration|      17|     1.19997528E8|            21.00|1.9161214953271029|  1.596378504672897|\n",
            "|              Benign|       6|            1.2E8|             0.00| 7.728065643955509|  9.645405923478734|\n",
            "|    Brute Force -XSS|       6|      6.3032004E7|            13.00| 99.06222222222222|  50.24888888888889|\n",
            "|                 Bot|       0|     1.17021898E8|          1231.00| 42.06201550387597|                0.0|\n",
            "|       SQL Injection|       6|      1.2903217E7|            12.00| 4.149425287356322|  2.528735632183908|\n",
            "|                   0|       6|        4974380.0|       4974380.00|               2.0|                0.0|\n",
            "|      FTP-BruteForce|       6|             63.0|             0.00|               1.0|                1.0|\n",
            "|    Brute Force -Web|      17|      8.9480348E7|           606.00|          5.921875|           0.015625|\n",
            "|    Brute Force -XSS|      17|      8.9479854E7|           675.00|               5.0|                0.2|\n",
            "|    DoS attacks-Hulk|       6|      6.7854712E7|             2.00|  2.22687221808483| 0.2415481736781032|\n",
            "|      SSH-Bruteforce|       6|         567266.0|             1.00|11.723651173576275| 11.153292570459888|\n",
            "|                 Bot|       6|      3.4233981E7|           236.00| 2.529819922849059|   2.02453721676057|\n",
            "|       Infilteration|       6|     1.19999951E8|             0.00| 5.894081370765979|  5.840877408395572|\n",
            "|              Benign|      17|     1.19999976E8|             0.00|1.4559101230440818| 1.3127980060020905|\n",
            "|DoS attacks-SlowH...|       6|             70.0|             1.00|               1.0|                1.0|\n",
            "+--------------------+--------+-----------------+-----------------+------------------+-------------------+\n",
            "only showing top 20 rows\n",
            "\n"
          ],
          "name": "stdout"
        }
      ]
    },
    {
      "cell_type": "markdown",
      "metadata": {
        "id": "JFbV10mvcq3i"
      },
      "source": [
        "# Query 5 : Here in this query I have graphically shown the number of 'Benign' attack carried out during particular date I have used inner queries, several SQL function like TO_DATE to convert String to Date in particular format and ORDER BY and GROUP BY in order to get data as per the Timestamp and count.\n",
        "# The chart used used is of Pandas Bar chart.\n",
        "- Have used a inner SQL query to fetch data and use in the main query using the View create 'IDS_dfView'.\n",
        "- Also used ORDER and GROUP BY keywords to get the Count in particular format.\n",
        "\n",
        "# RESULT\n",
        "- Result shows bar chart for the number of attacks carried out on particular date"
      ]
    },
    {
      "cell_type": "code",
      "metadata": {
        "colab": {
          "base_uri": "https://localhost:8080/",
          "height": 327
        },
        "id": "Njbzc3ERbFoy",
        "outputId": "0e8fa59d-34bf-4060-c2f5-3d1293f5236d"
      },
      "source": [
        "# Query 2:\n",
        "attack = 'Benign'\n",
        "# Executing the query and saving data in a dataframe\n",
        "crwkDataFrame2 = spark.sql(\"SELECT Count(*), sub.DateOnly  FROM (SELECT Date(TO_DATE(Timestamp, 'dd/MM/yyyy hh:mm:ss')) DateOnly, label FROM IDS_dfView where label = '{}' ORDER BY DateOnly ) as sub GROUP BY sub.DateOnly\".format(attack))\n",
        "# Dropping the null values if there are any.\n",
        "crwkDataFrame2 = crwkDataFrame2.dropna(how='any')\n",
        "pandas_dataframe = crwkDataFrame2.limit(100).toPandas()\n",
        "# Plotting the chart and providing the X and Y axis\n",
        "bar_chart = pandas_dataframe.sort_values(by=\"count(1)\", ascending= True).plot(x=\"DateOnly\", y=\"count(1)\", kind=\"bar\",  logy=True)\n",
        "# Adding label to the X axis\n",
        "bar_chart.set_xlabel(\"Date\")\n",
        "# # Adding label to the Y axis\n",
        "bar_chart.set_ylabel(\"No. of times\")\n",
        "# Adding legent to the bar chart with the Attack = 'Benign' displayed.\n",
        "bar_chart.legend([attack]);\n"
      ],
      "execution_count": null,
      "outputs": [
        {
          "output_type": "display_data",
          "data": {
            "image/png": "[encoded data removed]",
            "text/plain": [
              "<Figure size 432x288 with 1 Axes>"
            ]
          },
          "metadata": {
            "tags": [],
            "needs_background": "light"
          }
        }
      ]
    },
    {
      "cell_type": "code",
      "metadata": {
        "id": "-MMDVBR2bFfK",
        "colab": {
          "base_uri": "https://localhost:8080/"
        },
        "outputId": "0531c43a-9c54-4a16-f940-137ee671ebd6"
      },
      "source": [
        "# Types of attacks on 14/02/2018\n",
        "sqlDF = spark.sql(\"SELECT label, COUNT(*) FROM IDS_dfView WHERE timestamp \\\n",
        "                  LIKE '14%' GROUP BY label ORDER BY label\")\n",
        "DF = sqlDF.toPandas()\n",
        "sqlDF.show()\n",
        "\n"
      ],
      "execution_count": null,
      "outputs": [
        {
          "output_type": "stream",
          "text": [
            "+--------------+--------+\n",
            "|         label|count(1)|\n",
            "+--------------+--------+\n",
            "|        Benign|  667621|\n",
            "|FTP-BruteForce|  193360|\n",
            "|SSH-Bruteforce|  187589|\n",
            "+--------------+--------+\n",
            "\n"
          ],
          "name": "stdout"
        }
      ]
    },
    {
      "cell_type": "code",
      "metadata": {
        "colab": {
          "base_uri": "https://localhost:8080/",
          "height": 295
        },
        "id": "qLIOXcMLbFaX",
        "outputId": "b1387e90-3ae2-49df-fe38-e6e4f483ffbe"
      },
      "source": [
        "# plotting the counts of attack on  14/02/2018\n",
        "\n",
        "#DF.plot(x ='label', y='count(1)', kind = 'bar')\n",
        "plt.bar(DF['label'], DF['count(1)'])\n",
        "plt.title('Barchart - Counts of attack on 14/02/2018')\n",
        "plt.xlabel('Types of Attack')\n",
        "plt.ylabel('Counts');"
      ],
      "execution_count": null,
      "outputs": [
        {
          "output_type": "display_data",
          "data": {
            "image/png": "[encoded data removed]",
            "text/plain": [
              "<Figure size 432x288 with 1 Axes>"
            ]
          },
          "metadata": {
            "tags": [],
            "needs_background": "light"
          }
        }
      ]
    },
    {
      "cell_type": "code",
      "metadata": {
        "id": "86635n5Ao4cC"
      },
      "source": [
        ""
      ],
      "execution_count": null,
      "outputs": []
    },
    {
      "cell_type": "code",
      "metadata": {
        "colab": {
          "base_uri": "https://localhost:8080/"
        },
        "id": "bPnLpaBHnrzI",
        "outputId": "a15c7fcb-3f6c-4e0d-9e2a-67da233948e5"
      },
      "source": [
        "# finding types of attacks on 16/02/2018\n",
        "sqlDF = spark.sql(\"SELECT label, COUNT(*) FROM IDS_dfView WHERE timestamp LIKE '16%' GROUP BY label ORDER BY label\")\n",
        "DF = sqlDF.toPandas()\n",
        "sqlDF.show()"
      ],
      "execution_count": null,
      "outputs": [
        {
          "output_type": "stream",
          "text": [
            "+--------------------+--------+\n",
            "|               label|count(1)|\n",
            "+--------------------+--------+\n",
            "|              Benign|  446772|\n",
            "|    DoS attacks-Hulk|  461912|\n",
            "|DoS attacks-SlowH...|  139890|\n",
            "+--------------------+--------+\n",
            "\n"
          ],
          "name": "stdout"
        }
      ]
    },
    {
      "cell_type": "code",
      "metadata": {
        "colab": {
          "base_uri": "https://localhost:8080/",
          "height": 295
        },
        "id": "jFuT2OMKbFUQ",
        "outputId": "1f28382a-7113-4281-fc45-fd4205e5f2a8"
      },
      "source": [
        "# plot the counts of attack on  16/02/2018\n",
        "plt.bar(DF['label'], DF['count(1)'])\n",
        "plt.title('Barchart - Counts of attack on 16/02/2018')\n",
        "plt.xlabel('Attack types')\n",
        "plt.ylabel('Counts');"
      ],
      "execution_count": null,
      "outputs": [
        {
          "output_type": "display_data",
          "data": {
            "image/png": "[encoded data removed]",
            "text/plain": [
              "<Figure size 432x288 with 1 Axes>"
            ]
          },
          "metadata": {
            "tags": [],
            "needs_background": "light"
          }
        }
      ]
    },
    {
      "cell_type": "markdown",
      "metadata": {
        "id": "bRo4dMfCnq-L"
      },
      "source": [
        ""
      ]
    },
    {
      "cell_type": "code",
      "metadata": {
        "id": "G4OQ9MvKBAUQ",
        "colab": {
          "base_uri": "https://localhost:8080/"
        },
        "outputId": "a1f4ae0f-4ce6-44a5-e530-cf64bc6833b3"
      },
      "source": [
        "# Types and counts of label\n",
        "sqldf = spark.sql(\"SELECT label, COUNT(*) FROM IDS_dfView GROUP BY label HAVING count(1) > 1 ORDER BY label DESC\")\n",
        "print(sqldf.show())\n",
        "pdf = sqldf.toPandas()"
      ],
      "execution_count": null,
      "outputs": [
        {
          "output_type": "stream",
          "text": [
            "+--------------------+--------+\n",
            "|               label|count(1)|\n",
            "+--------------------+--------+\n",
            "|      SSH-Bruteforce|  187589|\n",
            "|       SQL Injection|      87|\n",
            "|               Label|      57|\n",
            "|       Infilteration|  254945|\n",
            "|      FTP-BruteForce|  193360|\n",
            "|DoS attacks-Slowl...|   10990|\n",
            "|DoS attacks-SlowH...|  139890|\n",
            "|    DoS attacks-Hulk|  461912|\n",
            "|DoS attacks-Golde...|   41508|\n",
            "|DDOS attack-LOIC-UDP|    1730|\n",
            "|    DDOS attack-HOIC|  686012|\n",
            "|    Brute Force -XSS|     230|\n",
            "|    Brute Force -Web|     611|\n",
            "|                 Bot|  286191|\n",
            "|              Benign| 6344198|\n",
            "|                   8|       4|\n",
            "|                   5|       2|\n",
            "|                   1|       8|\n",
            "|                   0|      54|\n",
            "|                null|      98|\n",
            "+--------------------+--------+\n",
            "\n",
            "None\n"
          ],
          "name": "stdout"
        }
      ]
    },
    {
      "cell_type": "code",
      "metadata": {
        "colab": {
          "base_uri": "https://localhost:8080/",
          "height": 417
        },
        "id": "UFG4C420pI4x",
        "outputId": "64ecd2c5-107b-47ab-b207-eac931322105"
      },
      "source": [
        "# plot the types counts of labels\n",
        "pdf.plot(x ='label', y='count(1)', kind = 'bar')\n",
        "plt.title('Bar Chart of Counts of labels')\n",
        "plt.xlabel('Attack types')\n",
        "plt.ylabel('Counts');"
      ],
      "execution_count": null,
      "outputs": [
        {
          "output_type": "display_data",
          "data": {
            "image/png": "[encoded data removed]",
            "text/plain": [
              "<Figure size 432x288 with 1 Axes>"
            ]
          },
          "metadata": {
            "tags": [],
            "needs_background": "light"
          }
        }
      ]
    },
    {
      "cell_type": "markdown",
      "metadata": {
        "id": "RWdUSDO3u9-l"
      },
      "source": [
        "\n",
        "# Find types and counts of labels\n"
      ]
    },
    {
      "cell_type": "code",
      "metadata": {
        "colab": {
          "base_uri": "https://localhost:8080/"
        },
        "id": "T8HcP76ovg9p",
        "outputId": "95fe046a-9426-4d8b-af7e-85527509b486"
      },
      "source": [
        "# Types of protocols and sum of tot_fw_pk  on 21/02/2018\n",
        "sqldf = spark.sql(\"SELECT protocol, SUM(CAST(tot_fw_pk AS DOUBLE)) FROM IDS_dfView WHERE timestamp LIKE '21%' GROUP BY protocol ORDER BY protocol\")\n",
        "sqldf.show()"
      ],
      "execution_count": null,
      "outputs": [
        {
          "output_type": "stream",
          "text": [
            "+--------+------------------------------+\n",
            "|protocol|sum(CAST(tot_fw_pk AS DOUBLE))|\n",
            "+--------+------------------------------+\n",
            "|       0|                         179.0|\n",
            "|       6|                     3329787.0|\n",
            "|      17|                  2.03039993E8|\n",
            "+--------+------------------------------+\n",
            "\n"
          ],
          "name": "stdout"
        }
      ]
    },
    {
      "cell_type": "code",
      "metadata": {
        "colab": {
          "base_uri": "https://localhost:8080/",
          "height": 298
        },
        "id": "WAURek7MwiKH",
        "outputId": "4ea03edb-91eb-4dd2-f434-b71f0e13e141"
      },
      "source": [
        "pdf = sqldf.toPandas()\n",
        "# plot the types counts of protocols\n",
        "pdf.plot(x ='protocol', y='sum(CAST(tot_fw_pk AS DOUBLE))', kind = 'bar')\n",
        "plt.title('Bar Chart of Counts of protocol on 21/02/2018')\n",
        "plt.xlabel('protocol types')\n",
        "plt.ylabel('Counts');"
      ],
      "execution_count": null,
      "outputs": [
        {
          "output_type": "display_data",
          "data": {
            "image/png": "[encoded data removed]",
            "text/plain": [
              "<Figure size 432x288 with 1 Axes>"
            ]
          },
          "metadata": {
            "tags": [],
            "needs_background": "light"
          }
        }
      ]
    },
    {
      "cell_type": "code",
      "metadata": {
        "id": "UVlzSGKofrkg"
      },
      "source": [
        "# Student 5 name and ID\n",
        "# Query 1 [Briefly explain]:\n",
        "\n"
      ],
      "execution_count": null,
      "outputs": []
    },
    {
      "cell_type": "code",
      "metadata": {
        "id": "DdLbxEqGfuMb"
      },
      "source": [
        "# Student 5 name and ID\n",
        "# Query 2 [Briefly explain]:\n",
        "\n"
      ],
      "execution_count": null,
      "outputs": []
    },
    {
      "cell_type": "markdown",
      "metadata": {
        "id": "dcJhGbI2BKpx"
      },
      "source": [
        "\n",
        "# **1b: PySpark\n",
        "\n",
        "---\n"
      ]
    },
    {
      "cell_type": "code",
      "metadata": {
        "colab": {
          "base_uri": "https://localhost:8080/"
        },
        "id": "-hYCP7247Q8o",
        "outputId": "4f1b75d1-75ba-4ed8-e465-1959436fe474"
      },
      "source": [
        "# The total number of attacks per label\n",
        "IDS_df2.select('label').groupBy('label').count().orderBy('count', ascending=False).show()"
      ],
      "execution_count": null,
      "outputs": [
        {
          "output_type": "stream",
          "text": [
            "+--------------------+-------+\n",
            "|               label|  count|\n",
            "+--------------------+-------+\n",
            "|              Benign|6112146|\n",
            "|    DDOS attack-HOIC| 686012|\n",
            "|    DoS attacks-Hulk| 461912|\n",
            "|                 Bot| 286191|\n",
            "|      FTP-BruteForce| 193360|\n",
            "|      SSH-Bruteforce| 187589|\n",
            "|       Infilteration| 161934|\n",
            "|DoS attacks-SlowH...| 139890|\n",
            "|DoS attacks-Golde...|  41508|\n",
            "|DoS attacks-Slowl...|  10990|\n",
            "|DDOS attack-LOIC-UDP|   1730|\n",
            "|    Brute Force -Web|    611|\n",
            "|    Brute Force -XSS|    230|\n",
            "|       SQL Injection|     87|\n",
            "|               Label|     46|\n",
            "|                   0|      1|\n",
            "+--------------------+-------+\n",
            "\n"
          ],
          "name": "stdout"
        }
      ]
    },
    {
      "cell_type": "code",
      "metadata": {
        "colab": {
          "base_uri": "https://localhost:8080/"
        },
        "id": "SC6usKHA7s0T",
        "outputId": "2c3172c7-1830-42dd-fbe9-e3435d3a234c"
      },
      "source": [
        "IDS_df2.count()"
      ],
      "execution_count": null,
      "outputs": [
        {
          "output_type": "execute_result",
          "data": {
            "text/plain": [
              "8284237"
            ]
          },
          "metadata": {
            "tags": []
          },
          "execution_count": 15
        }
      ]
    },
    {
      "cell_type": "code",
      "metadata": {
        "colab": {
          "base_uri": "https://localhost:8080/"
        },
        "id": "jR46udBv8Bpz",
        "outputId": "6ddacfcb-bd74-48a2-8e30-34f0a91dc1cf"
      },
      "source": [
        "#dropping any rows with null values and then group by label\n",
        "IDS_df2 = IDS_df2.dropna(how='any')\n",
        "IDS_df2.groupBy('label').count().orderBy('count', ascending=False).show()"
      ],
      "execution_count": null,
      "outputs": [
        {
          "output_type": "stream",
          "text": [
            "+--------------------+-------+\n",
            "|               label|  count|\n",
            "+--------------------+-------+\n",
            "|              Benign|6090036|\n",
            "|    DDOS attack-HOIC| 686012|\n",
            "|    DoS attacks-Hulk| 461912|\n",
            "|                 Bot| 286191|\n",
            "|      FTP-BruteForce| 193354|\n",
            "|      SSH-Bruteforce| 187589|\n",
            "|       Infilteration| 161096|\n",
            "|DoS attacks-SlowH...| 139890|\n",
            "|DoS attacks-Golde...|  41508|\n",
            "|DoS attacks-Slowl...|  10990|\n",
            "|DDOS attack-LOIC-UDP|   1730|\n",
            "|    Brute Force -Web|    611|\n",
            "|    Brute Force -XSS|    230|\n",
            "|       SQL Injection|     87|\n",
            "|                   0|      1|\n",
            "+--------------------+-------+\n",
            "\n"
          ],
          "name": "stdout"
        }
      ]
    },
    {
      "cell_type": "code",
      "metadata": {
        "colab": {
          "base_uri": "https://localhost:8080/"
        },
        "id": "k7L1-3E-8EhQ",
        "outputId": "e94670ff-db4c-4371-c128-1b19988b3891"
      },
      "source": [
        "IDS_df2.count()"
      ],
      "execution_count": null,
      "outputs": [
        {
          "output_type": "execute_result",
          "data": {
            "text/plain": [
              "8261237"
            ]
          },
          "metadata": {
            "tags": []
          },
          "execution_count": 17
        }
      ]
    },
    {
      "cell_type": "code",
      "metadata": {
        "id": "lb1nTb_9uA9O",
        "colab": {
          "base_uri": "https://localhost:8080/"
        },
        "outputId": "7615c396-95b8-45f1-e49d-ffb3e8e254af"
      },
      "source": [
        "IDS_df2 = IDS_df2.na.drop(how='any')\n",
        "IDS_df2.groupBy('label').count().orderBy('count', ascending=False).show()"
      ],
      "execution_count": null,
      "outputs": [
        {
          "output_type": "stream",
          "text": [
            "+--------------------+-------+\n",
            "|               label|  count|\n",
            "+--------------------+-------+\n",
            "|              Benign|6090036|\n",
            "|    DDOS attack-HOIC| 686012|\n",
            "|    DoS attacks-Hulk| 461912|\n",
            "|                 Bot| 286191|\n",
            "|      FTP-BruteForce| 193354|\n",
            "|      SSH-Bruteforce| 187589|\n",
            "|       Infilteration| 161096|\n",
            "|DoS attacks-SlowH...| 139890|\n",
            "|DoS attacks-Golde...|  41508|\n",
            "|DoS attacks-Slowl...|  10990|\n",
            "|DDOS attack-LOIC-UDP|   1730|\n",
            "|    Brute Force -Web|    611|\n",
            "|    Brute Force -XSS|    230|\n",
            "|       SQL Injection|     87|\n",
            "|                   0|      1|\n",
            "+--------------------+-------+\n",
            "\n"
          ],
          "name": "stdout"
        }
      ]
    },
    {
      "cell_type": "code",
      "metadata": {
        "id": "Dpd4ebwWuKYx",
        "colab": {
          "base_uri": "https://localhost:8080/"
        },
        "outputId": "c2502e4e-d2e5-430f-88a3-7d78d3d123ad"
      },
      "source": [
        "IDS_df2.count()"
      ],
      "execution_count": null,
      "outputs": [
        {
          "output_type": "execute_result",
          "data": {
            "text/plain": [
              "8261237"
            ]
          },
          "metadata": {
            "tags": []
          },
          "execution_count": 19
        }
      ]
    },
    {
      "cell_type": "markdown",
      "metadata": {
        "id": "6CWaUWJQSZit"
      },
      "source": [
        "# Analytical method 1: Using descriptive statistics like the describe method, skewness and kurtosis on columns 'tot_fw_pk', 'tot_bw_pk' and 'fl_dur'.\n",
        "- The describe method shows 5 statistics, namely; count, mean, standard deviation, minimum and maximum value. \n",
        "- The skewness shows the symmetry of the distribution of the selected columns.\n",
        "- The kurtosis shows the tailedness of the distribution of the selected columns.\n",
        "\n",
        "#Result---\n",
        "- Column 'fl_dur' - representing flow duration has a very high standard deviation as shown by the wide gap between the minimum and maximum values.This is followed by column 'tot_fw_pk' representing the total packets in the forward direction.\n",
        "\n",
        "- Columns 'tot_fw_pk' and 'tot_bw_pk' are positively skewed meaning its values show greater extreme deviations (outliers) to the right while  column 'fl_dur' is negatively skewed meaning its values showgreater extreme deviations (outliers) to the left\n",
        "\n",
        "- Columns 'tot_fw_pk', 'tot_bw_pk' and 'fl_dur' are highly leptokurtic since they have kurtosis value greater than 3. This means that they have extreme outliers than does the normal distribution, thus have tails that asymptotically approach zero more slowly than a Gaussian.\n",
        "\n",
        "- Next, I visualised the data distribution for the 3 selected columns so as to confirm the skewness and kurtosis graphically"
      ]
    },
    {
      "cell_type": "code",
      "metadata": {
        "colab": {
          "base_uri": "https://localhost:8080/"
        },
        "id": "V3eiN9geBQRf",
        "outputId": "45c54c5d-c940-4222-f51b-6133994f331c"
      },
      "source": [
        "# calculating 5 statistics using the describe method\n",
        "IDS_df2.select('tot_fw_pk', 'tot_bw_pk', 'fl_dur').describe().show()"
      ],
      "execution_count": null,
      "outputs": [
        {
          "output_type": "stream",
          "text": [
            "+-------+------------------+-----------------+--------------------+\n",
            "|summary|         tot_fw_pk|        tot_bw_pk|              fl_dur|\n",
            "+-------+------------------+-----------------+--------------------+\n",
            "|  count|           8261237|          8261237|             8261237|\n",
            "|   mean|29.896812547564004|5.945000125283901|1.0192204471571267E7|\n",
            "| stddev|1748.3297759863294|169.7931243090869|   6.9175515871368E8|\n",
            "|    min|                 1|                0|       -919011000000|\n",
            "|    max|            309629|           123118|           120000000|\n",
            "+-------+------------------+-----------------+--------------------+\n",
            "\n"
          ],
          "name": "stdout"
        }
      ]
    },
    {
      "cell_type": "code",
      "metadata": {
        "colab": {
          "base_uri": "https://localhost:8080/"
        },
        "id": "4TVkPf7Rh2fA",
        "outputId": "9b5dea4a-9ba7-4e99-b8d0-ba84b12ac640"
      },
      "source": [
        "# calculating skewness\n",
        "IDS_df2.select(f.skewness(IDS_df2['tot_fw_pk']),f.skewness(IDS_df2['tot_bw_pk']), f.skewness(IDS_df2['fl_dur'])).show()\n",
        "\n",
        "# calculating kurtosis\n",
        "IDS_df2.select(f.kurtosis(IDS_df2['tot_fw_pk']),f.kurtosis(IDS_df2['tot_bw_pk']), f.kurtosis(IDS_df2['fl_dur'])).show()"
      ],
      "execution_count": null,
      "outputs": [
        {
          "output_type": "stream",
          "text": [
            "+-------------------+-------------------+------------------+\n",
            "|skewness(tot_fw_pk)|skewness(tot_bw_pk)|  skewness(fl_dur)|\n",
            "+-------------------+-------------------+------------------+\n",
            "|  74.47924317595653|  223.8638931458873|-1026.841794982102|\n",
            "+-------------------+-------------------+------------------+\n",
            "\n",
            "+-------------------+-------------------+------------------+\n",
            "|kurtosis(tot_fw_pk)|kurtosis(tot_bw_pk)|  kurtosis(fl_dur)|\n",
            "+-------------------+-------------------+------------------+\n",
            "|  5895.140056173959|  96951.88053692288|1110140.5035037303|\n",
            "+-------------------+-------------------+------------------+\n",
            "\n"
          ],
          "name": "stdout"
        }
      ]
    },
    {
      "cell_type": "code",
      "metadata": {
        "colab": {
          "base_uri": "https://localhost:8080/",
          "height": 202
        },
        "id": "LdeUK-4Wm5Zd",
        "outputId": "87ba78a8-e45b-40c4-ed3a-26f2f5592cbc"
      },
      "source": [
        "pandasDF1 = spark.sql('SELECT tot_fw_pk, tot_bw_pk, fl_dur FROM IDS_dfView').toPandas()\n",
        "pandasDF1.head()"
      ],
      "execution_count": null,
      "outputs": [
        {
          "output_type": "execute_result",
          "data": {
            "text/html": [
              "<div>\n",
              "<style scoped>\n",
              "    .dataframe tbody tr th:only-of-type {\n",
              "        vertical-align: middle;\n",
              "    }\n",
              "\n",
              "    .dataframe tbody tr th {\n",
              "        vertical-align: top;\n",
              "    }\n",
              "\n",
              "    .dataframe thead th {\n",
              "        text-align: right;\n",
              "    }\n",
              "</style>\n",
              "<table border=\"1\" class=\"dataframe\">\n",
              "  <thead>\n",
              "    <tr style=\"text-align: right;\">\n",
              "      <th></th>\n",
              "      <th>tot_fw_pk</th>\n",
              "      <th>tot_bw_pk</th>\n",
              "      <th>fl_dur</th>\n",
              "    </tr>\n",
              "  </thead>\n",
              "  <tbody>\n",
              "    <tr>\n",
              "      <th>0</th>\n",
              "      <td>3.0</td>\n",
              "      <td>0.0</td>\n",
              "      <td>112641719.0</td>\n",
              "    </tr>\n",
              "    <tr>\n",
              "      <th>1</th>\n",
              "      <td>3.0</td>\n",
              "      <td>0.0</td>\n",
              "      <td>112641466.0</td>\n",
              "    </tr>\n",
              "    <tr>\n",
              "      <th>2</th>\n",
              "      <td>3.0</td>\n",
              "      <td>0.0</td>\n",
              "      <td>112638623.0</td>\n",
              "    </tr>\n",
              "    <tr>\n",
              "      <th>3</th>\n",
              "      <td>15.0</td>\n",
              "      <td>10.0</td>\n",
              "      <td>6453966.0</td>\n",
              "    </tr>\n",
              "    <tr>\n",
              "      <th>4</th>\n",
              "      <td>14.0</td>\n",
              "      <td>11.0</td>\n",
              "      <td>8804066.0</td>\n",
              "    </tr>\n",
              "  </tbody>\n",
              "</table>\n",
              "</div>"
            ],
            "text/plain": [
              "   tot_fw_pk  tot_bw_pk       fl_dur\n",
              "0        3.0        0.0  112641719.0\n",
              "1        3.0        0.0  112641466.0\n",
              "2        3.0        0.0  112638623.0\n",
              "3       15.0       10.0    6453966.0\n",
              "4       14.0       11.0    8804066.0"
            ]
          },
          "metadata": {
            "tags": []
          },
          "execution_count": 11
        }
      ]
    },
    {
      "cell_type": "code",
      "metadata": {
        "id": "ZsU-2omAohQI"
      },
      "source": [
        "bins_size = 10**np.arange(0, 9 +.1, .1)\n",
        "# setting the x ticks to be more reADABle\n",
        "ticks = [.1, 1, 10, 100, 1000,10000,100000, 1000000]\n",
        "tick_name = ('{:0.1f}'.format(v) for v in ticks)\n",
        "sns.displot(pandasDF1['fl_dur'], bins=bin_size ,kde=True)\n",
        "plt.xscale('log')\n",
        "plt.xticks(ticks, ticks);\n",
        "plt.xlabel('fl_dur')\n",
        "plt.xticks(rotation=45);"
      ],
      "execution_count": null,
      "outputs": []
    },
    {
      "cell_type": "code",
      "metadata": {
        "colab": {
          "base_uri": "https://localhost:8080/",
          "height": 624
        },
        "id": "8jCSWBOpnWwQ",
        "outputId": "47a58293-7513-41f4-dc8a-e69f279bf477"
      },
      "source": [
        "# converting the selected columns to pandas\n",
        "#pandasDF1 = spark.sql('SELECT tot_fw_pk, tot_bw_pk, fl_dur FROM IDS_dfView').toPandas()\n",
        "\n",
        "# printing the describe statistics for column 'tot_fw_pk' and its log to compute its bin size\n",
        "print(pandasDF1['tot_fw_pk'].describe()) \n",
        "print('\\n')\n",
        "print(np.log10(pandasDF1['tot_fw_pk']).describe())\n",
        "\n",
        "# creating a figure object\n",
        "plt.figure(figsize=[15,5])\n",
        "\n",
        "# first plot\n",
        "plt.subplot(1,3,1)\n",
        "# transforming scale to log scale using the minimum and maximum \n",
        "# values from log of describe on pandasDF1['tot_fw_pk'])\n",
        "bins_size = 10**np.arange(0, 6 +.1, .1)\n",
        "# setting the x ticks to be more reADABle\n",
        "ticks = [.1, 1, 10, 100, 1000]\n",
        "tick_name = ('{:0.1f}'.format(v) for v in ticks)\n",
        "plt.hist(data=pandasDF1, x='tot_fw_pk', bins=bins_size);\n",
        "\n",
        "plt.xscale('log')\n",
        "plt.xticks(ticks, ticks);\n",
        "plt.xlabel('tot_fw_pk')\n",
        "plt.ylabel('Frequency');\n",
        "\n",
        "# second plot\n",
        "plt.subplot(1,3,2)\n",
        "# transforming to log scale\n",
        "bins_size = 10**np.arange(0, 5 +.1, .1)\n",
        "# setting the x ticks to be more reADABle\n",
        "ticks = [.1, 1, 10, 100, 1000]\n",
        "tick_name = ('{:0.1f}'.format(v) for v in ticks)\n",
        "plt.hist(data=pandasDF1, x='tot_bw_pk', bins=bins_size);\n",
        "plt.xscale('log')\n",
        "plt.xticks(ticks, ticks);\n",
        "plt.title('Histogram showing the frequency and ranges of values\\n')\n",
        "plt.xlabel('tot_bw_pk');\n",
        "\n",
        "# third plot\n",
        "plt.subplot(1,3,3)\n",
        "# transforming to log scale\n",
        "bins_size = 10**np.arange(0, 9 +.1, .1)\n",
        "# setting the x ticks to be more reADABle\n",
        "ticks = [.1, 1, 10, 100, 1000,10000,100000, 1000000]\n",
        "tick_name = ('{:0.1f}'.format(v) for v in ticks)\n",
        "plt.hist(data=pandasDF1, x='fl_dur', bins=bins_size);\n",
        "plt.xscale('log')\n",
        "plt.xticks(ticks, ticks);\n",
        "plt.xlabel('fl_dur')\n",
        "plt.xticks(rotation=45);"
      ],
      "execution_count": null,
      "outputs": [
        {
          "output_type": "stream",
          "text": [
            "count    2.822258e+06\n",
            "mean     7.690819e+01\n",
            "std      2.988928e+03\n",
            "min      1.000000e+00\n",
            "25%      1.000000e+00\n",
            "50%      2.000000e+00\n",
            "75%      4.000000e+00\n",
            "max      3.096290e+05\n",
            "Name: tot_fw_pk, dtype: float64\n",
            "\n",
            "\n",
            "count    2.822258e+06\n",
            "mean     4.179669e-01\n",
            "std      4.111853e-01\n",
            "min      0.000000e+00\n",
            "25%      0.000000e+00\n",
            "50%      3.010300e-01\n",
            "75%      6.020600e-01\n",
            "max      5.490842e+00\n",
            "Name: tot_fw_pk, dtype: float64\n"
          ],
          "name": "stdout"
        },
        {
          "output_type": "display_data",
          "data": {
            "image/png": "[encoded data removed]",
            "text/plain": [
              "<Figure size 1080x360 with 3 Axes>"
            ]
          },
          "metadata": {
            "tags": [],
            "needs_background": "light"
          }
        }
      ]
    },
    {
      "cell_type": "code",
      "metadata": {
        "colab": {
          "base_uri": "https://localhost:8080/",
          "height": 731
        },
        "id": "Wwpjx-EZCSKM",
        "outputId": "2ee99fa2-454c-43dd-98a3-2d99e42142c7"
      },
      "source": [
        "# converting the selected columns to pandas\n",
        "pandasDF1 = spark.sql('SELECT tot_fw_pk, tot_bw_pk, fl_dur FROM IDS_dfView').toPandas()\n",
        "\n",
        "# printing the describe statistics for column 'tot_fw_pk' and its log to compute its bin size\n",
        "print(pandasDF1['tot_fw_pk'].describe()) \n",
        "print('\\n')\n",
        "print(np.log10(pandasDF1['tot_fw_pk']).describe())\n",
        "\n",
        "# creating a figure object\n",
        "plt.figure(figsize=[15,5])\n",
        "\n",
        "# first plot\n",
        "plt.subplot(1,3,1)\n",
        "# transforming scale to log scale using the minimum and maximum \n",
        "# values from log of describe on pandasDF1['tot_fw_pk'])\n",
        "bins_size = 10**np.arange(0, 6 +.1, .1)\n",
        "# setting the x ticks to be more reADABle\n",
        "ticks = [.1, 1, 10, 100, 1000]\n",
        "tick_name = ('{:0.1f}'.format(v) for v in ticks)\n",
        "plt.hist(data=pandasDF1, x='tot_fw_pk', bins=bins_size);\n",
        "plt.xscale('log')\n",
        "plt.xticks(ticks, ticks);\n",
        "plt.xlabel('tot_fw_pk')\n",
        "plt.ylabel('Frequency');\n",
        "\n",
        "# second plot\n",
        "plt.subplot(1,3,2)\n",
        "# transforming to log scale\n",
        "bins_size = 10**np.arange(0, 5 +.1, .1)\n",
        "# setting the x ticks to be more reADABle\n",
        "ticks = [.1, 1, 10, 100, 1000]\n",
        "tick_name = ('{:0.1f}'.format(v) for v in ticks)\n",
        "plt.hist(data=pandasDF1, x='tot_bw_pk', bins=bins_size);\n",
        "plt.xscale('log')\n",
        "plt.xticks(ticks, ticks);\n",
        "plt.title('Histogram showing the frequency and ranges of values\\n')\n",
        "plt.xlabel('tot_bw_pk');\n",
        "\n",
        "# third plot\n",
        "plt.subplot(1,3,3)\n",
        "# transforming to log scale\n",
        "bins_size = 10**np.arange(0, 9 +.1, .1)\n",
        "# setting the x ticks to be more reADABle\n",
        "ticks = [.1, 1, 10, 100, 1000,10000,100000, 1000000]\n",
        "tick_name = ('{:0.1f}'.format(v) for v in ticks)\n",
        "plt.hist(data=pandasDF1, x='fl_dur', bins=bins_size);\n",
        "plt.xscale('log')\n",
        "plt.xticks(ticks, ticks);\n",
        "plt.xlabel('fl_dur')\n",
        "plt.xticks(rotation=45);"
      ],
      "execution_count": null,
      "outputs": [
        {
          "output_type": "stream",
          "text": [
            "count    8.284191e+06\n",
            "mean     2.981952e+01\n",
            "std      1.745907e+03\n",
            "min      1.000000e+00\n",
            "25%      1.000000e+00\n",
            "50%      2.000000e+00\n",
            "75%      5.000000e+00\n",
            "max      3.096290e+05\n",
            "Name: tot_fw_pk, dtype: float64\n",
            "\n",
            "\n",
            "count    8.284191e+06\n",
            "mean     4.505551e-01\n",
            "std      3.976536e-01\n",
            "min      0.000000e+00\n",
            "25%      0.000000e+00\n",
            "50%      3.010300e-01\n",
            "75%      6.989700e-01\n",
            "max      5.490842e+00\n",
            "Name: tot_fw_pk, dtype: float64\n"
          ],
          "name": "stdout"
        },
        {
          "output_type": "display_data",
          "data": {
            "image/png": "[encoded data removed]",
            "text/plain": [
              "<Figure size 1080x360 with 3 Axes>"
            ]
          },
          "metadata": {
            "tags": []
          }
        }
      ]
    },
    {
      "cell_type": "markdown",
      "metadata": {
        "id": "4YrsGzlbKQ40"
      },
      "source": [
        "# Results (Continued)\n",
        "- The column 'fl_dur' - representing the flow duration is highly negatively skewed since its values show greater extreme deviations (outliers) to the right. \n",
        "- The column 'fl_dur' - representing the flow duration has very high positive kurtosis since its values show great tailedness as the tails of the distribution contain extreme values.   "
      ]
    },
    {
      "cell_type": "markdown",
      "metadata": {
        "id": "MFM63SdVTDvw"
      },
      "source": [
        "\n",
        "# Analytical method 2: Using correlation\n",
        "Correlation gives the strength of relationship between features in the dataset(Pairwise correlation). The relationship can be either positive or negative or 0"
      ]
    },
    {
      "cell_type": "code",
      "metadata": {
        "colab": {
          "base_uri": "https://localhost:8080/",
          "height": 439
        },
        "id": "5JUTqnO3h2C8",
        "outputId": "2cdce53b-6d72-490a-f9b0-7ccf05c64c16"
      },
      "source": [
        "# creating the dataframe of features to be correlated\n",
        "corr_df = IDS_df2.drop('dst_port').drop('timestamp').drop('protocol').drop('label')\n",
        "corr_df = corr_df.withColumn(\"fw_blk_rate_avg\", corr_df.fw_blk_rate_avg.cast(\"integer\"))\n",
        "corr_df = corr_df.na.drop()\n",
        "corr_df.take(5)\n",
        "\n",
        "# creating a vector column from the columns of features\n",
        "vector_col = \"corr_features\"\n",
        "assembler = VectorAssembler(inputCols=corr_df.columns, outputCol=vector_col)\n",
        "df_vector = assembler.transform(corr_df).select(vector_col)\n",
        "# get correlation matrix\n",
        "matrix = Correlation.corr(df_vector, vector_col)\n",
        "matrix.show(truncate=False)\n",
        "\n",
        "# pull out correlation matrix and convert it to an array and then a list\n",
        "matrix_list = matrix.collect()[0][0].toArray().tolist()\n",
        "\n",
        "# converting the matrix list back to spark dataframe\n",
        "matrix_df = spark.createDataFrame(matrix_list, corr_df.columns)\n",
        "matrix_df.show(truncate=False)\n",
        "\n",
        "# convert from spark dataframe to pandas dataframe\n",
        "matrix_dfPandas = matrix_df.toPandas()\n",
        "matrix_dfPandas"
      ],
      "execution_count": null,
      "outputs": [
        {
          "output_type": "execute_result",
          "data": {
            "text/html": [
              "<div>\n",
              "<style scoped>\n",
              "    .dataframe tbody tr th:only-of-type {\n",
              "        vertical-align: middle;\n",
              "    }\n",
              "\n",
              "    .dataframe tbody tr th {\n",
              "        vertical-align: top;\n",
              "    }\n",
              "\n",
              "    .dataframe thead th {\n",
              "        text-align: right;\n",
              "    }\n",
              "</style>\n",
              "<table border=\"1\" class=\"dataframe\">\n",
              "  <thead>\n",
              "    <tr style=\"text-align: right;\">\n",
              "      <th></th>\n",
              "      <th>fl_dur</th>\n",
              "      <th>tot_fw_pk</th>\n",
              "      <th>tot_bw_pk</th>\n",
              "      <th>tot_l_fw_pkt</th>\n",
              "      <th>tot_l_bwd_pkt</th>\n",
              "      <th>fw_pkt_l_max</th>\n",
              "      <th>fw_pkt_l_min</th>\n",
              "      <th>fw_pkt_l_avg</th>\n",
              "      <th>fw_pkt_l_std</th>\n",
              "      <th>Bw_pkt_l_max</th>\n",
              "      <th>Bw_pkt_l_min</th>\n",
              "      <th>Bw_pkt_l_avg</th>\n",
              "      <th>Bw_pkt_l_std</th>\n",
              "      <th>fl_byt_s</th>\n",
              "      <th>fl_pkt_s</th>\n",
              "      <th>fl_iat_avg</th>\n",
              "      <th>fl_iat_std</th>\n",
              "      <th>fl_iat_max</th>\n",
              "      <th>fl_iat_min</th>\n",
              "      <th>fw_iat_tot</th>\n",
              "      <th>fw_iat_avg</th>\n",
              "      <th>fw_iat_std</th>\n",
              "      <th>fw_iat_max</th>\n",
              "      <th>fw_iat_min</th>\n",
              "      <th>bw_iat_tot</th>\n",
              "      <th>bw_iat_avg</th>\n",
              "      <th>bw_iat_std</th>\n",
              "      <th>bw_iat_max</th>\n",
              "      <th>bw_iat_min</th>\n",
              "      <th>fw_psh_flag</th>\n",
              "      <th>bw_psh_flag</th>\n",
              "      <th>fw_urg_flag</th>\n",
              "      <th>bw_urg_flag</th>\n",
              "      <th>fw_hdr_len</th>\n",
              "      <th>bw_hdr_len</th>\n",
              "      <th>fw_pkt_s</th>\n",
              "      <th>bw_pkt_s</th>\n",
              "      <th>pkt_len_min</th>\n",
              "      <th>pkt_len_max</th>\n",
              "      <th>pkt_len_avg</th>\n",
              "      <th>pkt_len_std</th>\n",
              "      <th>pkt_len_va</th>\n",
              "      <th>fin_cnt</th>\n",
              "      <th>syn_cnt</th>\n",
              "      <th>rst_cnt</th>\n",
              "      <th>pst_cnt</th>\n",
              "      <th>ack_cnt</th>\n",
              "      <th>urg_cnt</th>\n",
              "      <th>cwe_cnt</th>\n",
              "      <th>ece_cnt</th>\n",
              "      <th>down_up_ratio</th>\n",
              "      <th>pkt_size_avg</th>\n",
              "      <th>fw_seg_avg</th>\n",
              "      <th>bw_seg_avg</th>\n",
              "      <th>fw_byt_blk_avg</th>\n",
              "      <th>fw_pkt_blk_avg</th>\n",
              "      <th>fw_blk_rate_avg</th>\n",
              "      <th>bw_byt_blk_avg</th>\n",
              "      <th>bw_pkt_blk_avg</th>\n",
              "      <th>bw_blk_rate_avg</th>\n",
              "      <th>subfl_fw_pk</th>\n",
              "      <th>subfl_fw_byt</th>\n",
              "      <th>subfl_bw_pkt</th>\n",
              "      <th>subfl_bw_byt</th>\n",
              "      <th>fw_win_byt</th>\n",
              "      <th>bw_win_byt</th>\n",
              "      <th>Fw_act_pkt</th>\n",
              "      <th>fw_seg_min</th>\n",
              "      <th>atv_avg</th>\n",
              "      <th>atv_std</th>\n",
              "      <th>atv_max</th>\n",
              "      <th>atv_min</th>\n",
              "      <th>idl_avg</th>\n",
              "      <th>idl_std</th>\n",
              "      <th>idl_max</th>\n",
              "      <th>idl_min</th>\n",
              "    </tr>\n",
              "  </thead>\n",
              "  <tbody>\n",
              "    <tr>\n",
              "      <th>0</th>\n",
              "      <td>1.000000</td>\n",
              "      <td>0.116316</td>\n",
              "      <td>0.055962</td>\n",
              "      <td>0.087218</td>\n",
              "      <td>0.040366</td>\n",
              "      <td>0.154579</td>\n",
              "      <td>0.037478</td>\n",
              "      <td>0.082928</td>\n",
              "      <td>0.082201</td>\n",
              "      <td>0.249991</td>\n",
              "      <td>-0.120389</td>\n",
              "      <td>0.228997</td>\n",
              "      <td>0.205841</td>\n",
              "      <td>NaN</td>\n",
              "      <td>NaN</td>\n",
              "      <td>0.530970</td>\n",
              "      <td>0.540763</td>\n",
              "      <td>0.771126</td>\n",
              "      <td>0.453851</td>\n",
              "      <td>0.996987</td>\n",
              "      <td>0.577135</td>\n",
              "      <td>0.614519</td>\n",
              "      <td>0.769459</td>\n",
              "      <td>0.483193</td>\n",
              "      <td>0.793312</td>\n",
              "      <td>0.405757</td>\n",
              "      <td>0.577190</td>\n",
              "      <td>0.600372</td>\n",
              "      <td>0.210708</td>\n",
              "      <td>0.062934</td>\n",
              "      <td>NaN</td>\n",
              "      <td>-0.009374</td>\n",
              "      <td>NaN</td>\n",
              "      <td>0.118029</td>\n",
              "      <td>0.060476</td>\n",
              "      <td>-0.124862</td>\n",
              "      <td>-0.129476</td>\n",
              "      <td>0.037419</td>\n",
              "      <td>0.246691</td>\n",
              "      <td>0.265082</td>\n",
              "      <td>0.235319</td>\n",
              "      <td>0.047300</td>\n",
              "      <td>-0.017666</td>\n",
              "      <td>0.062934</td>\n",
              "      <td>0.047679</td>\n",
              "      <td>0.023310</td>\n",
              "      <td>-0.003419</td>\n",
              "      <td>-0.053328</td>\n",
              "      <td>-0.009374</td>\n",
              "      <td>0.047679</td>\n",
              "      <td>-0.093779</td>\n",
              "      <td>0.237391</td>\n",
              "      <td>0.082928</td>\n",
              "      <td>0.228997</td>\n",
              "      <td>NaN</td>\n",
              "      <td>NaN</td>\n",
              "      <td>NaN</td>\n",
              "      <td>NaN</td>\n",
              "      <td>NaN</td>\n",
              "      <td>NaN</td>\n",
              "      <td>0.116316</td>\n",
              "      <td>0.087218</td>\n",
              "      <td>0.055962</td>\n",
              "      <td>0.040366</td>\n",
              "      <td>0.011846</td>\n",
              "      <td>-0.029958</td>\n",
              "      <td>0.115474</td>\n",
              "      <td>-0.126209</td>\n",
              "      <td>0.199535</td>\n",
              "      <td>0.179026</td>\n",
              "      <td>0.234075</td>\n",
              "      <td>0.151657</td>\n",
              "      <td>0.731863</td>\n",
              "      <td>0.302629</td>\n",
              "      <td>0.752759</td>\n",
              "      <td>0.703756</td>\n",
              "    </tr>\n",
              "    <tr>\n",
              "      <th>1</th>\n",
              "      <td>0.116316</td>\n",
              "      <td>1.000000</td>\n",
              "      <td>0.016596</td>\n",
              "      <td>0.735579</td>\n",
              "      <td>0.010111</td>\n",
              "      <td>-0.012672</td>\n",
              "      <td>0.023254</td>\n",
              "      <td>-0.004726</td>\n",
              "      <td>-0.017541</td>\n",
              "      <td>-0.017529</td>\n",
              "      <td>-0.012202</td>\n",
              "      <td>-0.015490</td>\n",
              "      <td>-0.016805</td>\n",
              "      <td>NaN</td>\n",
              "      <td>NaN</td>\n",
              "      <td>-0.006458</td>\n",
              "      <td>-0.006022</td>\n",
              "      <td>-0.007235</td>\n",
              "      <td>-0.005578</td>\n",
              "      <td>0.117008</td>\n",
              "      <td>-0.006833</td>\n",
              "      <td>-0.006592</td>\n",
              "      <td>-0.007035</td>\n",
              "      <td>-0.005810</td>\n",
              "      <td>-0.005931</td>\n",
              "      <td>-0.004180</td>\n",
              "      <td>-0.005875</td>\n",
              "      <td>-0.005473</td>\n",
              "      <td>-0.002158</td>\n",
              "      <td>-0.005205</td>\n",
              "      <td>NaN</td>\n",
              "      <td>-0.000877</td>\n",
              "      <td>NaN</td>\n",
              "      <td>0.999737</td>\n",
              "      <td>0.012283</td>\n",
              "      <td>-0.011250</td>\n",
              "      <td>-0.011806</td>\n",
              "      <td>0.024047</td>\n",
              "      <td>-0.016400</td>\n",
              "      <td>-0.007237</td>\n",
              "      <td>-0.018557</td>\n",
              "      <td>-0.002011</td>\n",
              "      <td>-0.001630</td>\n",
              "      <td>-0.005205</td>\n",
              "      <td>-0.014467</td>\n",
              "      <td>-0.029734</td>\n",
              "      <td>-0.020715</td>\n",
              "      <td>-0.005383</td>\n",
              "      <td>-0.000877</td>\n",
              "      <td>-0.014467</td>\n",
              "      <td>-0.021951</td>\n",
              "      <td>-0.009504</td>\n",
              "      <td>-0.004726</td>\n",
              "      <td>-0.015490</td>\n",
              "      <td>NaN</td>\n",
              "      <td>NaN</td>\n",
              "      <td>NaN</td>\n",
              "      <td>NaN</td>\n",
              "      <td>NaN</td>\n",
              "      <td>NaN</td>\n",
              "      <td>1.000000</td>\n",
              "      <td>0.735579</td>\n",
              "      <td>0.016596</td>\n",
              "      <td>0.010110</td>\n",
              "      <td>-0.023386</td>\n",
              "      <td>-0.008505</td>\n",
              "      <td>0.999922</td>\n",
              "      <td>-0.042589</td>\n",
              "      <td>-0.000991</td>\n",
              "      <td>-0.000365</td>\n",
              "      <td>-0.000789</td>\n",
              "      <td>-0.000939</td>\n",
              "      <td>-0.007412</td>\n",
              "      <td>-0.002564</td>\n",
              "      <td>-0.007557</td>\n",
              "      <td>-0.007197</td>\n",
              "    </tr>\n",
              "    <tr>\n",
              "      <th>2</th>\n",
              "      <td>0.055962</td>\n",
              "      <td>0.016596</td>\n",
              "      <td>1.000000</td>\n",
              "      <td>0.206393</td>\n",
              "      <td>0.953054</td>\n",
              "      <td>0.059539</td>\n",
              "      <td>-0.007481</td>\n",
              "      <td>0.037116</td>\n",
              "      <td>0.030449</td>\n",
              "      <td>0.058252</td>\n",
              "      <td>-0.007022</td>\n",
              "      <td>0.128535</td>\n",
              "      <td>0.026100</td>\n",
              "      <td>NaN</td>\n",
              "      <td>NaN</td>\n",
              "      <td>-0.005774</td>\n",
              "      <td>0.008875</td>\n",
              "      <td>0.027510</td>\n",
              "      <td>-0.006419</td>\n",
              "      <td>0.051982</td>\n",
              "      <td>-0.004465</td>\n",
              "      <td>0.017737</td>\n",
              "      <td>0.021271</td>\n",
              "      <td>-0.006402</td>\n",
              "      <td>0.068280</td>\n",
              "      <td>0.003299</td>\n",
              "      <td>0.015865</td>\n",
              "      <td>0.042969</td>\n",
              "      <td>-0.001056</td>\n",
              "      <td>0.012291</td>\n",
              "      <td>NaN</td>\n",
              "      <td>-0.001004</td>\n",
              "      <td>NaN</td>\n",
              "      <td>0.033719</td>\n",
              "      <td>0.978076</td>\n",
              "      <td>-0.010823</td>\n",
              "      <td>-0.010808</td>\n",
              "      <td>-0.007662</td>\n",
              "      <td>0.068623</td>\n",
              "      <td>0.155740</td>\n",
              "      <td>0.070101</td>\n",
              "      <td>0.027101</td>\n",
              "      <td>-0.001648</td>\n",
              "      <td>0.012291</td>\n",
              "      <td>0.013404</td>\n",
              "      <td>0.021124</td>\n",
              "      <td>-0.013264</td>\n",
              "      <td>-0.004992</td>\n",
              "      <td>-0.001004</td>\n",
              "      <td>0.013404</td>\n",
              "      <td>0.108324</td>\n",
              "      <td>0.145068</td>\n",
              "      <td>0.037116</td>\n",
              "      <td>0.128535</td>\n",
              "      <td>NaN</td>\n",
              "      <td>NaN</td>\n",
              "      <td>NaN</td>\n",
              "      <td>NaN</td>\n",
              "      <td>NaN</td>\n",
              "      <td>NaN</td>\n",
              "      <td>0.016596</td>\n",
              "      <td>0.206393</td>\n",
              "      <td>1.000000</td>\n",
              "      <td>0.953049</td>\n",
              "      <td>-0.001840</td>\n",
              "      <td>0.009531</td>\n",
              "      <td>0.007292</td>\n",
              "      <td>-0.004393</td>\n",
              "      <td>0.028148</td>\n",
              "      <td>0.019035</td>\n",
              "      <td>0.034321</td>\n",
              "      <td>0.025617</td>\n",
              "      <td>0.024014</td>\n",
              "      <td>0.020878</td>\n",
              "      <td>0.025108</td>\n",
              "      <td>0.021971</td>\n",
              "    </tr>\n",
              "    <tr>\n",
              "      <th>3</th>\n",
              "      <td>0.087218</td>\n",
              "      <td>0.735579</td>\n",
              "      <td>0.206393</td>\n",
              "      <td>1.000000</td>\n",
              "      <td>0.003273</td>\n",
              "      <td>0.057659</td>\n",
              "      <td>0.017246</td>\n",
              "      <td>0.069572</td>\n",
              "      <td>0.023911</td>\n",
              "      <td>-0.009389</td>\n",
              "      <td>-0.009451</td>\n",
              "      <td>-0.010972</td>\n",
              "      <td>-0.011124</td>\n",
              "      <td>NaN</td>\n",
              "      <td>NaN</td>\n",
              "      <td>-0.005077</td>\n",
              "      <td>-0.004011</td>\n",
              "      <td>-0.004632</td>\n",
              "      <td>-0.004490</td>\n",
              "      <td>0.087748</td>\n",
              "      <td>-0.005322</td>\n",
              "      <td>-0.004149</td>\n",
              "      <td>-0.004429</td>\n",
              "      <td>-0.004666</td>\n",
              "      <td>0.000177</td>\n",
              "      <td>-0.002766</td>\n",
              "      <td>-0.003615</td>\n",
              "      <td>-0.002350</td>\n",
              "      <td>-0.001497</td>\n",
              "      <td>-0.004095</td>\n",
              "      <td>NaN</td>\n",
              "      <td>-0.000707</td>\n",
              "      <td>NaN</td>\n",
              "      <td>0.735483</td>\n",
              "      <td>0.094342</td>\n",
              "      <td>-0.009005</td>\n",
              "      <td>-0.009428</td>\n",
              "      <td>0.017647</td>\n",
              "      <td>0.027586</td>\n",
              "      <td>0.012331</td>\n",
              "      <td>0.006374</td>\n",
              "      <td>0.035145</td>\n",
              "      <td>-0.001311</td>\n",
              "      <td>-0.004095</td>\n",
              "      <td>-0.010066</td>\n",
              "      <td>-0.020858</td>\n",
              "      <td>-0.016284</td>\n",
              "      <td>-0.004298</td>\n",
              "      <td>-0.000707</td>\n",
              "      <td>-0.010066</td>\n",
              "      <td>-0.015720</td>\n",
              "      <td>0.009576</td>\n",
              "      <td>0.069572</td>\n",
              "      <td>-0.010972</td>\n",
              "      <td>NaN</td>\n",
              "      <td>NaN</td>\n",
              "      <td>NaN</td>\n",
              "      <td>NaN</td>\n",
              "      <td>NaN</td>\n",
              "      <td>NaN</td>\n",
              "      <td>0.735579</td>\n",
              "      <td>1.000000</td>\n",
              "      <td>0.206393</td>\n",
              "      <td>0.003273</td>\n",
              "      <td>-0.017227</td>\n",
              "      <td>-0.005288</td>\n",
              "      <td>0.735627</td>\n",
              "      <td>-0.031832</td>\n",
              "      <td>0.006269</td>\n",
              "      <td>0.014070</td>\n",
              "      <td>0.014680</td>\n",
              "      <td>0.002454</td>\n",
              "      <td>-0.004856</td>\n",
              "      <td>-0.000389</td>\n",
              "      <td>-0.004798</td>\n",
              "      <td>-0.004924</td>\n",
              "    </tr>\n",
              "    <tr>\n",
              "      <th>4</th>\n",
              "      <td>0.040366</td>\n",
              "      <td>0.010111</td>\n",
              "      <td>0.953054</td>\n",
              "      <td>0.003273</td>\n",
              "      <td>1.000000</td>\n",
              "      <td>0.018268</td>\n",
              "      <td>-0.004318</td>\n",
              "      <td>-0.002781</td>\n",
              "      <td>0.002828</td>\n",
              "      <td>0.040955</td>\n",
              "      <td>-0.003179</td>\n",
              "      <td>0.122585</td>\n",
              "      <td>0.011571</td>\n",
              "      <td>NaN</td>\n",
              "      <td>NaN</td>\n",
              "      <td>-0.003124</td>\n",
              "      <td>0.002888</td>\n",
              "      <td>0.024828</td>\n",
              "      <td>-0.003024</td>\n",
              "      <td>0.036289</td>\n",
              "      <td>-0.002751</td>\n",
              "      <td>0.008435</td>\n",
              "      <td>0.018318</td>\n",
              "      <td>-0.003148</td>\n",
              "      <td>0.046591</td>\n",
              "      <td>-0.000727</td>\n",
              "      <td>0.005738</td>\n",
              "      <td>0.033076</td>\n",
              "      <td>-0.001178</td>\n",
              "      <td>0.010558</td>\n",
              "      <td>NaN</td>\n",
              "      <td>-0.000475</td>\n",
              "      <td>NaN</td>\n",
              "      <td>0.027889</td>\n",
              "      <td>0.984039</td>\n",
              "      <td>-0.006105</td>\n",
              "      <td>-0.006309</td>\n",
              "      <td>-0.004374</td>\n",
              "      <td>0.037871</td>\n",
              "      <td>0.142511</td>\n",
              "      <td>0.049171</td>\n",
              "      <td>0.019703</td>\n",
              "      <td>-0.000880</td>\n",
              "      <td>0.010558</td>\n",
              "      <td>0.004086</td>\n",
              "      <td>0.010127</td>\n",
              "      <td>-0.005078</td>\n",
              "      <td>-0.002885</td>\n",
              "      <td>-0.000475</td>\n",
              "      <td>0.004086</td>\n",
              "      <td>0.082014</td>\n",
              "      <td>0.132790</td>\n",
              "      <td>-0.002781</td>\n",
              "      <td>0.122585</td>\n",
              "      <td>NaN</td>\n",
              "      <td>NaN</td>\n",
              "      <td>NaN</td>\n",
              "      <td>NaN</td>\n",
              "      <td>NaN</td>\n",
              "      <td>NaN</td>\n",
              "      <td>0.010111</td>\n",
              "      <td>0.003273</td>\n",
              "      <td>0.953054</td>\n",
              "      <td>1.000000</td>\n",
              "      <td>-0.003891</td>\n",
              "      <td>-0.000891</td>\n",
              "      <td>0.000326</td>\n",
              "      <td>-0.003627</td>\n",
              "      <td>0.023215</td>\n",
              "      <td>0.010757</td>\n",
              "      <td>0.024768</td>\n",
              "      <td>0.022906</td>\n",
              "      <td>0.020953</td>\n",
              "      <td>0.018415</td>\n",
              "      <td>0.021922</td>\n",
              "      <td>0.019232</td>\n",
              "    </tr>\n",
              "    <tr>\n",
              "      <th>...</th>\n",
              "      <td>...</td>\n",
              "      <td>...</td>\n",
              "      <td>...</td>\n",
              "      <td>...</td>\n",
              "      <td>...</td>\n",
              "      <td>...</td>\n",
              "      <td>...</td>\n",
              "      <td>...</td>\n",
              "      <td>...</td>\n",
              "      <td>...</td>\n",
              "      <td>...</td>\n",
              "      <td>...</td>\n",
              "      <td>...</td>\n",
              "      <td>...</td>\n",
              "      <td>...</td>\n",
              "      <td>...</td>\n",
              "      <td>...</td>\n",
              "      <td>...</td>\n",
              "      <td>...</td>\n",
              "      <td>...</td>\n",
              "      <td>...</td>\n",
              "      <td>...</td>\n",
              "      <td>...</td>\n",
              "      <td>...</td>\n",
              "      <td>...</td>\n",
              "      <td>...</td>\n",
              "      <td>...</td>\n",
              "      <td>...</td>\n",
              "      <td>...</td>\n",
              "      <td>...</td>\n",
              "      <td>...</td>\n",
              "      <td>...</td>\n",
              "      <td>...</td>\n",
              "      <td>...</td>\n",
              "      <td>...</td>\n",
              "      <td>...</td>\n",
              "      <td>...</td>\n",
              "      <td>...</td>\n",
              "      <td>...</td>\n",
              "      <td>...</td>\n",
              "      <td>...</td>\n",
              "      <td>...</td>\n",
              "      <td>...</td>\n",
              "      <td>...</td>\n",
              "      <td>...</td>\n",
              "      <td>...</td>\n",
              "      <td>...</td>\n",
              "      <td>...</td>\n",
              "      <td>...</td>\n",
              "      <td>...</td>\n",
              "      <td>...</td>\n",
              "      <td>...</td>\n",
              "      <td>...</td>\n",
              "      <td>...</td>\n",
              "      <td>...</td>\n",
              "      <td>...</td>\n",
              "      <td>...</td>\n",
              "      <td>...</td>\n",
              "      <td>...</td>\n",
              "      <td>...</td>\n",
              "      <td>...</td>\n",
              "      <td>...</td>\n",
              "      <td>...</td>\n",
              "      <td>...</td>\n",
              "      <td>...</td>\n",
              "      <td>...</td>\n",
              "      <td>...</td>\n",
              "      <td>...</td>\n",
              "      <td>...</td>\n",
              "      <td>...</td>\n",
              "      <td>...</td>\n",
              "      <td>...</td>\n",
              "      <td>...</td>\n",
              "      <td>...</td>\n",
              "      <td>...</td>\n",
              "      <td>...</td>\n",
              "    </tr>\n",
              "    <tr>\n",
              "      <th>71</th>\n",
              "      <td>0.151657</td>\n",
              "      <td>-0.000939</td>\n",
              "      <td>0.025617</td>\n",
              "      <td>0.002454</td>\n",
              "      <td>0.022906</td>\n",
              "      <td>0.020543</td>\n",
              "      <td>0.070087</td>\n",
              "      <td>0.060297</td>\n",
              "      <td>0.008472</td>\n",
              "      <td>-0.000465</td>\n",
              "      <td>-0.022383</td>\n",
              "      <td>0.000902</td>\n",
              "      <td>-0.004007</td>\n",
              "      <td>NaN</td>\n",
              "      <td>NaN</td>\n",
              "      <td>0.007235</td>\n",
              "      <td>0.073446</td>\n",
              "      <td>0.069874</td>\n",
              "      <td>-0.007287</td>\n",
              "      <td>0.147579</td>\n",
              "      <td>0.007048</td>\n",
              "      <td>0.087808</td>\n",
              "      <td>0.066035</td>\n",
              "      <td>-0.007379</td>\n",
              "      <td>0.064160</td>\n",
              "      <td>0.071916</td>\n",
              "      <td>0.083349</td>\n",
              "      <td>0.077129</td>\n",
              "      <td>0.045030</td>\n",
              "      <td>0.005737</td>\n",
              "      <td>NaN</td>\n",
              "      <td>-0.001651</td>\n",
              "      <td>NaN</td>\n",
              "      <td>-0.000672</td>\n",
              "      <td>0.025907</td>\n",
              "      <td>-0.021266</td>\n",
              "      <td>-0.022049</td>\n",
              "      <td>0.070502</td>\n",
              "      <td>0.009154</td>\n",
              "      <td>0.042029</td>\n",
              "      <td>0.005905</td>\n",
              "      <td>0.001833</td>\n",
              "      <td>-0.002764</td>\n",
              "      <td>0.005737</td>\n",
              "      <td>-0.010719</td>\n",
              "      <td>-0.011682</td>\n",
              "      <td>-0.026637</td>\n",
              "      <td>-0.004854</td>\n",
              "      <td>-0.001651</td>\n",
              "      <td>-0.010713</td>\n",
              "      <td>-0.005722</td>\n",
              "      <td>0.039802</td>\n",
              "      <td>0.060297</td>\n",
              "      <td>0.000902</td>\n",
              "      <td>NaN</td>\n",
              "      <td>NaN</td>\n",
              "      <td>NaN</td>\n",
              "      <td>NaN</td>\n",
              "      <td>NaN</td>\n",
              "      <td>NaN</td>\n",
              "      <td>-0.000939</td>\n",
              "      <td>0.002454</td>\n",
              "      <td>0.025617</td>\n",
              "      <td>0.022907</td>\n",
              "      <td>-0.025994</td>\n",
              "      <td>-0.003806</td>\n",
              "      <td>-0.001562</td>\n",
              "      <td>-0.049460</td>\n",
              "      <td>0.910817</td>\n",
              "      <td>0.156787</td>\n",
              "      <td>0.738989</td>\n",
              "      <td>1.000000</td>\n",
              "      <td>0.051871</td>\n",
              "      <td>0.173041</td>\n",
              "      <td>0.076084</td>\n",
              "      <td>0.034518</td>\n",
              "    </tr>\n",
              "    <tr>\n",
              "      <th>72</th>\n",
              "      <td>0.731863</td>\n",
              "      <td>-0.007412</td>\n",
              "      <td>0.024014</td>\n",
              "      <td>-0.004856</td>\n",
              "      <td>0.020953</td>\n",
              "      <td>0.028900</td>\n",
              "      <td>-0.008624</td>\n",
              "      <td>-0.000426</td>\n",
              "      <td>0.001083</td>\n",
              "      <td>0.098683</td>\n",
              "      <td>-0.090895</td>\n",
              "      <td>0.110319</td>\n",
              "      <td>0.083782</td>\n",
              "      <td>NaN</td>\n",
              "      <td>NaN</td>\n",
              "      <td>0.779604</td>\n",
              "      <td>0.524269</td>\n",
              "      <td>0.929343</td>\n",
              "      <td>0.711382</td>\n",
              "      <td>0.727423</td>\n",
              "      <td>0.821957</td>\n",
              "      <td>0.466076</td>\n",
              "      <td>0.924198</td>\n",
              "      <td>0.771011</td>\n",
              "      <td>0.407727</td>\n",
              "      <td>0.359807</td>\n",
              "      <td>0.421709</td>\n",
              "      <td>0.532731</td>\n",
              "      <td>0.282629</td>\n",
              "      <td>0.071554</td>\n",
              "      <td>NaN</td>\n",
              "      <td>-0.007496</td>\n",
              "      <td>NaN</td>\n",
              "      <td>-0.006691</td>\n",
              "      <td>0.025520</td>\n",
              "      <td>-0.096523</td>\n",
              "      <td>-0.100078</td>\n",
              "      <td>-0.010481</td>\n",
              "      <td>0.098778</td>\n",
              "      <td>0.119494</td>\n",
              "      <td>0.100321</td>\n",
              "      <td>0.024485</td>\n",
              "      <td>-0.013546</td>\n",
              "      <td>0.071554</td>\n",
              "      <td>-0.009961</td>\n",
              "      <td>-0.072699</td>\n",
              "      <td>0.110118</td>\n",
              "      <td>-0.043119</td>\n",
              "      <td>-0.007496</td>\n",
              "      <td>-0.009961</td>\n",
              "      <td>-0.090523</td>\n",
              "      <td>0.101956</td>\n",
              "      <td>-0.000426</td>\n",
              "      <td>0.110319</td>\n",
              "      <td>NaN</td>\n",
              "      <td>NaN</td>\n",
              "      <td>NaN</td>\n",
              "      <td>NaN</td>\n",
              "      <td>NaN</td>\n",
              "      <td>NaN</td>\n",
              "      <td>-0.007412</td>\n",
              "      <td>-0.004856</td>\n",
              "      <td>0.024014</td>\n",
              "      <td>0.020953</td>\n",
              "      <td>0.156931</td>\n",
              "      <td>-0.061717</td>\n",
              "      <td>-0.007781</td>\n",
              "      <td>-0.075289</td>\n",
              "      <td>0.062970</td>\n",
              "      <td>0.046643</td>\n",
              "      <td>0.065514</td>\n",
              "      <td>0.051871</td>\n",
              "      <td>1.000000</td>\n",
              "      <td>0.147977</td>\n",
              "      <td>0.990549</td>\n",
              "      <td>0.994816</td>\n",
              "    </tr>\n",
              "    <tr>\n",
              "      <th>73</th>\n",
              "      <td>0.302629</td>\n",
              "      <td>-0.002564</td>\n",
              "      <td>0.020878</td>\n",
              "      <td>-0.000389</td>\n",
              "      <td>0.018415</td>\n",
              "      <td>0.058107</td>\n",
              "      <td>0.278907</td>\n",
              "      <td>0.196314</td>\n",
              "      <td>0.017314</td>\n",
              "      <td>0.029383</td>\n",
              "      <td>-0.038148</td>\n",
              "      <td>0.044349</td>\n",
              "      <td>0.022975</td>\n",
              "      <td>NaN</td>\n",
              "      <td>NaN</td>\n",
              "      <td>0.039628</td>\n",
              "      <td>0.285842</td>\n",
              "      <td>0.257565</td>\n",
              "      <td>-0.010801</td>\n",
              "      <td>0.297947</td>\n",
              "      <td>0.047122</td>\n",
              "      <td>0.379935</td>\n",
              "      <td>0.255111</td>\n",
              "      <td>-0.010600</td>\n",
              "      <td>0.248534</td>\n",
              "      <td>0.333474</td>\n",
              "      <td>0.413208</td>\n",
              "      <td>0.390589</td>\n",
              "      <td>0.204426</td>\n",
              "      <td>0.026733</td>\n",
              "      <td>NaN</td>\n",
              "      <td>-0.002933</td>\n",
              "      <td>NaN</td>\n",
              "      <td>-0.001838</td>\n",
              "      <td>0.022020</td>\n",
              "      <td>-0.037766</td>\n",
              "      <td>-0.039157</td>\n",
              "      <td>0.287311</td>\n",
              "      <td>0.056638</td>\n",
              "      <td>0.177858</td>\n",
              "      <td>0.050946</td>\n",
              "      <td>0.009936</td>\n",
              "      <td>-0.005023</td>\n",
              "      <td>0.026733</td>\n",
              "      <td>-0.010799</td>\n",
              "      <td>0.021133</td>\n",
              "      <td>-0.045866</td>\n",
              "      <td>-0.005596</td>\n",
              "      <td>-0.002933</td>\n",
              "      <td>-0.010802</td>\n",
              "      <td>-0.020422</td>\n",
              "      <td>0.176994</td>\n",
              "      <td>0.196314</td>\n",
              "      <td>0.044349</td>\n",
              "      <td>NaN</td>\n",
              "      <td>NaN</td>\n",
              "      <td>NaN</td>\n",
              "      <td>NaN</td>\n",
              "      <td>NaN</td>\n",
              "      <td>NaN</td>\n",
              "      <td>-0.002564</td>\n",
              "      <td>-0.000389</td>\n",
              "      <td>0.020878</td>\n",
              "      <td>0.018414</td>\n",
              "      <td>-0.022258</td>\n",
              "      <td>-0.023226</td>\n",
              "      <td>-0.002882</td>\n",
              "      <td>-0.023881</td>\n",
              "      <td>0.220192</td>\n",
              "      <td>0.175461</td>\n",
              "      <td>0.227212</td>\n",
              "      <td>0.173041</td>\n",
              "      <td>0.147977</td>\n",
              "      <td>1.000000</td>\n",
              "      <td>0.275708</td>\n",
              "      <td>0.048853</td>\n",
              "    </tr>\n",
              "    <tr>\n",
              "      <th>74</th>\n",
              "      <td>0.752759</td>\n",
              "      <td>-0.007557</td>\n",
              "      <td>0.025108</td>\n",
              "      <td>-0.004798</td>\n",
              "      <td>0.021922</td>\n",
              "      <td>0.035052</td>\n",
              "      <td>0.037150</td>\n",
              "      <td>0.030416</td>\n",
              "      <td>0.002416</td>\n",
              "      <td>0.095811</td>\n",
              "      <td>-0.093442</td>\n",
              "      <td>0.108665</td>\n",
              "      <td>0.080875</td>\n",
              "      <td>NaN</td>\n",
              "      <td>NaN</td>\n",
              "      <td>0.763934</td>\n",
              "      <td>0.549290</td>\n",
              "      <td>0.938060</td>\n",
              "      <td>0.690222</td>\n",
              "      <td>0.748052</td>\n",
              "      <td>0.805784</td>\n",
              "      <td>0.504563</td>\n",
              "      <td>0.932894</td>\n",
              "      <td>0.748128</td>\n",
              "      <td>0.428511</td>\n",
              "      <td>0.402231</td>\n",
              "      <td>0.469297</td>\n",
              "      <td>0.570582</td>\n",
              "      <td>0.308289</td>\n",
              "      <td>0.071960</td>\n",
              "      <td>NaN</td>\n",
              "      <td>-0.007673</td>\n",
              "      <td>NaN</td>\n",
              "      <td>-0.006772</td>\n",
              "      <td>0.026683</td>\n",
              "      <td>-0.098802</td>\n",
              "      <td>-0.102440</td>\n",
              "      <td>0.036702</td>\n",
              "      <td>0.100650</td>\n",
              "      <td>0.139247</td>\n",
              "      <td>0.100904</td>\n",
              "      <td>0.024377</td>\n",
              "      <td>-0.013830</td>\n",
              "      <td>0.071960</td>\n",
              "      <td>-0.012799</td>\n",
              "      <td>-0.068657</td>\n",
              "      <td>0.100531</td>\n",
              "      <td>-0.042409</td>\n",
              "      <td>-0.007673</td>\n",
              "      <td>-0.012799</td>\n",
              "      <td>-0.092980</td>\n",
              "      <td>0.122493</td>\n",
              "      <td>0.030416</td>\n",
              "      <td>0.108665</td>\n",
              "      <td>NaN</td>\n",
              "      <td>NaN</td>\n",
              "      <td>NaN</td>\n",
              "      <td>NaN</td>\n",
              "      <td>NaN</td>\n",
              "      <td>NaN</td>\n",
              "      <td>-0.007557</td>\n",
              "      <td>-0.004798</td>\n",
              "      <td>0.025108</td>\n",
              "      <td>0.021923</td>\n",
              "      <td>0.150448</td>\n",
              "      <td>-0.063381</td>\n",
              "      <td>-0.007944</td>\n",
              "      <td>-0.075827</td>\n",
              "      <td>0.091952</td>\n",
              "      <td>0.066720</td>\n",
              "      <td>0.094344</td>\n",
              "      <td>0.076084</td>\n",
              "      <td>0.990549</td>\n",
              "      <td>0.275708</td>\n",
              "      <td>1.000000</td>\n",
              "      <td>0.972237</td>\n",
              "    </tr>\n",
              "    <tr>\n",
              "      <th>75</th>\n",
              "      <td>0.703756</td>\n",
              "      <td>-0.007197</td>\n",
              "      <td>0.021971</td>\n",
              "      <td>-0.004924</td>\n",
              "      <td>0.019232</td>\n",
              "      <td>0.021792</td>\n",
              "      <td>-0.040587</td>\n",
              "      <td>-0.022362</td>\n",
              "      <td>-0.001341</td>\n",
              "      <td>0.095567</td>\n",
              "      <td>-0.087522</td>\n",
              "      <td>0.105982</td>\n",
              "      <td>0.081318</td>\n",
              "      <td>NaN</td>\n",
              "      <td>NaN</td>\n",
              "      <td>0.783029</td>\n",
              "      <td>0.498727</td>\n",
              "      <td>0.912331</td>\n",
              "      <td>0.719824</td>\n",
              "      <td>0.699690</td>\n",
              "      <td>0.824778</td>\n",
              "      <td>0.430365</td>\n",
              "      <td>0.907311</td>\n",
              "      <td>0.779984</td>\n",
              "      <td>0.381704</td>\n",
              "      <td>0.327400</td>\n",
              "      <td>0.383083</td>\n",
              "      <td>0.498449</td>\n",
              "      <td>0.263797</td>\n",
              "      <td>0.068819</td>\n",
              "      <td>NaN</td>\n",
              "      <td>-0.007239</td>\n",
              "      <td>NaN</td>\n",
              "      <td>-0.006548</td>\n",
              "      <td>0.023363</td>\n",
              "      <td>-0.093217</td>\n",
              "      <td>-0.096650</td>\n",
              "      <td>-0.043423</td>\n",
              "      <td>0.092664</td>\n",
              "      <td>0.100474</td>\n",
              "      <td>0.095015</td>\n",
              "      <td>0.023510</td>\n",
              "      <td>-0.013101</td>\n",
              "      <td>0.068819</td>\n",
              "      <td>-0.009012</td>\n",
              "      <td>-0.075711</td>\n",
              "      <td>0.116144</td>\n",
              "      <td>-0.042867</td>\n",
              "      <td>-0.007239</td>\n",
              "      <td>-0.009012</td>\n",
              "      <td>-0.088687</td>\n",
              "      <td>0.082868</td>\n",
              "      <td>-0.022362</td>\n",
              "      <td>0.105982</td>\n",
              "      <td>NaN</td>\n",
              "      <td>NaN</td>\n",
              "      <td>NaN</td>\n",
              "      <td>NaN</td>\n",
              "      <td>NaN</td>\n",
              "      <td>NaN</td>\n",
              "      <td>-0.007197</td>\n",
              "      <td>-0.004924</td>\n",
              "      <td>0.021971</td>\n",
              "      <td>0.019233</td>\n",
              "      <td>0.161341</td>\n",
              "      <td>-0.059789</td>\n",
              "      <td>-0.007537</td>\n",
              "      <td>-0.073082</td>\n",
              "      <td>0.041270</td>\n",
              "      <td>0.029841</td>\n",
              "      <td>0.042997</td>\n",
              "      <td>0.034518</td>\n",
              "      <td>0.994816</td>\n",
              "      <td>0.048853</td>\n",
              "      <td>0.972237</td>\n",
              "      <td>1.000000</td>\n",
              "    </tr>\n",
              "  </tbody>\n",
              "</table>\n",
              "<p>76 rows × 76 columns</p>\n",
              "</div>"
            ],
            "text/plain": [
              "      fl_dur  tot_fw_pk  tot_bw_pk  ...   idl_std   idl_max   idl_min\n",
              "0   1.000000   0.116316   0.055962  ...  0.302629  0.752759  0.703756\n",
              "1   0.116316   1.000000   0.016596  ... -0.002564 -0.007557 -0.007197\n",
              "2   0.055962   0.016596   1.000000  ...  0.020878  0.025108  0.021971\n",
              "3   0.087218   0.735579   0.206393  ... -0.000389 -0.004798 -0.004924\n",
              "4   0.040366   0.010111   0.953054  ...  0.018415  0.021922  0.019232\n",
              "..       ...        ...        ...  ...       ...       ...       ...\n",
              "71  0.151657  -0.000939   0.025617  ...  0.173041  0.076084  0.034518\n",
              "72  0.731863  -0.007412   0.024014  ...  0.147977  0.990549  0.994816\n",
              "73  0.302629  -0.002564   0.020878  ...  1.000000  0.275708  0.048853\n",
              "74  0.752759  -0.007557   0.025108  ...  0.275708  1.000000  0.972237\n",
              "75  0.703756  -0.007197   0.021971  ...  0.048853  0.972237  1.000000\n",
              "\n",
              "[76 rows x 76 columns]"
            ]
          },
          "metadata": {
            "tags": []
          },
          "execution_count": 39
        }
      ]
    },
    {
      "cell_type": "markdown",
      "metadata": {
        "id": "j31yUL8-VGK1"
      },
      "source": [
        "#Results\n",
        "- A perfect positive correlation (1) exists between column 'tot_fw_pk' (total packet in forward direction) and 'subfl_fw_pk' (The average number of packets in a sub flow in the forward direction)\n",
        "- A perfect positive correlation (1) exists between column 'tot_bw_pk' (total packet in backward direction) and 'subfl_bw_pkt' (The average number of packets in a sub flow in the backward direction)\n",
        "- Very high positive correlation (0.95) exist between column 'tot_l_bw_pkt'(Total size of packet in backward direction) and 'tot_bw_pk' (total packet in backward direction)\n",
        "- High positive correlation (0.75) exist between column 'tot_l_fw_pkt'(Total size of packet in forward direction) and tot_fw_pk (total packet in forward direction)\n",
        "\n",
        "- Therefore, only one of the features that are highly correlated can be kept and others removed when building Machine Learning models to reduce multicollinearity "
      ]
    },
    {
      "cell_type": "code",
      "metadata": {
        "colab": {
          "base_uri": "https://localhost:8080/",
          "height": 766
        },
        "id": "41FqiNFDg3VK",
        "outputId": "7b88e5a4-0be9-4331-d6bd-d71ff9292ab3"
      },
      "source": [
        "# plotting matrix as heat map\n",
        "plt.figure(figsize=[15,15])\n",
        "sns.heatmap(matrix_dfPandas);"
      ],
      "execution_count": null,
      "outputs": [
        {
          "output_type": "display_data",
          "data": {
            "image/png": "[encoded data removed]",
            "text/plain": [
              "<Figure size 1080x1080 with 2 Axes>"
            ]
          },
          "metadata": {
            "tags": [],
            "needs_background": "light"
          }
        }
      ]
    },
    {
      "cell_type": "markdown",
      "metadata": {
        "id": "zwvCMt--VwCB"
      },
      "source": [
        "\n",
        "# Analytical method 3: Using Hypothesis Test - Chisquare Test \n",
        "Determines whether the label is statistically significant (not occured by chance)  or not significant (occured by chance) by testing the label against  each feature.\n",
        "#Results\n",
        "- For the column 'protocol' (Transaction protocol), the chisquare critical value at about 0 p-value (0.00000001) and 26 degree of freedom is 88.41159 which is far less than the calculated statistical value (471479.9929). This means that there is statistically significant difference between the  'protocol' and 'label' columns and the results are not due to chance.\n",
        "\n",
        "- For the column 'tot_fw_pk' (Total packets in the forward direction), the chisquare critical value at about 0 p-value (0.00000001) and 34723 degree of freedom is 36272.487 which is far less than the calculated statistical value (8791714.3356). This means that there is statistically significant difference between the  'tot_fw_pk' and 'label' columns and the results are not due to chance.\n",
        "\n",
        "- For the column 'tot_bw_pk' (Total packets in the backward direction), the chisquare critical value at about 0 p-value (0.00000001) and 17862 degree of freedom is 18979.523 which is far less than the calculated statistical value (4381126.4833). This means that there is statistically significant difference between the  'tot_bw_pkl' and 'label' columns and the results are not due to chance."
      ]
    },
    {
      "cell_type": "code",
      "metadata": {
        "colab": {
          "base_uri": "https://localhost:8080/"
        },
        "id": "blSs5U-YJke8",
        "outputId": "b6ced909-8576-4d51-dc97-eb0e542d1126"
      },
      "source": [
        "# selecting the features to use in chi-square test\n",
        "chi_df = IDS_df2.select('protocol','tot_fw_pk', 'tot_bw_pk', 'label')\n",
        "# chi_df = chi_df.filter(\"label is not NULL and protocol is not NULL and tot_fw_pk is not NULL and tot_bw_pk is not NULL\")\n",
        "\n",
        "# encoding the label column using string indexer\n",
        "indexer = StringIndexer(inputCol=\"label\", outputCol=\"labelEncoded\")\n",
        "chi_df_indexed= indexer.fit(chi_df).transform(chi_df)\n",
        "\n",
        "# creating assembles of vectors for the selected features while skipping the null values\n",
        "assembler_chi = VectorAssembler(inputCols=chi_df.drop('label').columns, outputCol='features', handleInvalid = \"skip\")\n",
        "chi_df_vec = assembler_chi.transform(chi_df_indexed).select('labelEncoded','features')\n",
        "\n",
        "# doing chisquare test for the created features vectors\n",
        "chisquare = ChiSquareTest.test(dataset= chi_df_vec, featuresCol='features', labelCol='labelEncoded')\n",
        "print(chisquare.show())\n",
        "print(chisquare.select('pValues').collect())\n",
        "print(chisquare.select(\"degreesOfFreedom\").collect())\n",
        "print(chisquare.select('statistics').collect())"
      ],
      "execution_count": null,
      "outputs": [
        {
          "output_type": "stream",
          "text": [
            "+-------------+------------------+--------------------+\n",
            "|      pValues|  degreesOfFreedom|          statistics|\n",
            "+-------------+------------------+--------------------+\n",
            "|[0.0,0.0,0.0]|[26, 34723, 17862]|[471479.992872814...|\n",
            "+-------------+------------------+--------------------+\n",
            "\n",
            "None\n",
            "[Row(pValues=DenseVector([0.0, 0.0, 0.0]))]\n",
            "[Row(degreesOfFreedom=[26, 34723, 17862])]\n",
            "[Row(statistics=DenseVector([471479.9929, 8791714.3356, 4381126.4833]))]\n"
          ],
          "name": "stdout"
        }
      ]
    },
    {
      "cell_type": "markdown",
      "metadata": {
        "id": "vBU28mJSd_n5"
      },
      "source": [
        "# Analytical method 4: Here I have created a Density Plot to display the total packets forwarded during the attack carried out with the density.\n",
        "\n",
        "- Created list of attacks and columns.\n",
        "- Used select and where function of PySpark.\n",
        "- Create two different Dataframe to hold the date for particular attack.\n",
        "- Using Pandas library for plotting a density plot with labels.\n",
        "\n"
      ]
    },
    {
      "cell_type": "code",
      "metadata": {
        "colab": {
          "base_uri": "https://localhost:8080/",
          "height": 751
        },
        "id": "tOASkiyueCmO",
        "outputId": "74fbe5cc-876e-4b07-d3ab-f1f65498a044"
      },
      "source": [
        "# Creating list for attacks and columns\n",
        "attacks = ['Benign', 'Brute Force -Web']\n",
        "columns = ['tot_fw_pk', 'tot_bw_pk', 'fl_dur', 'label']\n",
        "\n",
        "# Executing query and saving data in DataFrame\n",
        "crwkDataFramePySpark1 = IDS_df2.select(columns).where( \"label = 'Benign'\").limit(100)\n",
        "crwkDataFramePySpark2 = IDS_df2.select(columns).where( \"label = 'Brute Force -Web'\").limit(100)\n",
        "\n",
        "# Creating a Pandas dataframe using toPandas method, which we use to plot the density plot.\n",
        "pandas_df1 = crwkDataFramePySpark1.toPandas()\n",
        "pandas_df2 = crwkDataFramePySpark2.toPandas()\n",
        "\n",
        "# Made a union of two dataframes\n",
        "pandas_dfs = [pandas_df1, pandas_df2]\n",
        "pandas_df = pd.concat([pandas_df1,pandas_df2])\n",
        "for attack in attacks:\n",
        "    # Subset to the attack\n",
        "    subset = pandas_df[pandas_df['label'] == attack]\n",
        "    # Draw the density plot\n",
        "    sns.displot(subset['tot_fw_pk'],  kde = True,\n",
        "                 label = attack)\n",
        "    \n",
        "    # Designing Plot graph\n",
        "    plt.legend(prop={'size': 16}, title = 'Attack')\n",
        "    # Added title to the plot\n",
        "    plt.title('Density Plot with Multiple Attack')\n",
        "    # Adding label to the X axis\n",
        "    plt.xlabel('Packets forwarded')\n",
        "    # Adding label to the X axis\n",
        "    plt.ylabel('Density')\n",
        "    \n",
        "\n",
        "# Here I have created a Density Plot to display the total packets forwarded during the attack carried out with the density."
      ],
      "execution_count": null,
      "outputs": [
        {
          "output_type": "display_data",
          "data": {
            "image/png": "[encoded data removed]",
            "text/plain": [
              "<Figure size 360x360 with 1 Axes>"
            ]
          },
          "metadata": {
            "tags": [],
            "needs_background": "light"
          }
        },
        {
          "output_type": "display_data",
          "data": {
            "image/png": "[encoded data removed]",
            "text/plain": [
              "<Figure size 360x360 with 1 Axes>"
            ]
          },
          "metadata": {
            "tags": [],
            "needs_background": "light"
          }
        }
      ]
    },
    {
      "cell_type": "markdown",
      "metadata": {
        "id": "dXuKRriqgOfJ"
      },
      "source": [
        "# Analytical method 5: Percentile\n",
        "- Here I have used a quatile analytical method to display the quartiles for column 'tot_fw_pk'\n",
        "- Here, pandas_df.sort_value would sort values in an ascending order for tot_fw_pk\n",
        "- Calculating 25th percentile : (25*100)*100 = 25, so here P(25) here is 3, Similarly P(50) is also 3 and P(75) is 5 which\n",
        "- means 75% takes values of 5 or less."
      ]
    },
    {
      "cell_type": "code",
      "metadata": {
        "colab": {
          "base_uri": "https://localhost:8080/",
          "height": 528
        },
        "id": "_ai8bwHOeC-A",
        "outputId": "619a4367-0505-47e3-ccc2-22f9c1dbfad2"
      },
      "source": [
        "# Analytical method 2: QUANTILE\n",
        "\n",
        "# Sorting values in ascending order for quantile\n",
        "pandas_df_quantile = pandas_df1.sort_values(by = ['tot_fw_pk'])\n",
        "# Resetting  index for new sorted dataframe\n",
        "pandas_df_quantile = pandas_df_quantile.reset_index(drop=True)\n",
        "# Displaying the sorted dataframe\n",
        "display(pandas_df_quantile)\n",
        "# Creating quartiles of the value passed in the array\n",
        "quartiles = pandas_df.quantile([0.25, 0.5, 0.75])\n",
        "# Displaying quartiles.\n",
        "display(quartiles)\n",
        "\n",
        "\n",
        "\n",
        "\n",
        "\n"
      ],
      "execution_count": null,
      "outputs": [
        {
          "output_type": "display_data",
          "data": {
            "text/html": [
              "<div>\n",
              "<style scoped>\n",
              "    .dataframe tbody tr th:only-of-type {\n",
              "        vertical-align: middle;\n",
              "    }\n",
              "\n",
              "    .dataframe tbody tr th {\n",
              "        vertical-align: top;\n",
              "    }\n",
              "\n",
              "    .dataframe thead th {\n",
              "        text-align: right;\n",
              "    }\n",
              "</style>\n",
              "<table border=\"1\" class=\"dataframe\">\n",
              "  <thead>\n",
              "    <tr style=\"text-align: right;\">\n",
              "      <th></th>\n",
              "      <th>tot_fw_pk</th>\n",
              "      <th>tot_bw_pk</th>\n",
              "      <th>fl_dur</th>\n",
              "      <th>label</th>\n",
              "    </tr>\n",
              "  </thead>\n",
              "  <tbody>\n",
              "    <tr>\n",
              "      <th>0</th>\n",
              "      <td>1</td>\n",
              "      <td>1</td>\n",
              "      <td>581</td>\n",
              "      <td>Benign</td>\n",
              "    </tr>\n",
              "    <tr>\n",
              "      <th>1</th>\n",
              "      <td>1</td>\n",
              "      <td>1</td>\n",
              "      <td>678</td>\n",
              "      <td>Benign</td>\n",
              "    </tr>\n",
              "    <tr>\n",
              "      <th>2</th>\n",
              "      <td>1</td>\n",
              "      <td>1</td>\n",
              "      <td>666</td>\n",
              "      <td>Benign</td>\n",
              "    </tr>\n",
              "    <tr>\n",
              "      <th>3</th>\n",
              "      <td>1</td>\n",
              "      <td>1</td>\n",
              "      <td>676</td>\n",
              "      <td>Benign</td>\n",
              "    </tr>\n",
              "    <tr>\n",
              "      <th>4</th>\n",
              "      <td>3</td>\n",
              "      <td>0</td>\n",
              "      <td>112641719</td>\n",
              "      <td>Benign</td>\n",
              "    </tr>\n",
              "    <tr>\n",
              "      <th>...</th>\n",
              "      <td>...</td>\n",
              "      <td>...</td>\n",
              "      <td>...</td>\n",
              "      <td>...</td>\n",
              "    </tr>\n",
              "    <tr>\n",
              "      <th>95</th>\n",
              "      <td>15</td>\n",
              "      <td>17</td>\n",
              "      <td>3714671</td>\n",
              "      <td>Benign</td>\n",
              "    </tr>\n",
              "    <tr>\n",
              "      <th>96</th>\n",
              "      <td>15</td>\n",
              "      <td>10</td>\n",
              "      <td>6453966</td>\n",
              "      <td>Benign</td>\n",
              "    </tr>\n",
              "    <tr>\n",
              "      <th>97</th>\n",
              "      <td>16</td>\n",
              "      <td>12</td>\n",
              "      <td>6989341</td>\n",
              "      <td>Benign</td>\n",
              "    </tr>\n",
              "    <tr>\n",
              "      <th>98</th>\n",
              "      <td>41</td>\n",
              "      <td>36</td>\n",
              "      <td>23325726</td>\n",
              "      <td>Benign</td>\n",
              "    </tr>\n",
              "    <tr>\n",
              "      <th>99</th>\n",
              "      <td>91</td>\n",
              "      <td>83</td>\n",
              "      <td>72593289</td>\n",
              "      <td>Benign</td>\n",
              "    </tr>\n",
              "  </tbody>\n",
              "</table>\n",
              "<p>100 rows × 4 columns</p>\n",
              "</div>"
            ],
            "text/plain": [
              "    tot_fw_pk  tot_bw_pk     fl_dur   label\n",
              "0           1          1        581  Benign\n",
              "1           1          1        678  Benign\n",
              "2           1          1        666  Benign\n",
              "3           1          1        676  Benign\n",
              "4           3          0  112641719  Benign\n",
              "..        ...        ...        ...     ...\n",
              "95         15         17    3714671  Benign\n",
              "96         15         10    6453966  Benign\n",
              "97         16         12    6989341  Benign\n",
              "98         41         36   23325726  Benign\n",
              "99         91         83   72593289  Benign\n",
              "\n",
              "[100 rows x 4 columns]"
            ]
          },
          "metadata": {
            "tags": []
          }
        },
        {
          "output_type": "display_data",
          "data": {
            "text/html": [
              "<div>\n",
              "<style scoped>\n",
              "    .dataframe tbody tr th:only-of-type {\n",
              "        vertical-align: middle;\n",
              "    }\n",
              "\n",
              "    .dataframe tbody tr th {\n",
              "        vertical-align: top;\n",
              "    }\n",
              "\n",
              "    .dataframe thead th {\n",
              "        text-align: right;\n",
              "    }\n",
              "</style>\n",
              "<table border=\"1\" class=\"dataframe\">\n",
              "  <thead>\n",
              "    <tr style=\"text-align: right;\">\n",
              "      <th></th>\n",
              "      <th>tot_fw_pk</th>\n",
              "      <th>tot_bw_pk</th>\n",
              "      <th>fl_dur</th>\n",
              "    </tr>\n",
              "  </thead>\n",
              "  <tbody>\n",
              "    <tr>\n",
              "      <th>0.25</th>\n",
              "      <td>3.0</td>\n",
              "      <td>0.0</td>\n",
              "      <td>4.748620e+05</td>\n",
              "    </tr>\n",
              "    <tr>\n",
              "      <th>0.50</th>\n",
              "      <td>4.0</td>\n",
              "      <td>3.0</td>\n",
              "      <td>5.008360e+06</td>\n",
              "    </tr>\n",
              "    <tr>\n",
              "      <th>0.75</th>\n",
              "      <td>5.0</td>\n",
              "      <td>4.0</td>\n",
              "      <td>1.126352e+08</td>\n",
              "    </tr>\n",
              "  </tbody>\n",
              "</table>\n",
              "</div>"
            ],
            "text/plain": [
              "      tot_fw_pk  tot_bw_pk        fl_dur\n",
              "0.25        3.0        0.0  4.748620e+05\n",
              "0.50        4.0        3.0  5.008360e+06\n",
              "0.75        5.0        4.0  1.126352e+08"
            ]
          },
          "metadata": {
            "tags": []
          }
        }
      ]
    },
    {
      "cell_type": "markdown",
      "metadata": {
        "id": "zomshullhh3I"
      },
      "source": [
        "# Analytical method 6: Five number summary\n",
        "\n",
        "- Here I have used a Five number summary which shows all the mean, std, all quariles and max\n",
        "- And there is a boxplot which also show where the most of the data range"
      ]
    },
    {
      "cell_type": "code",
      "metadata": {
        "colab": {
          "base_uri": "https://localhost:8080/",
          "height": 539
        },
        "id": "Xl7YGbQjhgHA",
        "outputId": "896dc465-b98a-4f0b-e7ce-cc8f44452bf9"
      },
      "source": [
        "# Analytical method 3: Five number summary\n",
        "\n",
        "# Creating a new dataframe for Five Number Summary for two columns tot_fw_pk and tot_bw_pk for label 'Brute Force -Web'\n",
        "crwkDataFrameFiveNumberSummary = IDS_df2.select('tot_fw_pk', 'tot_bw_pk').where( \"label = 'Brute Force -Web'\").limit(100)\n",
        "pandasDfFiveNumberSummary = crwkDataFrameFiveNumberSummary.toPandas()\n",
        "quartiles_fw = pandasDfFiveNumberSummary.quantile([0.25, 0.5 , 0.75])\n",
        "\n",
        "display(pandasDfFiveNumberSummary.describe())\n",
        "# Creating a boxplot to view  where the range of data lies\n",
        "boxplot = pandasDfFiveNumberSummary.boxplot()\n",
        "\n"
      ],
      "execution_count": null,
      "outputs": [
        {
          "output_type": "display_data",
          "data": {
            "text/html": [
              "<div>\n",
              "<style scoped>\n",
              "    .dataframe tbody tr th:only-of-type {\n",
              "        vertical-align: middle;\n",
              "    }\n",
              "\n",
              "    .dataframe tbody tr th {\n",
              "        vertical-align: top;\n",
              "    }\n",
              "\n",
              "    .dataframe thead th {\n",
              "        text-align: right;\n",
              "    }\n",
              "</style>\n",
              "<table border=\"1\" class=\"dataframe\">\n",
              "  <thead>\n",
              "    <tr style=\"text-align: right;\">\n",
              "      <th></th>\n",
              "      <th>tot_fw_pk</th>\n",
              "      <th>tot_bw_pk</th>\n",
              "    </tr>\n",
              "  </thead>\n",
              "  <tbody>\n",
              "    <tr>\n",
              "      <th>count</th>\n",
              "      <td>100.000000</td>\n",
              "      <td>100.000000</td>\n",
              "    </tr>\n",
              "    <tr>\n",
              "      <th>mean</th>\n",
              "      <td>41.060000</td>\n",
              "      <td>27.590000</td>\n",
              "    </tr>\n",
              "    <tr>\n",
              "      <th>std</th>\n",
              "      <td>65.059696</td>\n",
              "      <td>44.518773</td>\n",
              "    </tr>\n",
              "    <tr>\n",
              "      <th>min</th>\n",
              "      <td>2.000000</td>\n",
              "      <td>0.000000</td>\n",
              "    </tr>\n",
              "    <tr>\n",
              "      <th>25%</th>\n",
              "      <td>2.000000</td>\n",
              "      <td>0.000000</td>\n",
              "    </tr>\n",
              "    <tr>\n",
              "      <th>50%</th>\n",
              "      <td>4.000000</td>\n",
              "      <td>3.000000</td>\n",
              "    </tr>\n",
              "    <tr>\n",
              "      <th>75%</th>\n",
              "      <td>54.750000</td>\n",
              "      <td>38.750000</td>\n",
              "    </tr>\n",
              "    <tr>\n",
              "      <th>max</th>\n",
              "      <td>154.000000</td>\n",
              "      <td>108.000000</td>\n",
              "    </tr>\n",
              "  </tbody>\n",
              "</table>\n",
              "</div>"
            ],
            "text/plain": [
              "        tot_fw_pk   tot_bw_pk\n",
              "count  100.000000  100.000000\n",
              "mean    41.060000   27.590000\n",
              "std     65.059696   44.518773\n",
              "min      2.000000    0.000000\n",
              "25%      2.000000    0.000000\n",
              "50%      4.000000    3.000000\n",
              "75%     54.750000   38.750000\n",
              "max    154.000000  108.000000"
            ]
          },
          "metadata": {
            "tags": []
          }
        },
        {
          "output_type": "display_data",
          "data": {
            "image/png": "[encoded data removed]",
            "text/plain": [
              "<Figure size 432x288 with 1 Axes>"
            ]
          },
          "metadata": {
            "tags": [],
            "needs_background": "light"
          }
        }
      ]
    },
    {
      "cell_type": "markdown",
      "metadata": {
        "id": "wHft1Jht1Qxl"
      },
      "source": [
        "## PySpark - 2b\n",
        "\n",
        "---\n"
      ]
    },
    {
      "cell_type": "markdown",
      "metadata": {
        "id": "t_0alN4NnCcE"
      },
      "source": [
        "# Machine Learning Technique:Build a Machine Learning model using Logistic Regression model and evaluate using a MulticlassClassificationEvaluator.\n",
        "- Firstly, I did some feature enineering which involves dropping the 'timestamp' column because it is different for every rows in our dataset and thus, encoding it might not be useful. \n",
        "- I also dropped the null values so as not to affect the assembler.\n",
        "- Next, I encoded the 'label' column using string indexer.\n",
        "- Then, I created features vector for the columns of features using vector assembler\n",
        "- Created a pipeline to fit and transform the assembler\n",
        "- Instantiated a Logistic Regression Claasifier - multiclassification\n",
        "- Finally, I evaluated the model\n",
        "\n",
        "\n",
        "\n",
        "\n"
      ]
    },
    {
      "cell_type": "code",
      "source": [
        "# dropping the timestamp column and null values\n",
        "IDS_df2_ml = IDS_df2.drop('timestamp')\n",
        "IDS_df2_ml = IDS_df2_ml.na.drop()\n",
        "IDS_df2_ml = IDS_df2_ml.withColumn(\"fl_dur\", IDS_df2_ml.fl_dur.cast(\"integer\"))\n",
        "\n",
        "# encoding the label column\n",
        "indexer = StringIndexer(inputCol=\"label\", outputCol=\"labelEncoded\")\n",
        "IDS_df2_indexed= indexer.fit(IDS_df2_ml).transform(IDS_df2_ml)\n",
        "IDS_df2_indexed.take(5)"
      ],
      "metadata": {
        "colab": {
          "base_uri": "https://localhost:8080/"
        },
        "id": "Dd08oR5zG6-M",
        "outputId": "ec86babd-7006-42d1-c44b-95149215e476"
      },
      "execution_count": null,
      "outputs": [
        {
          "output_type": "execute_result",
          "data": {
            "text/plain": [
              "[Row(dst_port=0, protocol=0, fl_dur=112641719, tot_fw_pk=3, tot_bw_pk=0, tot_l_fw_pkt=0, tot_l_bwd_pkt =0.0, fw_pkt_l_max=0, fw_pkt_l_min=0, fw_pkt_l_avg=0.0, fw_pkt_l_std=0.0, Bw_pkt_l_max=0, Bw_pkt_l_min=0, Bw_pkt_l_avg=0.0, Bw_pkt_l_std=0.0, fl_byt_s=0.0, fl_pkt_s=0.0266331163, fl_iat_avg=56320859.5, fl_iat_std=139.3000358938, fl_iat_max=56320958.0, fl_iat_min=56320761.0, fw_iat_tot=112641719.0, fw_iat_avg=56320859.5, fw_iat_std=139.3000358938, fw_iat_max=56320958.0, fw_iat_min=56320761.0, bw_iat_tot=0.0, bw_iat_avg=0.0, bw_iat_std=0.0, bw_iat_max=0.0, bw_iat_min=0.0, fw_psh_flag=0, bw_psh_flag=0, fw_urg_flag=0, bw_urg_flag=0, fw_hdr_len=0, bw_hdr_len=0, fw_pkt_s=0.0266331163, bw_pkt_s=0.0, pkt_len_min=0, pkt_len_max=0, pkt_len_avg=0.0, pkt_len_std=0.0, pkt_len_va=0.0, fin_cnt=0, syn_cnt=0, rst_cnt=0, pst_cnt=0, ack_cnt=0, urg_cnt=0, cwe_cnt=0, ece_cnt=0, down_up_ratio=0, pkt_size_avg=0.0, fw_seg_avg=0.0, bw_seg_avg=0.0, fw_byt_blk_avg=0, fw_pkt_blk_avg=0, fw_blk_rate_avg=0, bw_byt_blk_avg=0, bw_pkt_blk_avg=0, bw_blk_rate_avg=0, subfl_fw_pk=3, subfl_fw_byt=0, subfl_bw_pkt=0, subfl_bw_byt=0, fw_win_byt=-1, bw_win_byt=-1, Fw_act_pkt=0, fw_seg_min=0, atv_avg=0.0, atv_std=0.0, atv_max=0.0, atv_min=0.0, idl_avg=56320859.5, idl_std=139.3000358938, idl_max=56320958.0, idl_min=56320761.0, label='Benign', labelEncoded=0.0),\n",
              " Row(dst_port=0, protocol=0, fl_dur=112641466, tot_fw_pk=3, tot_bw_pk=0, tot_l_fw_pkt=0, tot_l_bwd_pkt =0.0, fw_pkt_l_max=0, fw_pkt_l_min=0, fw_pkt_l_avg=0.0, fw_pkt_l_std=0.0, Bw_pkt_l_max=0, Bw_pkt_l_min=0, Bw_pkt_l_avg=0.0, Bw_pkt_l_std=0.0, fl_byt_s=0.0, fl_pkt_s=0.0266331761, fl_iat_avg=56320733.0, fl_iat_std=114.5512985522, fl_iat_max=56320814.0, fl_iat_min=56320652.0, fw_iat_tot=112641466.0, fw_iat_avg=56320733.0, fw_iat_std=114.5512985522, fw_iat_max=56320814.0, fw_iat_min=56320652.0, bw_iat_tot=0.0, bw_iat_avg=0.0, bw_iat_std=0.0, bw_iat_max=0.0, bw_iat_min=0.0, fw_psh_flag=0, bw_psh_flag=0, fw_urg_flag=0, bw_urg_flag=0, fw_hdr_len=0, bw_hdr_len=0, fw_pkt_s=0.0266331761, bw_pkt_s=0.0, pkt_len_min=0, pkt_len_max=0, pkt_len_avg=0.0, pkt_len_std=0.0, pkt_len_va=0.0, fin_cnt=0, syn_cnt=0, rst_cnt=0, pst_cnt=0, ack_cnt=0, urg_cnt=0, cwe_cnt=0, ece_cnt=0, down_up_ratio=0, pkt_size_avg=0.0, fw_seg_avg=0.0, bw_seg_avg=0.0, fw_byt_blk_avg=0, fw_pkt_blk_avg=0, fw_blk_rate_avg=0, bw_byt_blk_avg=0, bw_pkt_blk_avg=0, bw_blk_rate_avg=0, subfl_fw_pk=3, subfl_fw_byt=0, subfl_bw_pkt=0, subfl_bw_byt=0, fw_win_byt=-1, bw_win_byt=-1, Fw_act_pkt=0, fw_seg_min=0, atv_avg=0.0, atv_std=0.0, atv_max=0.0, atv_min=0.0, idl_avg=56320733.0, idl_std=114.5512985522, idl_max=56320814.0, idl_min=56320652.0, label='Benign', labelEncoded=0.0),\n",
              " Row(dst_port=0, protocol=0, fl_dur=112638623, tot_fw_pk=3, tot_bw_pk=0, tot_l_fw_pkt=0, tot_l_bwd_pkt =0.0, fw_pkt_l_max=0, fw_pkt_l_min=0, fw_pkt_l_avg=0.0, fw_pkt_l_std=0.0, Bw_pkt_l_max=0, Bw_pkt_l_min=0, Bw_pkt_l_avg=0.0, Bw_pkt_l_std=0.0, fl_byt_s=0.0, fl_pkt_s=0.0266338483, fl_iat_avg=56319311.5, fl_iat_std=301.9345955667, fl_iat_max=56319525.0, fl_iat_min=56319098.0, fw_iat_tot=112638623.0, fw_iat_avg=56319311.5, fw_iat_std=301.9345955667, fw_iat_max=56319525.0, fw_iat_min=56319098.0, bw_iat_tot=0.0, bw_iat_avg=0.0, bw_iat_std=0.0, bw_iat_max=0.0, bw_iat_min=0.0, fw_psh_flag=0, bw_psh_flag=0, fw_urg_flag=0, bw_urg_flag=0, fw_hdr_len=0, bw_hdr_len=0, fw_pkt_s=0.0266338483, bw_pkt_s=0.0, pkt_len_min=0, pkt_len_max=0, pkt_len_avg=0.0, pkt_len_std=0.0, pkt_len_va=0.0, fin_cnt=0, syn_cnt=0, rst_cnt=0, pst_cnt=0, ack_cnt=0, urg_cnt=0, cwe_cnt=0, ece_cnt=0, down_up_ratio=0, pkt_size_avg=0.0, fw_seg_avg=0.0, bw_seg_avg=0.0, fw_byt_blk_avg=0, fw_pkt_blk_avg=0, fw_blk_rate_avg=0, bw_byt_blk_avg=0, bw_pkt_blk_avg=0, bw_blk_rate_avg=0, subfl_fw_pk=3, subfl_fw_byt=0, subfl_bw_pkt=0, subfl_bw_byt=0, fw_win_byt=-1, bw_win_byt=-1, Fw_act_pkt=0, fw_seg_min=0, atv_avg=0.0, atv_std=0.0, atv_max=0.0, atv_min=0.0, idl_avg=56319311.5, idl_std=301.9345955667, idl_max=56319525.0, idl_min=56319098.0, label='Benign', labelEncoded=0.0),\n",
              " Row(dst_port=22, protocol=6, fl_dur=6453966, tot_fw_pk=15, tot_bw_pk=10, tot_l_fw_pkt=1239, tot_l_bwd_pkt =2273.0, fw_pkt_l_max=744, fw_pkt_l_min=0, fw_pkt_l_avg=82.6, fw_pkt_l_std=196.7412368715, Bw_pkt_l_max=976, Bw_pkt_l_min=0, Bw_pkt_l_avg=227.3, Bw_pkt_l_std=371.6778922072, fl_byt_s=544.1615279659, fl_pkt_s=3.8735871865, fl_iat_avg=268915.25, fl_iat_std=247443.778966007, fl_iat_max=673900.0, fl_iat_min=22.0, fw_iat_tot=6453966.0, fw_iat_avg=460997.571428571, fw_iat_std=123109.423587757, fw_iat_max=673900.0, fw_iat_min=229740.0, bw_iat_tot=5637902.0, bw_iat_avg=626433.555555556, bw_iat_std=455082.21422401, bw_iat_max=1167293.0, bw_iat_min=554.0, fw_psh_flag=0, bw_psh_flag=0, fw_urg_flag=0, bw_urg_flag=0, fw_hdr_len=488, bw_hdr_len=328, fw_pkt_s=2.3241523119, bw_pkt_s=1.5494348746, pkt_len_min=0, pkt_len_max=976, pkt_len_avg=135.0769230769, pkt_len_std=277.8347599674, pkt_len_va=77192.1538461539, fin_cnt=0, syn_cnt=0, rst_cnt=0, pst_cnt=1, ack_cnt=0, urg_cnt=0, cwe_cnt=0, ece_cnt=0, down_up_ratio=0, pkt_size_avg=140.48, fw_seg_avg=82.6, bw_seg_avg=227.3, fw_byt_blk_avg=0, fw_pkt_blk_avg=0, fw_blk_rate_avg=0, bw_byt_blk_avg=0, bw_pkt_blk_avg=0, bw_blk_rate_avg=0, subfl_fw_pk=15, subfl_fw_byt=1239, subfl_bw_pkt=10, subfl_bw_byt=2273, fw_win_byt=65535, bw_win_byt=233, Fw_act_pkt=6, fw_seg_min=32, atv_avg=0.0, atv_std=0.0, atv_max=0.0, atv_min=0.0, idl_avg=0.0, idl_std=0.0, idl_max=0.0, idl_min=0.0, label='Benign', labelEncoded=0.0),\n",
              " Row(dst_port=22, protocol=6, fl_dur=8804066, tot_fw_pk=14, tot_bw_pk=11, tot_l_fw_pkt=1143, tot_l_bwd_pkt =2209.0, fw_pkt_l_max=744, fw_pkt_l_min=0, fw_pkt_l_avg=81.6428571429, fw_pkt_l_std=203.7455453568, Bw_pkt_l_max=976, Bw_pkt_l_min=0, Bw_pkt_l_avg=200.8181818182, Bw_pkt_l_std=362.2498635422, fl_byt_s=380.7331748762, fl_pkt_s=2.839597068, fl_iat_avg=366836.083333333, fl_iat_std=511356.609732762, fl_iat_max=1928102.0, fl_iat_min=21.0, fw_iat_tot=8804066.0, fw_iat_avg=677235.846153846, fw_iat_std=532416.970958985, fw_iat_max=1928102.0, fw_iat_min=246924.0, bw_iat_tot=7715481.0, bw_iat_avg=771548.1, bw_iat_std=755543.082716951, bw_iat_max=2174893.0, bw_iat_min=90.0, fw_psh_flag=0, bw_psh_flag=0, fw_urg_flag=0, bw_urg_flag=0, fw_hdr_len=456, bw_hdr_len=360, fw_pkt_s=1.5901743581, bw_pkt_s=1.2494227099, pkt_len_min=0, pkt_len_max=976, pkt_len_avg=128.9230769231, pkt_len_std=279.7630315931, pkt_len_va=78267.3538461539, fin_cnt=0, syn_cnt=0, rst_cnt=0, pst_cnt=1, ack_cnt=0, urg_cnt=0, cwe_cnt=0, ece_cnt=0, down_up_ratio=0, pkt_size_avg=134.08, fw_seg_avg=81.6428571429, bw_seg_avg=200.8181818182, fw_byt_blk_avg=0, fw_pkt_blk_avg=0, fw_blk_rate_avg=0, bw_byt_blk_avg=0, bw_pkt_blk_avg=0, bw_blk_rate_avg=0, subfl_fw_pk=14, subfl_fw_byt=1143, subfl_bw_pkt=11, subfl_bw_byt=2209, fw_win_byt=5808, bw_win_byt=233, Fw_act_pkt=6, fw_seg_min=32, atv_avg=0.0, atv_std=0.0, atv_max=0.0, atv_min=0.0, idl_avg=0.0, idl_std=0.0, idl_max=0.0, idl_min=0.0, label='Benign', labelEncoded=0.0)]"
            ]
          },
          "metadata": {},
          "execution_count": 14
        }
      ]
    },
    {
      "cell_type": "code",
      "metadata": {
        "colab": {
          "base_uri": "https://localhost:8080/"
        },
        "id": "Dz3_dwZLFatN",
        "outputId": "6152b84d-9768-424b-c445-a37982246bc5"
      },
      "source": [
        "# dropping the timestamp column and null values\n",
        "IDS_df2_ml = IDS_df2.drop('timestamp')\n",
        "IDS_df2_ml = IDS_df2_ml.na.drop()\n",
        "IDS_df2_ml = IDS_df2_ml.withColumn(\"fl_dur\", IDS_df2_ml.fl_dur.cast(\"integer\"))\n",
        "\n",
        "# encoding the label column\n",
        "indexer = StringIndexer(inputCol=\"label\", outputCol=\"labelEncoded\")\n",
        "IDS_df2_indexed= indexer.fit(IDS_df2_ml).transform(IDS_df2_ml)\n",
        "IDS_df2_indexed.take(5)"
      ],
      "execution_count": null,
      "outputs": [
        {
          "output_type": "execute_result",
          "data": {
            "text/plain": [
              "[Row(dst_port=0, protocol=0, fl_dur=112641719, tot_fw_pk=3, tot_bw_pk=0, tot_l_fw_pkt=0, tot_l_bwd_pkt =0.0, fw_pkt_l_max=0, fw_pkt_l_min=0, fw_pkt_l_avg=0.0, fw_pkt_l_std=0.0, Bw_pkt_l_max=0, Bw_pkt_l_min=0, Bw_pkt_l_avg=0.0, Bw_pkt_l_std=0.0, fl_byt_s=0.0, fl_pkt_s=0.0266331163, fl_iat_avg=56320859.5, fl_iat_std=139.3000358938, fl_iat_max=56320958.0, fl_iat_min=56320761.0, fw_iat_tot=112641719.0, fw_iat_avg=56320859.5, fw_iat_std=139.3000358938, fw_iat_max=56320958.0, fw_iat_min=56320761.0, bw_iat_tot=0.0, bw_iat_avg=0.0, bw_iat_std=0.0, bw_iat_max=0.0, bw_iat_min=0.0, fw_psh_flag=0, bw_psh_flag=0, fw_urg_flag=0, bw_urg_flag=0, fw_hdr_len=0, bw_hdr_len=0, fw_pkt_s=0.0266331163, bw_pkt_s=0.0, pkt_len_min=0, pkt_len_max=0, pkt_len_avg=0.0, pkt_len_std=0.0, pkt_len_va=0.0, fin_cnt=0, syn_cnt=0, rst_cnt=0, pst_cnt=0, ack_cnt=0, urg_cnt=0, cwe_cnt=0, ece_cnt=0, down_up_ratio=0, pkt_size_avg=0.0, fw_seg_avg=0.0, bw_seg_avg=0.0, fw_byt_blk_avg=0, fw_pkt_blk_avg=0, fw_blk_rate_avg=0, bw_byt_blk_avg=0, bw_pkt_blk_avg=0, bw_blk_rate_avg=0, subfl_fw_pk=3, subfl_fw_byt=0, subfl_bw_pkt=0, subfl_bw_byt=0, fw_win_byt=-1, bw_win_byt=-1, Fw_act_pkt=0, fw_seg_min=0, atv_avg=0.0, atv_std=0.0, atv_max=0.0, atv_min=0.0, idl_avg=56320859.5, idl_std=139.3000358938, idl_max=56320958.0, idl_min=56320761.0, label='Benign', labelEncoded=0.0),\n",
              " Row(dst_port=0, protocol=0, fl_dur=112641466, tot_fw_pk=3, tot_bw_pk=0, tot_l_fw_pkt=0, tot_l_bwd_pkt =0.0, fw_pkt_l_max=0, fw_pkt_l_min=0, fw_pkt_l_avg=0.0, fw_pkt_l_std=0.0, Bw_pkt_l_max=0, Bw_pkt_l_min=0, Bw_pkt_l_avg=0.0, Bw_pkt_l_std=0.0, fl_byt_s=0.0, fl_pkt_s=0.0266331761, fl_iat_avg=56320733.0, fl_iat_std=114.5512985522, fl_iat_max=56320814.0, fl_iat_min=56320652.0, fw_iat_tot=112641466.0, fw_iat_avg=56320733.0, fw_iat_std=114.5512985522, fw_iat_max=56320814.0, fw_iat_min=56320652.0, bw_iat_tot=0.0, bw_iat_avg=0.0, bw_iat_std=0.0, bw_iat_max=0.0, bw_iat_min=0.0, fw_psh_flag=0, bw_psh_flag=0, fw_urg_flag=0, bw_urg_flag=0, fw_hdr_len=0, bw_hdr_len=0, fw_pkt_s=0.0266331761, bw_pkt_s=0.0, pkt_len_min=0, pkt_len_max=0, pkt_len_avg=0.0, pkt_len_std=0.0, pkt_len_va=0.0, fin_cnt=0, syn_cnt=0, rst_cnt=0, pst_cnt=0, ack_cnt=0, urg_cnt=0, cwe_cnt=0, ece_cnt=0, down_up_ratio=0, pkt_size_avg=0.0, fw_seg_avg=0.0, bw_seg_avg=0.0, fw_byt_blk_avg=0, fw_pkt_blk_avg=0, fw_blk_rate_avg=0, bw_byt_blk_avg=0, bw_pkt_blk_avg=0, bw_blk_rate_avg=0, subfl_fw_pk=3, subfl_fw_byt=0, subfl_bw_pkt=0, subfl_bw_byt=0, fw_win_byt=-1, bw_win_byt=-1, Fw_act_pkt=0, fw_seg_min=0, atv_avg=0.0, atv_std=0.0, atv_max=0.0, atv_min=0.0, idl_avg=56320733.0, idl_std=114.5512985522, idl_max=56320814.0, idl_min=56320652.0, label='Benign', labelEncoded=0.0),\n",
              " Row(dst_port=0, protocol=0, fl_dur=112638623, tot_fw_pk=3, tot_bw_pk=0, tot_l_fw_pkt=0, tot_l_bwd_pkt =0.0, fw_pkt_l_max=0, fw_pkt_l_min=0, fw_pkt_l_avg=0.0, fw_pkt_l_std=0.0, Bw_pkt_l_max=0, Bw_pkt_l_min=0, Bw_pkt_l_avg=0.0, Bw_pkt_l_std=0.0, fl_byt_s=0.0, fl_pkt_s=0.0266338483, fl_iat_avg=56319311.5, fl_iat_std=301.9345955667, fl_iat_max=56319525.0, fl_iat_min=56319098.0, fw_iat_tot=112638623.0, fw_iat_avg=56319311.5, fw_iat_std=301.9345955667, fw_iat_max=56319525.0, fw_iat_min=56319098.0, bw_iat_tot=0.0, bw_iat_avg=0.0, bw_iat_std=0.0, bw_iat_max=0.0, bw_iat_min=0.0, fw_psh_flag=0, bw_psh_flag=0, fw_urg_flag=0, bw_urg_flag=0, fw_hdr_len=0, bw_hdr_len=0, fw_pkt_s=0.0266338483, bw_pkt_s=0.0, pkt_len_min=0, pkt_len_max=0, pkt_len_avg=0.0, pkt_len_std=0.0, pkt_len_va=0.0, fin_cnt=0, syn_cnt=0, rst_cnt=0, pst_cnt=0, ack_cnt=0, urg_cnt=0, cwe_cnt=0, ece_cnt=0, down_up_ratio=0, pkt_size_avg=0.0, fw_seg_avg=0.0, bw_seg_avg=0.0, fw_byt_blk_avg=0, fw_pkt_blk_avg=0, fw_blk_rate_avg=0, bw_byt_blk_avg=0, bw_pkt_blk_avg=0, bw_blk_rate_avg=0, subfl_fw_pk=3, subfl_fw_byt=0, subfl_bw_pkt=0, subfl_bw_byt=0, fw_win_byt=-1, bw_win_byt=-1, Fw_act_pkt=0, fw_seg_min=0, atv_avg=0.0, atv_std=0.0, atv_max=0.0, atv_min=0.0, idl_avg=56319311.5, idl_std=301.9345955667, idl_max=56319525.0, idl_min=56319098.0, label='Benign', labelEncoded=0.0),\n",
              " Row(dst_port=22, protocol=6, fl_dur=6453966, tot_fw_pk=15, tot_bw_pk=10, tot_l_fw_pkt=1239, tot_l_bwd_pkt =2273.0, fw_pkt_l_max=744, fw_pkt_l_min=0, fw_pkt_l_avg=82.6, fw_pkt_l_std=196.7412368715, Bw_pkt_l_max=976, Bw_pkt_l_min=0, Bw_pkt_l_avg=227.3, Bw_pkt_l_std=371.6778922072, fl_byt_s=544.1615279659, fl_pkt_s=3.8735871865, fl_iat_avg=268915.25, fl_iat_std=247443.778966007, fl_iat_max=673900.0, fl_iat_min=22.0, fw_iat_tot=6453966.0, fw_iat_avg=460997.571428571, fw_iat_std=123109.423587757, fw_iat_max=673900.0, fw_iat_min=229740.0, bw_iat_tot=5637902.0, bw_iat_avg=626433.555555556, bw_iat_std=455082.21422401, bw_iat_max=1167293.0, bw_iat_min=554.0, fw_psh_flag=0, bw_psh_flag=0, fw_urg_flag=0, bw_urg_flag=0, fw_hdr_len=488, bw_hdr_len=328, fw_pkt_s=2.3241523119, bw_pkt_s=1.5494348746, pkt_len_min=0, pkt_len_max=976, pkt_len_avg=135.0769230769, pkt_len_std=277.8347599674, pkt_len_va=77192.1538461539, fin_cnt=0, syn_cnt=0, rst_cnt=0, pst_cnt=1, ack_cnt=0, urg_cnt=0, cwe_cnt=0, ece_cnt=0, down_up_ratio=0, pkt_size_avg=140.48, fw_seg_avg=82.6, bw_seg_avg=227.3, fw_byt_blk_avg=0, fw_pkt_blk_avg=0, fw_blk_rate_avg=0, bw_byt_blk_avg=0, bw_pkt_blk_avg=0, bw_blk_rate_avg=0, subfl_fw_pk=15, subfl_fw_byt=1239, subfl_bw_pkt=10, subfl_bw_byt=2273, fw_win_byt=65535, bw_win_byt=233, Fw_act_pkt=6, fw_seg_min=32, atv_avg=0.0, atv_std=0.0, atv_max=0.0, atv_min=0.0, idl_avg=0.0, idl_std=0.0, idl_max=0.0, idl_min=0.0, label='Benign', labelEncoded=0.0),\n",
              " Row(dst_port=22, protocol=6, fl_dur=8804066, tot_fw_pk=14, tot_bw_pk=11, tot_l_fw_pkt=1143, tot_l_bwd_pkt =2209.0, fw_pkt_l_max=744, fw_pkt_l_min=0, fw_pkt_l_avg=81.6428571429, fw_pkt_l_std=203.7455453568, Bw_pkt_l_max=976, Bw_pkt_l_min=0, Bw_pkt_l_avg=200.8181818182, Bw_pkt_l_std=362.2498635422, fl_byt_s=380.7331748762, fl_pkt_s=2.839597068, fl_iat_avg=366836.083333333, fl_iat_std=511356.609732762, fl_iat_max=1928102.0, fl_iat_min=21.0, fw_iat_tot=8804066.0, fw_iat_avg=677235.846153846, fw_iat_std=532416.970958985, fw_iat_max=1928102.0, fw_iat_min=246924.0, bw_iat_tot=7715481.0, bw_iat_avg=771548.1, bw_iat_std=755543.082716951, bw_iat_max=2174893.0, bw_iat_min=90.0, fw_psh_flag=0, bw_psh_flag=0, fw_urg_flag=0, bw_urg_flag=0, fw_hdr_len=456, bw_hdr_len=360, fw_pkt_s=1.5901743581, bw_pkt_s=1.2494227099, pkt_len_min=0, pkt_len_max=976, pkt_len_avg=128.9230769231, pkt_len_std=279.7630315931, pkt_len_va=78267.3538461539, fin_cnt=0, syn_cnt=0, rst_cnt=0, pst_cnt=1, ack_cnt=0, urg_cnt=0, cwe_cnt=0, ece_cnt=0, down_up_ratio=0, pkt_size_avg=134.08, fw_seg_avg=81.6428571429, bw_seg_avg=200.8181818182, fw_byt_blk_avg=0, fw_pkt_blk_avg=0, fw_blk_rate_avg=0, bw_byt_blk_avg=0, bw_pkt_blk_avg=0, bw_blk_rate_avg=0, subfl_fw_pk=14, subfl_fw_byt=1143, subfl_bw_pkt=11, subfl_bw_byt=2209, fw_win_byt=5808, bw_win_byt=233, Fw_act_pkt=6, fw_seg_min=32, atv_avg=0.0, atv_std=0.0, atv_max=0.0, atv_min=0.0, idl_avg=0.0, idl_std=0.0, idl_max=0.0, idl_min=0.0, label='Benign', labelEncoded=0.0)]"
            ]
          },
          "metadata": {
            "tags": []
          },
          "execution_count": 31
        }
      ]
    },
    {
      "cell_type": "code",
      "source": [
        "assembler = VectorAssembler(inputCols=IDS_df2_indexed.drop('label').drop('labelEncoded').columns, outputCol='features', handleInvalid='skip')"
      ],
      "metadata": {
        "id": "TP3NyCLVHtya"
      },
      "execution_count": null,
      "outputs": []
    },
    {
      "cell_type": "code",
      "metadata": {
        "id": "kMerkvbDfXxV"
      },
      "source": [
        "# instantiating an assembler\n",
        "assembler = VectorAssembler(inputCols=IDS_df2_indexed.drop('label').drop('labelEncoded').columns, outputCol='features', handleInvalid='skip')\n",
        "pipeline = Pipeline(stages=[assembler])\n",
        "\n",
        "# splitting data into training and test set\n",
        "piped_data = pipeline.fit(IDS_df2_indexed).transform(IDS_df2_indexed)\n",
        "``\n",
        "training, test = piped_data.randomSplit([0.8, 0.2])\n",
        "\n",
        "# instantiating and fitting a machine learning model - lodistic regression\n",
        "lr = LogisticRegression(labelCol='labelEncoded',featuresCol='features')\n",
        "lrModel = lr.fit(training)"
      ],
      "execution_count": null,
      "outputs": []
    },
    {
      "cell_type": "code",
      "metadata": {
        "colab": {
          "base_uri": "https://localhost:8080/"
        },
        "id": "q4lajTcOnBfw",
        "outputId": "99e0dde7-6616-4a12-8e89-4b88759ea3bb"
      },
      "source": [
        "# Make predictions\n",
        "predictions = lrModel.transform(test)\n",
        "predictions.show()"
      ],
      "execution_count": null,
      "outputs": [
        {
          "output_type": "stream",
          "text": [
            "+--------+--------+-------------------+---------+---------+---------+------------+--------------+------------+------------+------------+------------+------------+------------+------------+------------+--------+----------------+------------+--------------+-----------+-----------+------------+------------+--------------+-----------+-----------+----------+----------+----------+----------+----------+-----------+-----------+-----------+-----------+----------+----------+----------------+----------------+-----------+-----------+-----------+-----------+----------+-------+-------+-------+-------+-------+-------+-------+-------+-------------+------------+----------+----------+--------------+--------------+---------------+--------------+--------------+---------------+-----------+------------+------------+------------+----------+----------+----------+----------+-------+-------+-------+-------+------------+--------------+-----------+-----------+--------------+------------+--------------------+--------------------+--------------------+--------------------+----------+\n",
            "|dst_port|protocol|          timestamp|   fl_dur|tot_fw_pk|tot_bw_pk|tot_l_fw_pkt|tot_l_bwd_pkt |fw_pkt_l_max|fw_pkt_l_min|fw_pkt_l_avg|fw_pkt_l_std|Bw_pkt_l_max|Bw_pkt_l_min|Bw_pkt_l_avg|Bw_pkt_l_std|fl_byt_s|        fl_pkt_s|  fl_iat_avg|    fl_iat_std| fl_iat_max| fl_iat_min|  fw_iat_tot|  fw_iat_avg|    fw_iat_std| fw_iat_max| fw_iat_min|bw_iat_tot|bw_iat_avg|bw_iat_std|bw_iat_max|bw_iat_min|fw_psh_flag|bw_psh_flag|fw_urg_flag|bw_urg_flag|fw_hdr_len|bw_hdr_len|        fw_pkt_s|        bw_pkt_s|pkt_len_min|pkt_len_max|pkt_len_avg|pkt_len_std|pkt_len_va|fin_cnt|syn_cnt|rst_cnt|pst_cnt|ack_cnt|urg_cnt|cwe_cnt|ece_cnt|down_up_ratio|pkt_size_avg|fw_seg_avg|bw_seg_avg|fw_byt_blk_avg|fw_pkt_blk_avg|fw_blk_rate_avg|bw_byt_blk_avg|bw_pkt_blk_avg|bw_blk_rate_avg|subfl_fw_pk|subfl_fw_byt|subfl_bw_pkt|subfl_bw_byt|fw_win_byt|bw_win_byt|Fw_act_pkt|fw_seg_min|atv_avg|atv_std|atv_max|atv_min|     idl_avg|       idl_std|    idl_max|    idl_min|         label|labelEncoded|         featuresVec|            features|       rawPrediction|         probability|prediction|\n",
            "+--------+--------+-------------------+---------+---------+---------+------------+--------------+------------+------------+------------+------------+------------+------------+------------+------------+--------+----------------+------------+--------------+-----------+-----------+------------+------------+--------------+-----------+-----------+----------+----------+----------+----------+----------+-----------+-----------+-----------+-----------+----------+----------+----------------+----------------+-----------+-----------+-----------+-----------+----------+-------+-------+-------+-------+-------+-------+-------+-------+-------------+------------+----------+----------+--------------+--------------+---------------+--------------+--------------+---------------+-----------+------------+------------+------------+----------+----------+----------+----------+-------+-------+-------+-------+------------+--------------+-----------+-----------+--------------+------------+--------------------+--------------------+--------------------+--------------------+----------+\n",
            "|       0|       0|14/02/2018 09:07:37|112640642|        3|        0|           0|           0.0|           0|           0|         0.0|         0.0|           0|           0|         0.0|         0.0|     0.0|    0.0266333709| 5.6320321E7| 53.7401153702|5.6320359E7|5.6320283E7|1.12640642E8| 5.6320321E7| 53.7401153702|5.6320359E7|5.6320283E7|       0.0|       0.0|       0.0|       0.0|       0.0|          0|          0|          0|          0|         0|         0|    0.0266333709|             0.0|          0|          0|        0.0|        0.0|       0.0|      0|      0|      0|      0|      0|      0|      0|      0|            0|         0.0|       0.0|       0.0|             0|             0|              0|             0|             0|              0|          3|           0|           0|           0|        -1|        -1|         0|         0|    0.0|    0.0|    0.0|    0.0| 5.6320321E7| 53.7401153702|5.6320359E7|5.6320283E7|        Benign|         0.0|(78,[2,3,16,17,18...|(78,[2,3,16,17,18...|[NaN,NaN,NaN,NaN,...|[NaN,NaN,NaN,NaN,...|       0.0|\n",
            "|       0|       0|14/02/2018 09:21:42|112641308|        3|        0|           0|           0.0|           0|           0|         0.0|         0.0|           0|           0|         0.0|         0.0|     0.0|    0.0266332135| 5.6320654E7|190.9188309204|5.6320789E7|5.6320519E7|1.12641308E8| 5.6320654E7|190.9188309204|5.6320789E7|5.6320519E7|       0.0|       0.0|       0.0|       0.0|       0.0|          0|          0|          0|          0|         0|         0|    0.0266332135|             0.0|          0|          0|        0.0|        0.0|       0.0|      0|      0|      0|      0|      0|      0|      0|      0|            0|         0.0|       0.0|       0.0|             0|             0|              0|             0|             0|              0|          3|           0|           0|           0|        -1|        -1|         0|         0|    0.0|    0.0|    0.0|    0.0| 5.6320654E7|190.9188309204|5.6320789E7|5.6320519E7|        Benign|         0.0|(78,[2,3,16,17,18...|(78,[2,3,16,17,18...|[NaN,NaN,NaN,NaN,...|[NaN,NaN,NaN,NaN,...|       0.0|\n",
            "|       0|       0|14/02/2018 09:30:09|112642177|        3|        0|           0|           0.0|           0|           0|         0.0|         0.0|           0|           0|         0.0|         0.0|     0.0|     0.026633008|5.63210885E7|775.6961389616|5.6321637E7| 5.632054E7|1.12642177E8|5.63210885E7|775.6961389616|5.6321637E7| 5.632054E7|       0.0|       0.0|       0.0|       0.0|       0.0|          0|          0|          0|          0|         0|         0|     0.026633008|             0.0|          0|          0|        0.0|        0.0|       0.0|      0|      0|      0|      0|      0|      0|      0|      0|            0|         0.0|       0.0|       0.0|             0|             0|              0|             0|             0|              0|          3|           0|           0|           0|        -1|        -1|         0|         0|    0.0|    0.0|    0.0|    0.0|5.63210885E7|775.6961389616|5.6321637E7| 5.632054E7|        Benign|         0.0|(78,[2,3,16,17,18...|(78,[2,3,16,17,18...|[NaN,NaN,NaN,NaN,...|[NaN,NaN,NaN,NaN,...|       0.0|\n",
            "|       0|       0|14/02/2018 09:32:58|112641271|        3|        0|           0|           0.0|           0|           0|         0.0|         0.0|           0|           0|         0.0|         0.0|     0.0|    0.0266332222|5.63206355E7| 17.6776695297|5.6320648E7|5.6320623E7|1.12641271E8|5.63206355E7| 17.6776695297|5.6320648E7|5.6320623E7|       0.0|       0.0|       0.0|       0.0|       0.0|          0|          0|          0|          0|         0|         0|    0.0266332222|             0.0|          0|          0|        0.0|        0.0|       0.0|      0|      0|      0|      0|      0|      0|      0|      0|            0|         0.0|       0.0|       0.0|             0|             0|              0|             0|             0|              0|          3|           0|           0|           0|        -1|        -1|         0|         0|    0.0|    0.0|    0.0|    0.0|5.63206355E7| 17.6776695297|5.6320648E7|5.6320623E7|        Benign|         0.0|(78,[2,3,16,17,18...|(78,[2,3,16,17,18...|[NaN,NaN,NaN,NaN,...|[NaN,NaN,NaN,NaN,...|       0.0|\n",
            "|       0|       0|14/02/2018 09:38:36|112641263|        3|        0|           0|           0.0|           0|           0|         0.0|         0.0|           0|           0|         0.0|         0.0|     0.0|    0.0266332241|5.63206315E7|225.5670631985|5.6320791E7|5.6320472E7|1.12641263E8|5.63206315E7|225.5670631985|5.6320791E7|5.6320472E7|       0.0|       0.0|       0.0|       0.0|       0.0|          0|          0|          0|          0|         0|         0|    0.0266332241|             0.0|          0|          0|        0.0|        0.0|       0.0|      0|      0|      0|      0|      0|      0|      0|      0|            0|         0.0|       0.0|       0.0|             0|             0|              0|             0|             0|              0|          3|           0|           0|           0|        -1|        -1|         0|         0|    0.0|    0.0|    0.0|    0.0|5.63206315E7|225.5670631985|5.6320791E7|5.6320472E7|        Benign|         0.0|(78,[2,3,16,17,18...|(78,[2,3,16,17,18...|[NaN,NaN,NaN,NaN,...|[NaN,NaN,NaN,NaN,...|       0.0|\n",
            "|       0|       0|14/02/2018 09:52:41|112641062|        3|        0|           0|           0.0|           0|           0|         0.0|         0.0|           0|           0|         0.0|         0.0|     0.0|    0.0266332716| 5.6320531E7|124.4507934888|5.6320619E7|5.6320443E7|1.12641062E8| 5.6320531E7|124.4507934888|5.6320619E7|5.6320443E7|       0.0|       0.0|       0.0|       0.0|       0.0|          0|          0|          0|          0|         0|         0|    0.0266332716|             0.0|          0|          0|        0.0|        0.0|       0.0|      0|      0|      0|      0|      0|      0|      0|      0|            0|         0.0|       0.0|       0.0|             0|             0|              0|             0|             0|              0|          3|           0|           0|           0|        -1|        -1|         0|         0|    0.0|    0.0|    0.0|    0.0| 5.6320531E7|124.4507934888|5.6320619E7|5.6320443E7|        Benign|         0.0|(78,[2,3,16,17,18...|(78,[2,3,16,17,18...|[NaN,NaN,NaN,NaN,...|[NaN,NaN,NaN,NaN,...|       0.0|\n",
            "|       0|       0|14/02/2018 10:01:08|112641216|        3|        0|           0|           0.0|           0|           0|         0.0|         0.0|           0|           0|         0.0|         0.0|     0.0|    0.0266332352| 5.6320608E7| 56.5685424949|5.6320648E7|5.6320568E7|1.12641216E8| 5.6320608E7| 56.5685424949|5.6320648E7|5.6320568E7|       0.0|       0.0|       0.0|       0.0|       0.0|          0|          0|          0|          0|         0|         0|    0.0266332352|             0.0|          0|          0|        0.0|        0.0|       0.0|      0|      0|      0|      0|      0|      0|      0|      0|            0|         0.0|       0.0|       0.0|             0|             0|              0|             0|             0|              0|          3|           0|           0|           0|        -1|        -1|         0|         0|    0.0|    0.0|    0.0|    0.0| 5.6320608E7| 56.5685424949|5.6320648E7|5.6320568E7|        Benign|         0.0|(78,[2,3,16,17,18...|(78,[2,3,16,17,18...|[NaN,NaN,NaN,NaN,...|[NaN,NaN,NaN,NaN,...|       0.0|\n",
            "|       0|       0|14/02/2018 10:12:23|112641224|        3|        0|           0|           0.0|           0|           0|         0.0|         0.0|           0|           0|         0.0|         0.0|     0.0|    0.0266332333| 5.6320612E7|  11.313708499| 5.632062E7|5.6320604E7|1.12641224E8| 5.6320612E7|  11.313708499| 5.632062E7|5.6320604E7|       0.0|       0.0|       0.0|       0.0|       0.0|          0|          0|          0|          0|         0|         0|    0.0266332333|             0.0|          0|          0|        0.0|        0.0|       0.0|      0|      0|      0|      0|      0|      0|      0|      0|            0|         0.0|       0.0|       0.0|             0|             0|              0|             0|             0|              0|          3|           0|           0|           0|        -1|        -1|         0|         0|    0.0|    0.0|    0.0|    0.0| 5.6320612E7|  11.313708499| 5.632062E7|5.6320604E7|        Benign|         0.0|(78,[2,3,16,17,18...|(78,[2,3,16,17,18...|[NaN,NaN,NaN,NaN,...|[NaN,NaN,NaN,NaN,...|       0.0|\n",
            "|       0|       0|14/02/2018 10:15:12|112641200|        3|        0|           0|           0.0|           0|           0|         0.0|         0.0|           0|           0|         0.0|         0.0|     0.0|     0.026633239|   5.63206E7| 46.6690475583|5.6320633E7|5.6320567E7|  1.126412E8|   5.63206E7| 46.6690475583|5.6320633E7|5.6320567E7|       0.0|       0.0|       0.0|       0.0|       0.0|          0|          0|          0|          0|         0|         0|     0.026633239|             0.0|          0|          0|        0.0|        0.0|       0.0|      0|      0|      0|      0|      0|      0|      0|      0|            0|         0.0|       0.0|       0.0|             0|             0|              0|             0|             0|              0|          3|           0|           0|           0|        -1|        -1|         0|         0|    0.0|    0.0|    0.0|    0.0|   5.63206E7| 46.6690475583|5.6320633E7|5.6320567E7|        Benign|         0.0|(78,[2,3,16,17,18...|(78,[2,3,16,17,18...|[NaN,NaN,NaN,NaN,...|[NaN,NaN,NaN,NaN,...|       0.0|\n",
            "|       0|       0|14/02/2018 10:23:39|112641238|        3|        0|           0|           0.0|           0|           0|         0.0|         0.0|           0|           0|         0.0|         0.0|     0.0|      0.02663323| 5.6320619E7| 80.6101730553|5.6320676E7|5.6320562E7|1.12641238E8| 5.6320619E7| 80.6101730553|5.6320676E7|5.6320562E7|       0.0|       0.0|       0.0|       0.0|       0.0|          0|          0|          0|          0|         0|         0|      0.02663323|             0.0|          0|          0|        0.0|        0.0|       0.0|      0|      0|      0|      0|      0|      0|      0|      0|            0|         0.0|       0.0|       0.0|             0|             0|              0|             0|             0|              0|          3|           0|           0|           0|        -1|        -1|         0|         0|    0.0|    0.0|    0.0|    0.0| 5.6320619E7| 80.6101730553|5.6320676E7|5.6320562E7|        Benign|         0.0|(78,[2,3,16,17,18...|(78,[2,3,16,17,18...|[NaN,NaN,NaN,NaN,...|[NaN,NaN,NaN,NaN,...|       0.0|\n",
            "|       0|       0|14/02/2018 10:40:33|112641146|        3|        0|           0|           0.0|           0|           0|         0.0|         0.0|           0|           0|         0.0|         0.0|     0.0|    0.0266332518| 5.6320573E7|  1.4142135624|5.6320574E7|5.6320572E7|1.12641146E8| 5.6320573E7|  1.4142135624|5.6320574E7|5.6320572E7|       0.0|       0.0|       0.0|       0.0|       0.0|          0|          0|          0|          0|         0|         0|    0.0266332518|             0.0|          0|          0|        0.0|        0.0|       0.0|      0|      0|      0|      0|      0|      0|      0|      0|            0|         0.0|       0.0|       0.0|             0|             0|              0|             0|             0|              0|          3|           0|           0|           0|        -1|        -1|         0|         0|    0.0|    0.0|    0.0|    0.0| 5.6320573E7|  1.4142135624|5.6320574E7|5.6320572E7|        Benign|         0.0|(78,[2,3,16,17,18...|(78,[2,3,16,17,18...|[NaN,NaN,NaN,NaN,...|[NaN,NaN,NaN,NaN,...|       0.0|\n",
            "|       0|       0|14/02/2018 11:00:16|112639193|        3|        0|           0|           0.0|           0|           0|         0.0|         0.0|           0|           0|         0.0|         0.0|     0.0|    0.0266337135|5.63195965E7| 20.5060966544|5.6319611E7|5.6319582E7|1.12639193E8|5.63195965E7| 20.5060966544|5.6319611E7|5.6319582E7|       0.0|       0.0|       0.0|       0.0|       0.0|          0|          0|          0|          0|         0|         0|    0.0266337135|             0.0|          0|          0|        0.0|        0.0|       0.0|      0|      0|      0|      0|      0|      0|      0|      0|            0|         0.0|       0.0|       0.0|             0|             0|              0|             0|             0|              0|          3|           0|           0|           0|        -1|        -1|         0|         0|    0.0|    0.0|    0.0|    0.0|5.63195965E7| 20.5060966544|5.6319611E7|5.6319582E7|        Benign|         0.0|(78,[2,3,16,17,18...|(78,[2,3,16,17,18...|[NaN,NaN,NaN,NaN,...|[NaN,NaN,NaN,NaN,...|       0.0|\n",
            "|       0|       0|14/02/2018 11:19:58|112641613|        3|        0|           0|           0.0|           0|           0|         0.0|         0.0|           0|           0|         0.0|         0.0|     0.0|    0.0266331413|5.63208065E7| 10.6066017178|5.6320814E7|5.6320799E7|1.12641613E8|5.63208065E7| 10.6066017178|5.6320814E7|5.6320799E7|       0.0|       0.0|       0.0|       0.0|       0.0|          0|          0|          0|          0|         0|         0|    0.0266331413|             0.0|          0|          0|        0.0|        0.0|       0.0|      0|      0|      0|      0|      0|      0|      0|      0|            0|         0.0|       0.0|       0.0|             0|             0|              0|             0|             0|              0|          3|           0|           0|           0|        -1|        -1|         0|         0|    0.0|    0.0|    0.0|    0.0|5.63208065E7| 10.6066017178|5.6320814E7|5.6320799E7|        Benign|         0.0|(78,[2,3,16,17,18...|(78,[2,3,16,17,18...|[NaN,NaN,NaN,NaN,...|[NaN,NaN,NaN,NaN,...|       0.0|\n",
            "|       0|       0|14/02/2018 11:22:47|112641293|        3|        0|           0|           0.0|           0|           0|         0.0|         0.0|           0|           0|         0.0|         0.0|     0.0|     0.026633217|5.63206465E7|109.6015510839|5.6320724E7|5.6320569E7|1.12641293E8|5.63206465E7|109.6015510839|5.6320724E7|5.6320569E7|       0.0|       0.0|       0.0|       0.0|       0.0|          0|          0|          0|          0|         0|         0|     0.026633217|             0.0|          0|          0|        0.0|        0.0|       0.0|      0|      0|      0|      0|      0|      0|      0|      0|            0|         0.0|       0.0|       0.0|             0|             0|              0|             0|             0|              0|          3|           0|           0|           0|        -1|        -1|         0|         0|    0.0|    0.0|    0.0|    0.0|5.63206465E7|109.6015510839|5.6320724E7|5.6320569E7|        Benign|         0.0|(78,[2,3,16,17,18...|(78,[2,3,16,17,18...|[NaN,NaN,NaN,NaN,...|[NaN,NaN,NaN,NaN,...|       0.0|\n",
            "|       0|       0|14/02/2018 11:31:14|112640743|        3|        0|           0|           0.0|           0|           0|         0.0|         0.0|           0|           0|         0.0|         0.0|     0.0|     0.026633347|5.63203715E7| 13.4350288425|5.6320381E7|5.6320362E7|1.12640743E8|5.63203715E7| 13.4350288425|5.6320381E7|5.6320362E7|       0.0|       0.0|       0.0|       0.0|       0.0|          0|          0|          0|          0|         0|         0|     0.026633347|             0.0|          0|          0|        0.0|        0.0|       0.0|      0|      0|      0|      0|      0|      0|      0|      0|            0|         0.0|       0.0|       0.0|             0|             0|              0|             0|             0|              0|          3|           0|           0|           0|        -1|        -1|         0|         0|    0.0|    0.0|    0.0|    0.0|5.63203715E7| 13.4350288425|5.6320381E7|5.6320362E7|        Benign|         0.0|(78,[2,3,16,17,18...|(78,[2,3,16,17,18...|[NaN,NaN,NaN,NaN,...|[NaN,NaN,NaN,NaN,...|       0.0|\n",
            "|       0|       0|14/02/2018 11:36:52|112640733|        3|        0|           0|           0.0|           0|           0|         0.0|         0.0|           0|           0|         0.0|         0.0|     0.0|    0.0266333494|5.63203665E7| 51.6187950266|5.6320403E7| 5.632033E7|1.12640733E8|5.63203665E7| 51.6187950266|5.6320403E7| 5.632033E7|       0.0|       0.0|       0.0|       0.0|       0.0|          0|          0|          0|          0|         0|         0|    0.0266333494|             0.0|          0|          0|        0.0|        0.0|       0.0|      0|      0|      0|      0|      0|      0|      0|      0|            0|         0.0|       0.0|       0.0|             0|             0|              0|             0|             0|              0|          3|           0|           0|           0|        -1|        -1|         0|         0|    0.0|    0.0|    0.0|    0.0|5.63203665E7| 51.6187950266|5.6320403E7| 5.632033E7|        Benign|         0.0|(78,[2,3,16,17,18...|(78,[2,3,16,17,18...|[NaN,NaN,NaN,NaN,...|[NaN,NaN,NaN,NaN,...|       0.0|\n",
            "|      21|       6|14/02/2018 10:33:26|        2|        1|        1|           0|           0.0|           0|           0|         0.0|         0.0|           0|           0|         0.0|         0.0|     0.0|       1000000.0|         2.0|           0.0|        2.0|        2.0|         0.0|         0.0|           0.0|        0.0|        0.0|       0.0|       0.0|       0.0|       0.0|       0.0|          0|          0|          0|          0|        40|        20|        500000.0|        500000.0|          0|          0|        0.0|        0.0|       0.0|      0|      0|      0|      1|      0|      0|      0|      0|            1|         0.0|       0.0|       0.0|             0|             0|              0|             0|             0|              0|          1|           0|           1|           0|     26883|         0|         0|        40|    0.0|    0.0|    0.0|    0.0|         0.0|           0.0|        0.0|        0.0|FTP-BruteForce|         3.0|(78,[0,1,2,3,4,16...|(78,[0,1,2,3,4,16...|[NaN,NaN,NaN,NaN,...|[NaN,NaN,NaN,NaN,...|       0.0|\n",
            "|      21|       6|14/02/2018 10:33:26|        2|        1|        1|           0|           0.0|           0|           0|         0.0|         0.0|           0|           0|         0.0|         0.0|     0.0|       1000000.0|         2.0|           0.0|        2.0|        2.0|         0.0|         0.0|           0.0|        0.0|        0.0|       0.0|       0.0|       0.0|       0.0|       0.0|          0|          0|          0|          0|        40|        20|        500000.0|        500000.0|          0|          0|        0.0|        0.0|       0.0|      0|      0|      0|      1|      0|      0|      0|      0|            1|         0.0|       0.0|       0.0|             0|             0|              0|             0|             0|              0|          1|           0|           1|           0|     26883|         0|         0|        40|    0.0|    0.0|    0.0|    0.0|         0.0|           0.0|        0.0|        0.0|FTP-BruteForce|         3.0|(78,[0,1,2,3,4,16...|(78,[0,1,2,3,4,16...|[NaN,NaN,NaN,NaN,...|[NaN,NaN,NaN,NaN,...|       0.0|\n",
            "|      21|       6|14/02/2018 10:33:26|        2|        1|        1|           0|           0.0|           0|           0|         0.0|         0.0|           0|           0|         0.0|         0.0|     0.0|       1000000.0|         2.0|           0.0|        2.0|        2.0|         0.0|         0.0|           0.0|        0.0|        0.0|       0.0|       0.0|       0.0|       0.0|       0.0|          0|          0|          0|          0|        40|        20|        500000.0|        500000.0|          0|          0|        0.0|        0.0|       0.0|      0|      0|      0|      1|      0|      0|      0|      0|            1|         0.0|       0.0|       0.0|             0|             0|              0|             0|             0|              0|          1|           0|           1|           0|     26883|         0|         0|        40|    0.0|    0.0|    0.0|    0.0|         0.0|           0.0|        0.0|        0.0|FTP-BruteForce|         3.0|(78,[0,1,2,3,4,16...|(78,[0,1,2,3,4,16...|[NaN,NaN,NaN,NaN,...|[NaN,NaN,NaN,NaN,...|       0.0|\n",
            "|      21|       6|14/02/2018 10:33:26|        3|        1|        1|           0|           0.0|           0|           0|         0.0|         0.0|           0|           0|         0.0|         0.0|     0.0|666666.666666667|         3.0|           0.0|        3.0|        3.0|         0.0|         0.0|           0.0|        0.0|        0.0|       0.0|       0.0|       0.0|       0.0|       0.0|          0|          0|          0|          0|        40|        20|333333.333333333|333333.333333333|          0|          0|        0.0|        0.0|       0.0|      0|      0|      0|      1|      0|      0|      0|      0|            1|         0.0|       0.0|       0.0|             0|             0|              0|             0|             0|              0|          1|           0|           1|           0|     26883|         0|         0|        40|    0.0|    0.0|    0.0|    0.0|         0.0|           0.0|        0.0|        0.0|FTP-BruteForce|         3.0|(78,[0,1,2,3,4,16...|(78,[0,1,2,3,4,16...|[NaN,NaN,NaN,NaN,...|[NaN,NaN,NaN,NaN,...|       0.0|\n",
            "+--------+--------+-------------------+---------+---------+---------+------------+--------------+------------+------------+------------+------------+------------+------------+------------+------------+--------+----------------+------------+--------------+-----------+-----------+------------+------------+--------------+-----------+-----------+----------+----------+----------+----------+----------+-----------+-----------+-----------+-----------+----------+----------+----------------+----------------+-----------+-----------+-----------+-----------+----------+-------+-------+-------+-------+-------+-------+-------+-------+-------------+------------+----------+----------+--------------+--------------+---------------+--------------+--------------+---------------+-----------+------------+------------+------------+----------+----------+----------+----------+-------+-------+-------+-------+------------+--------------+-----------+-----------+--------------+------------+--------------------+--------------------+--------------------+--------------------+----------+\n",
            "only showing top 20 rows\n",
            "\n"
          ],
          "name": "stdout"
        }
      ]
    },
    {
      "cell_type": "code",
      "metadata": {
        "colab": {
          "base_uri": "https://localhost:8080/"
        },
        "id": "sDF92gPpPWAF",
        "outputId": "ce122c33-7d11-4407-e17f-22e3767070a2"
      },
      "source": [
        "# evaluating the model\n",
        "eval = MulticlassClassificationEvaluator(predictionCol='prediction', labelCol='labelEncoded')\n",
        "eval.evaluate(predictions)"
      ],
      "execution_count": null,
      "outputs": [
        {
          "output_type": "execute_result",
          "data": {
            "text/plain": [
              "0.88648"
            ]
          },
          "metadata": {},
          "execution_count": 2
        }
      ]
    },
    {
      "cell_type": "markdown",
      "metadata": {
        "id": "xkZvJ2kPj2Mz"
      },
      "source": [
        "# Machine Learning Technique: Clustering\n",
        "# What to achieve: Creating clusters for tot_fw_pk and tot_bw_pk for different attacks\n",
        "\n",
        "- Initially I created two arrays for attacks and columns.\n",
        "- Used a for loop to iterate over the attacks.\n",
        "- Using select I fetched the data for particular label and saved in a dataframe.\n",
        "- Created a VectorAssembler for the columns which can used a feature columns.\n",
        "- Created a KMeans Model having clusters k = 4, which means that data should be divided in 4 different clusters.\n",
        "\n",
        "# RESULT\n",
        "- In the first table we can visualize the data range for two columns and in which cluster they belong to. Here **features** columns define the combination of all the feature column that we have passed in the Vector Assember input.\n",
        "- In the second table we can see the number being divided based on the cluster, and their count.\n"
      ]
    },
    {
      "cell_type": "code",
      "metadata": {
        "colab": {
          "base_uri": "https://localhost:8080/"
        },
        "id": "iFrXKUNHjtq5",
        "outputId": "ccb49956-6d8f-4854-d04d-f4fa9466071d"
      },
      "source": [
        "attacks = ['Benign', 'Brute Force -Web']\n",
        "columns = ['tot_fw_pk', 'tot_bw_pk']\n",
        "\n",
        "\n",
        "for idx,attack in enumerate(attacks):\n",
        "    #Fetching the records with label\n",
        "    crwkDataFramePySparkML = IDS_df2.select(columns).where( \"label = '\"+attack+\"'\")\n",
        "    # Creating a vectorAssember with input columns    \n",
        "    vecAssembler = VectorAssembler(inputCols=columns, outputCol=\"features\")\n",
        "    # Creating a new dataframe using vector assember transform \n",
        "    new_df = vecAssembler.transform(crwkDataFramePySparkML)\n",
        "    kmeans = KMeans(k=4)  # 4 clusters here\n",
        "    model = kmeans.fit(new_df.select('features'))\n",
        "    transformed = model.transform(new_df)\n",
        "    print(\"Clusters for \"+attack)\n",
        "    # Displaying the clusters\n",
        "    transformed.show()\n",
        "    # Grouping the cluster and showing the count of which cluster has how many features.\n",
        "    transformed.groupBy(\"prediction\").count().show()"
      ],
      "execution_count": null,
      "outputs": [
        {
          "output_type": "stream",
          "text": [
            "Clusters for Benign\n",
            "+---------+---------+-----------+----------+\n",
            "|tot_fw_pk|tot_bw_pk|   features|prediction|\n",
            "+---------+---------+-----------+----------+\n",
            "|        3|        0|  [3.0,0.0]|         0|\n",
            "|        3|        0|  [3.0,0.0]|         0|\n",
            "|        3|        0|  [3.0,0.0]|         0|\n",
            "|       15|       10|[15.0,10.0]|         0|\n",
            "|       14|       11|[14.0,11.0]|         0|\n",
            "|       16|       12|[16.0,12.0]|         0|\n",
            "|        3|        0|  [3.0,0.0]|         0|\n",
            "|        3|        0|  [3.0,0.0]|         0|\n",
            "|        5|        3|  [5.0,3.0]|         0|\n",
            "|        5|        3|  [5.0,3.0]|         0|\n",
            "|        5|        3|  [5.0,3.0]|         0|\n",
            "|        5|        3|  [5.0,3.0]|         0|\n",
            "|        5|        3|  [5.0,3.0]|         0|\n",
            "|        5|        3|  [5.0,3.0]|         0|\n",
            "|        5|        3|  [5.0,3.0]|         0|\n",
            "|        5|        3|  [5.0,3.0]|         0|\n",
            "|        5|        3|  [5.0,3.0]|         0|\n",
            "|        5|        3|  [5.0,3.0]|         0|\n",
            "|        5|        3|  [5.0,3.0]|         0|\n",
            "|        5|        3|  [5.0,3.0]|         0|\n",
            "+---------+---------+-----------+----------+\n",
            "only showing top 20 rows\n",
            "\n",
            "+----------+-------+\n",
            "|prediction|  count|\n",
            "+----------+-------+\n",
            "|         1|    218|\n",
            "|         3|      3|\n",
            "|         2|   1573|\n",
            "|         0|6110352|\n",
            "+----------+-------+\n",
            "\n",
            "Clusters for Brute Force -Web\n",
            "+---------+---------+-------------+----------+\n",
            "|tot_fw_pk|tot_bw_pk|     features|prediction|\n",
            "+---------+---------+-------------+----------+\n",
            "|       13|       10|  [13.0,10.0]|         0|\n",
            "|        2|        0|    [2.0,0.0]|         3|\n",
            "|        4|        7|    [4.0,7.0]|         0|\n",
            "|        2|        0|    [2.0,0.0]|         3|\n",
            "|        4|        4|    [4.0,4.0]|         0|\n",
            "|        2|        0|    [2.0,0.0]|         3|\n",
            "|        4|        4|    [4.0,4.0]|         0|\n",
            "|        2|        0|    [2.0,0.0]|         3|\n",
            "|        5|        5|    [5.0,5.0]|         0|\n",
            "|        2|        0|    [2.0,0.0]|         3|\n",
            "|       16|       13|  [16.0,13.0]|         0|\n",
            "|        2|        0|    [2.0,0.0]|         3|\n",
            "|       10|       12|  [10.0,12.0]|         0|\n",
            "|        2|        0|    [2.0,0.0]|         3|\n",
            "|        3|        1|    [3.0,1.0]|         3|\n",
            "|        3|        1|    [3.0,1.0]|         3|\n",
            "|       22|       17|  [22.0,17.0]|         0|\n",
            "|        3|        1|    [3.0,1.0]|         3|\n",
            "|      154|      108|[154.0,108.0]|         1|\n",
            "|        2|        0|    [2.0,0.0]|         3|\n",
            "+---------+---------+-------------+----------+\n",
            "only showing top 20 rows\n",
            "\n",
            "+----------+-----+\n",
            "|prediction|count|\n",
            "+----------+-----+\n",
            "|         1|  128|\n",
            "|         3|  219|\n",
            "|         2|    1|\n",
            "|         0|  263|\n",
            "+----------+-----+\n",
            "\n"
          ],
          "name": "stdout"
        }
      ]
    },
    {
      "cell_type": "code",
      "metadata": {
        "id": "ZrQu11N_DCfZ",
        "colab": {
          "base_uri": "https://localhost:8080/"
        },
        "outputId": "a289fc0b-293e-4975-edf4-d15319dc171a"
      },
      "source": [
        "# install nbconvert\n",
        "!pip install nbconvert "
      ],
      "execution_count": null,
      "outputs": [
        {
          "output_type": "stream",
          "text": [
            "Requirement already satisfied: nbconvert in /usr/local/lib/python3.6/dist-packages (5.6.1)\n",
            "Requirement already satisfied: bleach in /usr/local/lib/python3.6/dist-packages (from nbconvert) (3.2.1)\n",
            "Requirement already satisfied: traitlets>=4.2 in /usr/local/lib/python3.6/dist-packages (from nbconvert) (4.3.3)\n",
            "Requirement already satisfied: pygments in /usr/local/lib/python3.6/dist-packages (from nbconvert) (2.6.1)\n",
            "Requirement already satisfied: testpath in /usr/local/lib/python3.6/dist-packages (from nbconvert) (0.4.4)\n",
            "Requirement already satisfied: nbformat>=4.4 in /usr/local/lib/python3.6/dist-packages (from nbconvert) (5.0.8)\n",
            "Requirement already satisfied: entrypoints>=0.2.2 in /usr/local/lib/python3.6/dist-packages (from nbconvert) (0.3)\n",
            "Requirement already satisfied: jupyter-core in /usr/local/lib/python3.6/dist-packages (from nbconvert) (4.7.0)\n",
            "Requirement already satisfied: jinja2>=2.4 in /usr/local/lib/python3.6/dist-packages (from nbconvert) (2.11.2)\n",
            "Requirement already satisfied: defusedxml in /usr/local/lib/python3.6/dist-packages (from nbconvert) (0.6.0)\n",
            "Requirement already satisfied: mistune<2,>=0.8.1 in /usr/local/lib/python3.6/dist-packages (from nbconvert) (0.8.4)\n",
            "Requirement already satisfied: pandocfilters>=1.4.1 in /usr/local/lib/python3.6/dist-packages (from nbconvert) (1.4.3)\n",
            "Requirement already satisfied: packaging in /usr/local/lib/python3.6/dist-packages (from bleach->nbconvert) (20.8)\n",
            "Requirement already satisfied: webencodings in /usr/local/lib/python3.6/dist-packages (from bleach->nbconvert) (0.5.1)\n",
            "Requirement already satisfied: six>=1.9.0 in /usr/local/lib/python3.6/dist-packages (from bleach->nbconvert) (1.15.0)\n",
            "Requirement already satisfied: ipython-genutils in /usr/local/lib/python3.6/dist-packages (from traitlets>=4.2->nbconvert) (0.2.0)\n",
            "Requirement already satisfied: decorator in /usr/local/lib/python3.6/dist-packages (from traitlets>=4.2->nbconvert) (4.4.2)\n",
            "Requirement already satisfied: jsonschema!=2.5.0,>=2.4 in /usr/local/lib/python3.6/dist-packages (from nbformat>=4.4->nbconvert) (2.6.0)\n",
            "Requirement already satisfied: MarkupSafe>=0.23 in /usr/local/lib/python3.6/dist-packages (from jinja2>=2.4->nbconvert) (1.1.1)\n",
            "Requirement already satisfied: pyparsing>=2.0.2 in /usr/local/lib/python3.6/dist-packages (from packaging->bleach->nbconvert) (2.4.7)\n"
          ],
          "name": "stdout"
        }
      ]
    }
  ]
}